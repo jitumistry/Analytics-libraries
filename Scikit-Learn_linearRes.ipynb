{
 "cells": [
  {
   "cell_type": "markdown",
   "id": "2e31b21c-7997-4eab-8219-b5292657658e",
   "metadata": {},
   "source": [
    "# Simple Linear Regression with scikit-learn Cheatsheet"
   ]
  },
  {
   "cell_type": "markdown",
   "id": "3273fb87-43ed-4be8-ad46-f99b561d753e",
   "metadata": {},
   "source": [
    "### 1. Import Libraries"
   ]
  },
  {
   "cell_type": "code",
   "execution_count": null,
   "id": "807e0008-69de-4aca-ab27-1066497f2d8c",
   "metadata": {},
   "outputs": [],
   "source": [
    "import numpy as np\n",
    "import pandas as pd\n",
    "from sklearn.model_selection import train_test_split\n",
    "from sklearn.linear_model import LinearRegression\n",
    "from sklearn.metrics import mean_squared_error, r2_score"
   ]
  },
  {
   "cell_type": "markdown",
   "id": "1cdda5fa-5f9e-4470-9946-cac60119c1f8",
   "metadata": {},
   "source": [
    "### 2. Loading Data"
   ]
  },
  {
   "cell_type": "code",
   "execution_count": null,
   "id": "2b834787-0ad1-44a8-84b5-2f576541094c",
   "metadata": {},
   "outputs": [],
   "source": [
    "# Example using a CSV file\n",
    "data = pd.read_csv('data.csv')\n",
    "\n",
    "# Features and target variable\n",
    "X = data[['feature1', 'feature2', 'feature3']]  # Replace with your feature columns\n",
    "y = data['target']  # Replace with your target column\n"
   ]
  },
  {
   "cell_type": "markdown",
   "id": "5325cfba-4883-4ab4-98c6-b2dc2645b44d",
   "metadata": {},
   "source": [
    "### 3. Splitting Data"
   ]
  },
  {
   "cell_type": "code",
   "execution_count": null,
   "id": "37be53c3-578e-410b-b96b-f5d0d989341e",
   "metadata": {},
   "outputs": [],
   "source": [
    "X_train, X_test, y_train, y_test = train_test_split(X, y, test_size=0.2, random_state=42)\n"
   ]
  },
  {
   "cell_type": "markdown",
   "id": "318fd90f-89f8-4f51-a8a8-23748c38c376",
   "metadata": {},
   "source": [
    "### 4. Creating and Training the Model"
   ]
  },
  {
   "cell_type": "code",
   "execution_count": null,
   "id": "596224ac-aef4-4ec1-aa0c-3868069bcc5d",
   "metadata": {},
   "outputs": [],
   "source": [
    "model = LinearRegression()\n",
    "model.fit(X_train, y_train)"
   ]
  },
  {
   "cell_type": "markdown",
   "id": "25d462b3-d039-4dd0-a6ec-548e9748a6b9",
   "metadata": {},
   "source": [
    "### 5. Making Predictions"
   ]
  },
  {
   "cell_type": "code",
   "execution_count": null,
   "id": "e86b23af-9e96-4972-b1d2-55a931bc0554",
   "metadata": {},
   "outputs": [],
   "source": [
    "y_pred = model.predict(X_test)"
   ]
  },
  {
   "cell_type": "markdown",
   "id": "9edee041-2836-4842-9af7-1420e7df98a0",
   "metadata": {},
   "source": [
    "### 6. Evaluating the Model"
   ]
  },
  {
   "cell_type": "code",
   "execution_count": null,
   "id": "01b54d8f-a505-45a6-bfab-0aa2effba87e",
   "metadata": {},
   "outputs": [],
   "source": [
    "# Mean Squared Error (MSE)\n",
    "mse = mean_squared_error(y_test, y_pred)\n",
    "print('Mean Squared Error:', mse)\n",
    "\n",
    "# R-squared (R2)\n",
    "r2 = r2_score(y_test, y_pred)\n",
    "print('R-squared:', r2)\n"
   ]
  },
  {
   "cell_type": "markdown",
   "id": "82a2d320-e38c-4729-937c-afc673c6c3e4",
   "metadata": {},
   "source": [
    "### 7. Model Coefficients"
   ]
  },
  {
   "cell_type": "code",
   "execution_count": null,
   "id": "26b12226-036c-4d58-910a-1a2916f8900a",
   "metadata": {},
   "outputs": [],
   "source": [
    "# Coefficients (weights) and Intercept\n",
    "print('Coefficients:', model.coef_)\n",
    "print('Intercept:', model.intercept_)\n"
   ]
  },
  {
   "cell_type": "markdown",
   "id": "060ef91d-6cac-4c00-bb85-267242568db5",
   "metadata": {},
   "source": [
    "# Full Example Code"
   ]
  },
  {
   "cell_type": "code",
   "execution_count": null,
   "id": "599e453f-f2bf-4507-8396-97eeef72f89c",
   "metadata": {},
   "outputs": [],
   "source": [
    "import numpy as np\n",
    "import pandas as pd\n",
    "from sklearn.model_selection import train_test_split\n",
    "from sklearn.linear_model import LinearRegression\n",
    "from sklearn.metrics import mean_squared_error, r2_score\n",
    "\n",
    "# Load data\n",
    "data = pd.read_csv('data.csv')\n",
    "X = data[['feature1', 'feature2', 'feature3']]\n",
    "y = data['target']\n",
    "\n",
    "# Split data\n",
    "X_train, X_test, y_train, y_test = train_test_split(X, y, test_size=0.2, random_state=42)\n",
    "\n",
    "# Create and train the model\n",
    "model = LinearRegression()\n",
    "model.fit(X_train, y_train)\n",
    "\n",
    "# Make predictions\n",
    "y_pred = model.predict(X_test)\n",
    "\n",
    "# Evaluate the model\n",
    "mse = mean_squared_error(y_test, y_pred)\n",
    "r2 = r2_score(y_test, y_pred)\n",
    "print('Mean Squared Error:', mse)\n",
    "print('R-squared:', r2)\n",
    "\n",
    "# Model coefficients\n",
    "print('Coefficients:', model.coef_)\n",
    "print('Intercept:', model.intercept_)\n"
   ]
  },
  {
   "cell_type": "markdown",
   "id": "1e5beb68-e1b0-4e38-b404-5f375bf5af2e",
   "metadata": {},
   "source": [
    "# Additional Tips"
   ]
  },
  {
   "cell_type": "markdown",
   "id": "f0632ad8-4512-4cbd-9d53-297cfb5d1b96",
   "metadata": {},
   "source": [
    "### Feature Scaling: While linear regression doesn't always require feature scaling,it's a good practice to scale features when they vary in magnitude."
   ]
  },
  {
   "cell_type": "code",
   "execution_count": null,
   "id": "d1b709c2-97cb-49e4-a1cc-63bcaf6ad952",
   "metadata": {},
   "outputs": [],
   "source": [
    "from sklearn.preprocessing import StandardScaler\n",
    "\n",
    "scaler = StandardScaler()\n",
    "X_train = scaler.fit_transform(X_train)\n",
    "X_test = scaler.transform(X_test)\n"
   ]
  },
  {
   "cell_type": "markdown",
   "id": "d38b13a4-2ecd-4863-9f46-175e3c036c49",
   "metadata": {},
   "source": [
    "### Cross-validation: To get a better estimate of the model's performance, consider using cross-validation."
   ]
  },
  {
   "cell_type": "code",
   "execution_count": null,
   "id": "53761f64-ebc0-4825-90b3-701c6d88e97e",
   "metadata": {},
   "outputs": [],
   "source": [
    "from sklearn.model_selection import cross_val_score\n",
    "\n",
    "scores = cross_val_score(model, X, y, cv=5, scoring='neg_mean_squared_error')\n",
    "print('Cross-validated MSE:', -scores.mean())\n"
   ]
  }
 ],
 "metadata": {
  "kernelspec": {
   "display_name": "Python 3 (ipykernel)",
   "language": "python",
   "name": "python3"
  },
  "language_info": {
   "codemirror_mode": {
    "name": "ipython",
    "version": 3
   },
   "file_extension": ".py",
   "mimetype": "text/x-python",
   "name": "python",
   "nbconvert_exporter": "python",
   "pygments_lexer": "ipython3",
   "version": "3.11.2"
  }
 },
 "nbformat": 4,
 "nbformat_minor": 5
}
