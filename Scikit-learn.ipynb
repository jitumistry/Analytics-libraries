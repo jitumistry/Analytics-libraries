{
 "cells": [
  {
   "cell_type": "markdown",
   "id": "588c6d9c-553b-404c-b55f-8bf1201b570f",
   "metadata": {},
   "source": [
    "# Step-by-Step Learning Path for scikit-learn"
   ]
  },
  {
   "cell_type": "markdown",
   "id": "2f39ed5c-5ba6-49a3-8d77-228efa1f41ec",
   "metadata": {},
   "source": [
    "### Step 1: Basics of scikit-learn"
   ]
  },
  {
   "cell_type": "markdown",
   "id": "c69a567e-02fd-4d07-b4e0-e82191da545a",
   "metadata": {},
   "source": [
    "##### Installation and Setup"
   ]
  },
  {
   "cell_type": "code",
   "execution_count": null,
   "id": "9d6966ff-dd97-4960-bf62-fc00c791ed1b",
   "metadata": {},
   "outputs": [],
   "source": [
    "pip install scikit-learn"
   ]
  },
  {
   "cell_type": "markdown",
   "id": "32cc5c4e-2bd7-4cb8-a45c-e85ab11b07b5",
   "metadata": {},
   "source": [
    "##### Import the necessary libraries"
   ]
  },
  {
   "cell_type": "code",
   "execution_count": null,
   "id": "1bba2beb-2d91-47de-bb33-20792a4183bd",
   "metadata": {},
   "outputs": [],
   "source": [
    "import numpy as np\n",
    "import pandas as pd\n",
    "import matplotlib.pyplot as plt\n",
    "import seaborn as sns"
   ]
  },
  {
   "cell_type": "markdown",
   "id": "0f16055a-93a8-46be-8fec-397ebc055c6c",
   "metadata": {},
   "source": [
    "#### Loading and Splitting Data"
   ]
  },
  {
   "cell_type": "markdown",
   "id": "1ae945b6-9139-4252-ad84-a1fb57134504",
   "metadata": {},
   "source": [
    "##### 1. Load data using pandas:"
   ]
  },
  {
   "cell_type": "code",
   "execution_count": null,
   "id": "99e1fab8-ddae-4f97-9bba-da784e72903a",
   "metadata": {},
   "outputs": [],
   "source": [
    "data = pd.read_csv('data.csv')"
   ]
  },
  {
   "cell_type": "markdown",
   "id": "26b37665-8f85-4126-8a15-c38e134c73c6",
   "metadata": {},
   "source": [
    "##### 2. Split data into features (X) and target (y):"
   ]
  },
  {
   "cell_type": "code",
   "execution_count": null,
   "id": "1e7e62c9-4ef6-4458-b16f-1df9119cac96",
   "metadata": {},
   "outputs": [],
   "source": [
    "X = data.drop('target', axis=1)\n",
    "y = data['target']"
   ]
  },
  {
   "cell_type": "markdown",
   "id": "161ebda1-d505-4732-a75e-1a9c1056cd0f",
   "metadata": {},
   "source": [
    "##### 3. Split data into training and testing sets:"
   ]
  },
  {
   "cell_type": "code",
   "execution_count": null,
   "id": "21c994ee-5966-4ad1-a206-f1b9f0a36ecb",
   "metadata": {},
   "outputs": [],
   "source": [
    "from sklearn.model_selection import train_test_split\n",
    "X_train, X_test, y_train, y_test = train_test_split(X, y, test_size=0.2, random_state=42)"
   ]
  },
  {
   "cell_type": "markdown",
   "id": "4a1b6cb4-3743-4ca1-8e12-e348b0ec1fb1",
   "metadata": {},
   "source": [
    "## Step 2: Supervised Learning"
   ]
  },
  {
   "cell_type": "markdown",
   "id": "7a16119d-3fcd-4b16-96de-514652d0d86a",
   "metadata": {},
   "source": [
    "### 1. Linear Regression"
   ]
  },
  {
   "cell_type": "code",
   "execution_count": null,
   "id": "d882fbeb-12e7-4b1b-aecc-fa653262ebdb",
   "metadata": {},
   "outputs": [],
   "source": [
    "from sklearn.linear_model import LinearRegression\n",
    "model = LinearRegression()\n",
    "model.fit(X_train, y_train)\n",
    "y_pred = model.predict(X_test)\n"
   ]
  },
  {
   "cell_type": "markdown",
   "id": "a3b5a993-fbe0-4de3-a9d3-fbd8ded20f2e",
   "metadata": {},
   "source": [
    "### 2. Logistic Regression"
   ]
  },
  {
   "cell_type": "code",
   "execution_count": null,
   "id": "82d77ad1-8a64-4cc0-8f6e-12cbb93f8dba",
   "metadata": {},
   "outputs": [],
   "source": [
    "from sklearn.linear_model import LogisticRegression\n",
    "model = LogisticRegression()\n",
    "model.fit(X_train, y_train)\n",
    "y_pred = model.predict(X_test)\n"
   ]
  },
  {
   "cell_type": "markdown",
   "id": "cbc776c4-9316-45eb-97ba-a50cd991630d",
   "metadata": {},
   "source": [
    "### 3. Decision Trees"
   ]
  },
  {
   "cell_type": "code",
   "execution_count": null,
   "id": "1eaa94bf-d0c8-423f-a013-b8699c012396",
   "metadata": {},
   "outputs": [],
   "source": [
    "from sklearn.tree import DecisionTreeClassifier\n",
    "model = DecisionTreeClassifier()\n",
    "model.fit(X_train, y_train)\n",
    "y_pred = model.predict(X_test)\n"
   ]
  },
  {
   "cell_type": "markdown",
   "id": "76b6d841-287b-4f0a-8049-7183d50f9362",
   "metadata": {},
   "source": [
    "### 4. Random Forests"
   ]
  },
  {
   "cell_type": "code",
   "execution_count": null,
   "id": "42846f11-6360-4343-8fec-5352bfe2649d",
   "metadata": {},
   "outputs": [],
   "source": [
    "from sklearn.ensemble import RandomForestClassifier\n",
    "model = RandomForestClassifier()\n",
    "model.fit(X_train, y_train)\n",
    "y_pred = model.predict(X_test)\n"
   ]
  },
  {
   "cell_type": "markdown",
   "id": "80f94357-1a31-46a5-9bb4-9808dc8c8046",
   "metadata": {},
   "source": [
    "### 5. Support Vector Machines (SVM)"
   ]
  },
  {
   "cell_type": "code",
   "execution_count": null,
   "id": "3aa1ea33-235b-4bd5-ab81-be05a8b49253",
   "metadata": {},
   "outputs": [],
   "source": [
    "from sklearn.svm import SVC\n",
    "model = SVC()\n",
    "model.fit(X_train, y_train)\n",
    "y_pred = model.predict(X_test)\n"
   ]
  },
  {
   "cell_type": "markdown",
   "id": "3bc4e335-0cd4-4efa-807c-3a662c4983fa",
   "metadata": {},
   "source": [
    "### 6. K-Nearest Neighbors (KNN)"
   ]
  },
  {
   "cell_type": "code",
   "execution_count": null,
   "id": "953777bf-2b51-47c5-8097-ae3c14640a70",
   "metadata": {},
   "outputs": [],
   "source": [
    "from sklearn.neighbors import KNeighborsClassifier\n",
    "model = KNeighborsClassifier()\n",
    "model.fit(X_train, y_train)\n",
    "y_pred = model.predict(X_test)\n"
   ]
  },
  {
   "cell_type": "markdown",
   "id": "1e2a1584-ee20-4b01-978f-48f28645cb56",
   "metadata": {},
   "source": [
    "## Step 3: Unsupervised Learning"
   ]
  },
  {
   "cell_type": "markdown",
   "id": "19d39b7c-7d95-47f7-ad73-bd1014c034d0",
   "metadata": {},
   "source": [
    "### 1. K-Means Clustering"
   ]
  },
  {
   "cell_type": "code",
   "execution_count": null,
   "id": "db6f7868-e7ca-475b-9f1d-270277cebdd8",
   "metadata": {},
   "outputs": [],
   "source": [
    "from sklearn.cluster import KMeans\n",
    "model = KMeans(n_clusters=3)\n",
    "model.fit(X)\n",
    "clusters = model.predict(X)\n"
   ]
  },
  {
   "cell_type": "markdown",
   "id": "1b2fff7f-c1eb-44b3-bdf8-16206dff914a",
   "metadata": {},
   "source": [
    "### 2. Principal Component Analysis (PCA)"
   ]
  },
  {
   "cell_type": "code",
   "execution_count": null,
   "id": "01e12920-aafc-46f0-b648-3c2a00afd957",
   "metadata": {},
   "outputs": [],
   "source": [
    "from sklearn.decomposition import PCA\n",
    "pca = PCA(n_components=2)\n",
    "X_pca = pca.fit_transform(X)\n"
   ]
  },
  {
   "cell_type": "markdown",
   "id": "7611098d-38e9-4577-b3d1-62940f144532",
   "metadata": {},
   "source": [
    "## Step 4: Model Evaluation and Selection"
   ]
  },
  {
   "cell_type": "markdown",
   "id": "579ed96b-d03c-4005-b5d6-09ef98fa023c",
   "metadata": {},
   "source": [
    "### 1. Cross-Validation"
   ]
  },
  {
   "cell_type": "code",
   "execution_count": null,
   "id": "dfac6f6d-6f54-4f2a-aa00-e0ecf0075a44",
   "metadata": {},
   "outputs": [],
   "source": [
    "from sklearn.model_selection import cross_val_score\n",
    "scores = cross_val_score(model, X, y, cv=5)\n"
   ]
  },
  {
   "cell_type": "markdown",
   "id": "5d21df77-3487-4fcd-85df-7166d8faebd6",
   "metadata": {},
   "source": [
    "### 2. Grid Search and Random Search for Hyperparameter Tuning"
   ]
  },
  {
   "cell_type": "code",
   "execution_count": null,
   "id": "ce44eea1-4468-4cb7-adce-31217c3f7cc4",
   "metadata": {},
   "outputs": [],
   "source": [
    "from sklearn.model_selection import GridSearchCV\n",
    "param_grid = {'parameter_name': [values]}\n",
    "grid_search = GridSearchCV(model, param_grid, cv=5)\n",
    "grid_search.fit(X_train, y_train)\n"
   ]
  },
  {
   "cell_type": "markdown",
   "id": "f196691a-4883-4aab-994b-0bfe75b794b4",
   "metadata": {},
   "source": [
    "## Step 5: Advanced Topics"
   ]
  },
  {
   "cell_type": "markdown",
   "id": "2a288194-270f-48a5-a9ae-781dd2076d29",
   "metadata": {},
   "source": [
    "### 1. Pipelines"
   ]
  },
  {
   "cell_type": "code",
   "execution_count": null,
   "id": "7e408104-6589-4b73-b85d-f3d47b38c0ac",
   "metadata": {},
   "outputs": [],
   "source": [
    "from sklearn.pipeline import Pipeline\n",
    "from sklearn.preprocessing import StandardScaler\n",
    "pipeline = Pipeline([\n",
    "    ('scaler', StandardScaler()),\n",
    "    ('model', LogisticRegression())\n",
    "])\n",
    "pipeline.fit(X_train, y_train)\n",
    "y_pred = pipeline.predict(X_test)\n"
   ]
  },
  {
   "cell_type": "markdown",
   "id": "11bbc98a-e3ce-4aa8-a0ec-d955a9bca10a",
   "metadata": {},
   "source": [
    "### 2. Ensemble Methods"
   ]
  },
  {
   "cell_type": "code",
   "execution_count": null,
   "id": "b3cf1038-5d66-45ec-80fa-9609fbcd415b",
   "metadata": {},
   "outputs": [],
   "source": [
    "from sklearn.ensemble import AdaBoostClassifier\n",
    "model = AdaBoostClassifier()\n",
    "model.fit(X_train, y_train)\n",
    "y_pred = model.predict(X_test)\n"
   ]
  },
  {
   "cell_type": "code",
   "execution_count": null,
   "id": "d6b29a36-885a-4637-be0a-f765a2223751",
   "metadata": {},
   "outputs": [],
   "source": []
  },
  {
   "cell_type": "code",
   "execution_count": null,
   "id": "6f68dabb-4bf7-43d8-8b98-4bea8c41a8af",
   "metadata": {},
   "outputs": [],
   "source": [
    "Perfect — let’s build your **Customer Churn Prediction** models using **Logistic Regression**, **Decision Tree**, **Random Forest**, **AdaBoost**, and **SVC** step by step. You’ll be able to compare their performances easily.\n",
    "\n",
    "Here's the **full code** after preprocessing (assuming you've already scaled `X` and split into `X_train`, `X_test`, `y_train`, `y_test`):\n",
    "\n",
    "---\n",
    "\n",
    "### ✅ Model Training & Evaluation with 5 Classifiers\n",
    "\n",
    "```python\n",
    "from sklearn.linear_model import LogisticRegression\n",
    "from sklearn.tree import DecisionTreeClassifier\n",
    "from sklearn.ensemble import RandomForestClassifier, AdaBoostClassifier\n",
    "from sklearn.svm import SVC\n",
    "from sklearn.metrics import classification_report, confusion_matrix, accuracy_score\n",
    "\n",
    "# Initialize models\n",
    "models = {\n",
    "    \"Logistic Regression\": LogisticRegression(max_iter=1000, random_state=42),\n",
    "    \"Decision Tree\": DecisionTreeClassifier(random_state=42),\n",
    "    \"Random Forest\": RandomForestClassifier(n_estimators=100, random_state=42),\n",
    "    \"AdaBoost\": AdaBoostClassifier(n_estimators=100, random_state=42),\n",
    "    \"SVC\": SVC(kernel='rbf', random_state=42)\n",
    "}\n",
    "\n",
    "# Train and evaluate each model\n",
    "for name, model in models.items():\n",
    "    print(f\"\\n--- {name} ---\")\n",
    "    model.fit(X_train, y_train)\n",
    "    y_pred = model.predict(X_test)\n",
    "\n",
    "    print(\"Confusion Matrix:\")\n",
    "    print(confusion_matrix(y_test, y_pred))\n",
    "\n",
    "    print(\"\\nClassification Report:\")\n",
    "    print(classification_report(y_test, y_pred))\n",
    "\n",
    "    accuracy = accuracy_score(y_test, y_pred)\n",
    "    print(f\"Accuracy: {accuracy:.4f}\")\n",
    "```\n",
    "\n",
    "---\n",
    "\n",
    "### 🧠 Tips\n",
    "\n",
    "* You can store accuracy scores in a dictionary to compare them visually later.\n",
    "* You can also plot a bar chart of model performances using `matplotlib` if needed.\n",
    "\n",
    "---\n",
    "\n",
    "Would you like me to help add:\n",
    "\n",
    "* a feature importance chart for `RandomForest` or `AdaBoost`?\n",
    "* a final model selection code block?\n",
    "* model saving (joblib/pickle)?\n",
    "* visualizations like confusion matrix heatmaps?\n",
    "\n",
    "Let me know what you'd like next!\n"
   ]
  },
  {
   "cell_type": "code",
   "execution_count": null,
   "id": "82dae1a0-1819-44ec-adce-794d106b873a",
   "metadata": {},
   "outputs": [],
   "source": []
  },
  {
   "cell_type": "code",
   "execution_count": null,
   "id": "86f8ff5d-565d-4bb8-9323-38f65476c686",
   "metadata": {},
   "outputs": [],
   "source": []
  },
  {
   "cell_type": "code",
   "execution_count": null,
   "id": "23021ca6-e770-4b4f-94eb-59893fa607e0",
   "metadata": {},
   "outputs": [],
   "source": []
  },
  {
   "cell_type": "markdown",
   "id": "cc85c6c1-98cc-4302-b876-7de169a54bbf",
   "metadata": {},
   "source": [
    "# Recommended Order of Learning"
   ]
  },
  {
   "cell_type": "markdown",
   "id": "2a4dafd2-aa70-44b4-b830-9ce377fb8c0b",
   "metadata": {},
   "source": [
    "## 1.  Basics of scikit-learn"
   ]
  },
  {
   "cell_type": "markdown",
   "id": "7c4c9420-f094-4427-bdac-0ae185988924",
   "metadata": {},
   "source": [
    "## 2. Supervised Learning"
   ]
  },
  {
   "cell_type": "markdown",
   "id": "93798c2c-e67d-47cc-bfb4-ab11c48d9740",
   "metadata": {},
   "source": [
    "#### 1. Linear Regression\n",
    "#### 2. Logistic Regression\n",
    "#### 3. Decision Trees\n",
    "#### 4. Random Forests\n",
    "#### 5. Support Vector Machines (SVM)\n",
    "#### 6. K-Nearest Neighbors (KNN)"
   ]
  },
  {
   "cell_type": "markdown",
   "id": "ee581b63-3955-456c-ad72-26aff0079e5f",
   "metadata": {},
   "source": [
    "## 3. Unsupervised Learning"
   ]
  },
  {
   "cell_type": "markdown",
   "id": "00f453f3-bfc7-4c32-bad7-f5259c4b8a70",
   "metadata": {},
   "source": [
    "#### 1. K-Means Clustering\n",
    "#### 2. Principal Component Analysis (PCA)"
   ]
  },
  {
   "cell_type": "markdown",
   "id": "36255346-c723-4ddd-af99-e4393f65e7b9",
   "metadata": {},
   "source": [
    "## 4. Model Evaluation and Selection"
   ]
  },
  {
   "cell_type": "markdown",
   "id": "806cdd21-43a4-4bb5-82cd-4e87711809c6",
   "metadata": {},
   "source": [
    "#### 1. Cross-Validation\n",
    "#### 2. Hyperparameter Tuning (Grid Search, Random Search)"
   ]
  },
  {
   "cell_type": "markdown",
   "id": "e9eabb82-eeac-4a58-b43a-142ad30c5c49",
   "metadata": {},
   "source": [
    "## 5. Advanced Topics"
   ]
  },
  {
   "cell_type": "markdown",
   "id": "ae913787-b9bb-402c-932a-a5f44075f034",
   "metadata": {},
   "source": [
    "#### 1. Pipelines\n",
    "#### 2. Advanced Ensemble Methods"
   ]
  },
  {
   "cell_type": "code",
   "execution_count": null,
   "id": "206d6f88-b999-41f0-a300-7dac5ebd5a93",
   "metadata": {},
   "outputs": [],
   "source": []
  },
  {
   "cell_type": "markdown",
   "id": "935f0753-1925-433c-a38d-ba6f6cb2d899",
   "metadata": {},
   "source": [
    "# Projects to Implement"
   ]
  },
  {
   "cell_type": "markdown",
   "id": "8a7cba2f-1f3c-4d89-addb-b478313acc37",
   "metadata": {},
   "source": [
    "### 1. Predicting House Prices - Linear Regression.\n",
    "### 2. Customer Churn Prediction - Logistic Regression.\n",
    "### 3. Iris Flower Classification - Decision Trees and Random Forests.\n",
    "### 4. Digit Recognition - Support Vector Machines.\n",
    "### 5. Wine Quality Prediction - K-Nearest Neighbors.\n",
    "### 6. Customer Segmentation - K-Means Clustering.\n",
    "### 7. Dimensionality Reduction on MNIST - Principal Component Analysis (PCA)."
   ]
  },
  {
   "cell_type": "code",
   "execution_count": null,
   "id": "00d98e80-4c6d-4a4d-b1de-b3db91eff7cf",
   "metadata": {},
   "outputs": [],
   "source": []
  },
  {
   "cell_type": "code",
   "execution_count": null,
   "id": "0b6e9ed3-bd8a-4607-ba8d-8f2c0adad43d",
   "metadata": {},
   "outputs": [],
   "source": []
  },
  {
   "cell_type": "code",
   "execution_count": null,
   "id": "bf8eecf4-e81b-43f7-a229-c55bfeb06f86",
   "metadata": {},
   "outputs": [],
   "source": []
  },
  {
   "cell_type": "code",
   "execution_count": null,
   "id": "e53e934f-643d-4a31-b244-d936820efdf8",
   "metadata": {},
   "outputs": [],
   "source": []
  },
  {
   "cell_type": "code",
   "execution_count": null,
   "id": "40885d48-dfc0-4176-8d06-e0a2a4a9a772",
   "metadata": {},
   "outputs": [],
   "source": []
  },
  {
   "cell_type": "code",
   "execution_count": null,
   "id": "b260d6d9-8412-4c29-afdf-83698991b595",
   "metadata": {},
   "outputs": [],
   "source": []
  },
  {
   "cell_type": "code",
   "execution_count": null,
   "id": "dbd4892d-2b16-481e-9371-141e74fe4fcb",
   "metadata": {},
   "outputs": [],
   "source": []
  },
  {
   "cell_type": "code",
   "execution_count": null,
   "id": "da693599-6233-4343-827f-f0291dcdbdde",
   "metadata": {},
   "outputs": [],
   "source": []
  },
  {
   "cell_type": "code",
   "execution_count": null,
   "id": "cda0d1cc-ccd0-459f-898a-337a66868f0f",
   "metadata": {},
   "outputs": [],
   "source": []
  },
  {
   "cell_type": "code",
   "execution_count": null,
   "id": "4599d9ec-6942-4316-9fbd-3c175e3657c0",
   "metadata": {},
   "outputs": [],
   "source": []
  },
  {
   "cell_type": "code",
   "execution_count": null,
   "id": "e127f199-635b-4bcd-83ed-545b6932bdd1",
   "metadata": {},
   "outputs": [],
   "source": []
  }
 ],
 "metadata": {
  "kernelspec": {
   "display_name": "Python 3 (ipykernel)",
   "language": "python",
   "name": "python3"
  },
  "language_info": {
   "codemirror_mode": {
    "name": "ipython",
    "version": 3
   },
   "file_extension": ".py",
   "mimetype": "text/x-python",
   "name": "python",
   "nbconvert_exporter": "python",
   "pygments_lexer": "ipython3",
   "version": "3.11.2"
  }
 },
 "nbformat": 4,
 "nbformat_minor": 5
}
