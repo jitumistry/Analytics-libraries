{
 "cells": [
  {
   "cell_type": "code",
   "execution_count": 199,
   "id": "640c5bc8-919e-4011-b8a6-21c096abe231",
   "metadata": {},
   "outputs": [
    {
     "name": "stdout",
     "output_type": "stream",
     "text": [
      "[1 2 3 4]\n"
     ]
    }
   ],
   "source": [
    "import numpy as np\n",
    "\n",
    "# 1D array\n",
    "\n",
    "oneDarray = np.array([1,2,3,4])\n",
    "print(oneDarray)"
   ]
  },
  {
   "cell_type": "code",
   "execution_count": 200,
   "id": "ec9d5bce-fe18-46de-bba7-479906fa0ef0",
   "metadata": {},
   "outputs": [
    {
     "name": "stdout",
     "output_type": "stream",
     "text": [
      "[[1 2 3]\n",
      " [4 5 6]]\n"
     ]
    }
   ],
   "source": [
    "# 2d array\n",
    "twoDarray = np.array([[1,2,3],[4,5,6]])\n",
    "print(twoDarray)"
   ]
  },
  {
   "cell_type": "code",
   "execution_count": 201,
   "id": "59fe8eb3-70a2-49f6-adb2-841c0b98836b",
   "metadata": {},
   "outputs": [
    {
     "name": "stdout",
     "output_type": "stream",
     "text": [
      "[[[1 2 3]\n",
      "  [4 5 6]]\n",
      "\n",
      " [[7 8 9]\n",
      "  [9 6 3]]]\n"
     ]
    }
   ],
   "source": [
    "# 3D array\n",
    "threeDarray = np.array([[[1,2,3],[4,5,6]],[[7,8,9],[9,6,3]]])\n",
    "print(threeDarray)"
   ]
  },
  {
   "cell_type": "code",
   "execution_count": 202,
   "id": "79badd99-2420-4ac7-ba2c-9387e213f79f",
   "metadata": {},
   "outputs": [
    {
     "name": "stdout",
     "output_type": "stream",
     "text": [
      "3\n",
      "2\n",
      "8\n",
      "\n",
      "[[1 2 3]\n",
      " [4 5 6]]\n",
      "\n",
      "[2 5]\n",
      "[4 5]\n",
      "[[2 3]\n",
      " [5 6]]\n"
     ]
    }
   ],
   "source": [
    "# array indexing\n",
    "\n",
    "print(oneDarray[2])\n",
    "print(twoDarray[0,1])\n",
    "print(threeDarray[1,0,1])\n",
    "\n",
    "# array slicing\n",
    "\n",
    "print()\n",
    "print(twoDarray)\n",
    "print()\n",
    "print(twoDarray[0:,1])\n",
    "print(twoDarray[1,0:2])\n",
    "print(twoDarray[:2,1:])"
   ]
  },
  {
   "cell_type": "code",
   "execution_count": 203,
   "id": "1fb03f9d-7b52-4eed-aa88-b29cc3f0a2f8",
   "metadata": {},
   "outputs": [
    {
     "name": "stdout",
     "output_type": "stream",
     "text": [
      "1\n",
      "2\n",
      "3\n",
      "4\n"
     ]
    }
   ],
   "source": [
    "# iterating over numpy array\n",
    "\n",
    "for i in oneDarray:\n",
    "    print(i)"
   ]
  },
  {
   "cell_type": "code",
   "execution_count": 204,
   "id": "a6eecd1a-1d2e-440a-82c8-cb28d5e95f0d",
   "metadata": {},
   "outputs": [
    {
     "name": "stdout",
     "output_type": "stream",
     "text": [
      "1\n",
      "2\n",
      "3\n",
      "4\n",
      "5\n",
      "6\n"
     ]
    }
   ],
   "source": [
    "# for 2D array\n",
    "for i in twoDarray:\n",
    "    for j in i:\n",
    "        print(j)"
   ]
  },
  {
   "cell_type": "code",
   "execution_count": 205,
   "id": "cce45ac2-ab0d-485c-b38b-cb313db6ad49",
   "metadata": {},
   "outputs": [
    {
     "name": "stdout",
     "output_type": "stream",
     "text": [
      "1\n",
      "2\n",
      "3\n",
      "4\n",
      "5\n",
      "6\n",
      "7\n",
      "8\n",
      "9\n",
      "9\n",
      "6\n",
      "3\n"
     ]
    }
   ],
   "source": [
    "# for 2D array\n",
    "for i in threeDarray:\n",
    "    for j in i:\n",
    "        for k in j:\n",
    "            print(k)"
   ]
  },
  {
   "cell_type": "code",
   "execution_count": 206,
   "id": "044eb241-9804-4a97-8ec9-95d38f5572d8",
   "metadata": {},
   "outputs": [
    {
     "name": "stdout",
     "output_type": "stream",
     "text": [
      "ndim:- 2\n",
      "shape:- (2, 3)\n",
      "size:- 6\n",
      "dtype:- int64\n",
      "itemsize:- 8\n",
      "len:- 2\n"
     ]
    }
   ],
   "source": [
    "# Array Attributes\n",
    "print('ndim:- ' + str( twoDarray.ndim)) # dimention of the array\n",
    "print('shape:- ' + str(twoDarray.shape)) # rows and columns\n",
    "print('size:- ' + str(twoDarray.size)) # total element in array\n",
    "print('dtype:- ' + str(twoDarray.dtype)) # data type of array's element\n",
    "print('itemsize:- ' + str(twoDarray.itemsize)) # size in bites of each element in array\n",
    "print('len:- ' + str(len(twoDarray))) # length of the array"
   ]
  },
  {
   "cell_type": "code",
   "execution_count": 207,
   "id": "d17f1786-2502-44d3-a311-804c67b601b9",
   "metadata": {},
   "outputs": [
    {
     "name": "stdout",
     "output_type": "stream",
     "text": [
      "[[1 2 3]\n",
      " [4 5 6]]\n",
      "[[1. 2. 3.]\n",
      " [4. 5. 6.]]\n",
      "[['1' '2' '3']\n",
      " ['4' '5' '6']]\n"
     ]
    }
   ],
   "source": [
    "# conversion of data type\n",
    "print(twoDarray)\n",
    "print(twoDarray.astype(float))\n",
    "print(twoDarray.astype(str))"
   ]
  },
  {
   "cell_type": "code",
   "execution_count": 208,
   "id": "fa2631e5-9efb-4f37-9c26-dcf25f2423f0",
   "metadata": {
    "scrolled": true
   },
   "outputs": [
    {
     "name": "stdout",
     "output_type": "stream",
     "text": [
      "#Creating arrays with predefined values:\n",
      " np.zeros(), np.ones(), np.full(), np.eye(), np.empty(),np.arange(), np.linspace().\n",
      "# Creating arrays with ranges: np.arange(), np.linspace().\n",
      "\n",
      "\n"
     ]
    }
   ],
   "source": [
    "#Creating arrays with predefined values: np.zeros(), np.ones(), np.full(), np.eye(), np.empty().\n",
    "  # Creating arrays with ranges: np.arange(), np.linspace().\n",
    "print('#Creating arrays with predefined values:')\n",
    "print(' np.zeros(), np.ones(), np.full(), np.eye(), np.empty(),np.arange(), np.linspace().')\n",
    "print('# Creating arrays with ranges: np.arange(), np.linspace().')\n",
    "print()\n",
    "print()"
   ]
  },
  {
   "cell_type": "code",
   "execution_count": 209,
   "id": "0cc79aa5-d599-4334-b766-d84846cfa882",
   "metadata": {},
   "outputs": [
    {
     "name": "stdout",
     "output_type": "stream",
     "text": [
      "[[0. 0. 0.]\n",
      " [0. 0. 0.]]\n"
     ]
    }
   ],
   "source": [
    "# array creation function\n",
    "import numpy as np\n",
    "\n",
    "# zeros(row,col)\n",
    "zeros = np.zeros((2,3))\n",
    "print(zeros)"
   ]
  },
  {
   "cell_type": "code",
   "execution_count": 210,
   "id": "19580523-1a26-46e2-b667-0960fc288ce6",
   "metadata": {},
   "outputs": [
    {
     "name": "stdout",
     "output_type": "stream",
     "text": [
      "[[1. 1. 1. 1. 1.]\n",
      " [1. 1. 1. 1. 1.]\n",
      " [1. 1. 1. 1. 1.]\n",
      " [1. 1. 1. 1. 1.]\n",
      " [1. 1. 1. 1. 1.]]\n"
     ]
    }
   ],
   "source": [
    "# ones(row,col)\n",
    "ones = np.ones((5,5))\n",
    "print(ones)"
   ]
  },
  {
   "cell_type": "code",
   "execution_count": 211,
   "id": "efc369d5-b183-463a-bded-1d84c0723073",
   "metadata": {},
   "outputs": [
    {
     "name": "stdout",
     "output_type": "stream",
     "text": [
      "[[7 7 7]\n",
      " [7 7 7]\n",
      " [7 7 7]]\n"
     ]
    }
   ],
   "source": [
    "# full((row,col),fill_value)\n",
    "full = np.full((3,3),7)\n",
    "print(full)"
   ]
  },
  {
   "cell_type": "code",
   "execution_count": 212,
   "id": "a57dd69a-c33f-4c4b-b9ca-4f050c3a7376",
   "metadata": {},
   "outputs": [
    {
     "name": "stdout",
     "output_type": "stream",
     "text": [
      "[[1. 0. 0.]\n",
      " [0. 1. 0.]\n",
      " [0. 0. 1.]]\n"
     ]
    }
   ],
   "source": [
    "# eye(n) create an identity matrix\n",
    "eye = np.eye(3)\n",
    "print(eye)"
   ]
  },
  {
   "cell_type": "code",
   "execution_count": 213,
   "id": "acd3522d-d052-46d8-b090-b317fe6bc6f8",
   "metadata": {},
   "outputs": [
    {
     "name": "stdout",
     "output_type": "stream",
     "text": [
      "[0 2 4 6 8]\n"
     ]
    }
   ],
   "source": [
    "# arange(start,stop,step)\n",
    "arange = np.arange(0,10,2)\n",
    "print(arange)"
   ]
  },
  {
   "cell_type": "code",
   "execution_count": 214,
   "id": "b3b059b7-c9a2-4708-acda-6b5946a09c71",
   "metadata": {},
   "outputs": [
    {
     "name": "stdout",
     "output_type": "stream",
     "text": [
      "[0.  0.5 1.  1.5 2. ]\n"
     ]
    }
   ],
   "source": [
    "# linspace(start,stop,num)\n",
    "linspace = np.linspace(0,2,5)\n",
    "print(linspace)"
   ]
  },
  {
   "cell_type": "code",
   "execution_count": 215,
   "id": "43194c55-daa3-4b3e-9c7d-cb06e965a290",
   "metadata": {},
   "outputs": [
    {
     "name": "stdout",
     "output_type": "stream",
     "text": [
      "[[0.38101506 0.8280656  0.83112824]\n",
      " [0.31092278 0.52313607 0.75285964]]\n"
     ]
    }
   ],
   "source": [
    "# random(row,col)\n",
    "random = np.random.random((2,3))\n",
    "print(random)"
   ]
  },
  {
   "cell_type": "code",
   "execution_count": 216,
   "id": "967d0cb4-a47c-46c8-933e-0827592840ac",
   "metadata": {
    "scrolled": true
   },
   "outputs": [
    {
     "name": "stdout",
     "output_type": "stream",
     "text": [
      "# Array operation\n",
      "   # mathmetical operation\n",
      "\n",
      "\n"
     ]
    }
   ],
   "source": [
    "print('# Array operation')\n",
    "print('   # mathmetical operation')\n",
    "print()\n",
    "print()"
   ]
  },
  {
   "cell_type": "code",
   "execution_count": 217,
   "id": "7d2f081d-3253-4bbc-9916-fbe48847a670",
   "metadata": {},
   "outputs": [
    {
     "name": "stdout",
     "output_type": "stream",
     "text": [
      "[[ 4  4  4]\n",
      " [10 10 10]]\n"
     ]
    }
   ],
   "source": [
    "# array operation\n",
    "    # array operation\n",
    "a = np.array([[1,2,3],[4,5,6]])\n",
    "b = np.array([[3,2,1],[6,5,4]])\n",
    "\n",
    "print(a + b)"
   ]
  },
  {
   "cell_type": "code",
   "execution_count": 218,
   "id": "d8919bee-8175-4f72-8890-c411589eabb8",
   "metadata": {},
   "outputs": [
    {
     "name": "stdout",
     "output_type": "stream",
     "text": [
      "[[-2  0  2]\n",
      " [-2  0  2]]\n"
     ]
    }
   ],
   "source": [
    "print(a-b)"
   ]
  },
  {
   "cell_type": "code",
   "execution_count": 219,
   "id": "dc485a03-c486-4c21-9b58-6fd233d262d8",
   "metadata": {},
   "outputs": [
    {
     "name": "stdout",
     "output_type": "stream",
     "text": [
      "[[ 3  4  3]\n",
      " [24 25 24]]\n"
     ]
    }
   ],
   "source": [
    "print(a*b)"
   ]
  },
  {
   "cell_type": "code",
   "execution_count": 220,
   "id": "8698dee5-c0bb-4139-8233-b783d5bc0e30",
   "metadata": {},
   "outputs": [
    {
     "name": "stdout",
     "output_type": "stream",
     "text": [
      "[[0.33333333 1.         3.        ]\n",
      " [0.66666667 1.         1.5       ]]\n"
     ]
    }
   ],
   "source": [
    "print(a/b)"
   ]
  },
  {
   "cell_type": "code",
   "execution_count": 221,
   "id": "9199b90e-4524-407b-8a71-0cbd883f0af5",
   "metadata": {},
   "outputs": [
    {
     "name": "stdout",
     "output_type": "stream",
     "text": [
      "[[  2.71828183   7.3890561   20.08553692]\n",
      " [ 54.59815003 148.4131591  403.42879349]]\n"
     ]
    }
   ],
   "source": [
    "# mathmetical operation\n",
    "exponential = np.exp(a)\n",
    "print(exponential)"
   ]
  },
  {
   "cell_type": "code",
   "execution_count": 222,
   "id": "f167a4da-babd-4055-b666-80c5e0409c46",
   "metadata": {},
   "outputs": [
    {
     "name": "stdout",
     "output_type": "stream",
     "text": [
      "[[ 1  4  9]\n",
      " [16 25 36]]\n"
     ]
    }
   ],
   "source": [
    "arr1 = np.array([2])\n",
    "power = np.power(a,arr1)\n",
    "print(power)"
   ]
  },
  {
   "cell_type": "code",
   "execution_count": 223,
   "id": "1cbf6cd0-886d-45b8-8972-02c0947a545e",
   "metadata": {},
   "outputs": [
    {
     "name": "stdout",
     "output_type": "stream",
     "text": [
      "[[1. 2. 3.]\n",
      " [4. 5. 6.]]\n"
     ]
    }
   ],
   "source": [
    "arr2 = np.array([[1,4,9],[16,25,36]])\n",
    "sqrt = np.sqrt(arr2)\n",
    "print(sqrt)"
   ]
  },
  {
   "cell_type": "code",
   "execution_count": 224,
   "id": "62cc4c4c-23cb-4be8-9147-1e1283c07b89",
   "metadata": {},
   "outputs": [
    {
     "name": "stdout",
     "output_type": "stream",
     "text": [
      "[[4 5 6]\n",
      " [3 4 5]\n",
      " [2 3 4]]\n"
     ]
    }
   ],
   "source": [
    "#Broadcasting\n",
    "arr3 = np.array([1,2,3])\n",
    "arr4 = np.array([[3],[2],[1]])\n",
    "print(arr3 + arr4)"
   ]
  },
  {
   "cell_type": "code",
   "execution_count": 225,
   "id": "23125b41-1636-483f-a1db-1b3bd432de5c",
   "metadata": {
    "scrolled": true
   },
   "outputs": [
    {
     "name": "stdout",
     "output_type": "stream",
     "text": [
      "# adding and removing*: append(), insert(), delete()\n",
      "\n",
      "\n",
      "\n"
     ]
    }
   ],
   "source": [
    "# adding and removing*: append(), insert(), delete().\n",
    "\n",
    "print('# adding and removing*: append(), insert(), delete()')\n",
    "print()\n",
    "print()\n",
    "print()"
   ]
  },
  {
   "cell_type": "code",
   "execution_count": 226,
   "id": "e2f313d2-dbd7-4b69-9b76-72ccd9b5f547",
   "metadata": {},
   "outputs": [
    {
     "name": "stdout",
     "output_type": "stream",
     "text": [
      "append:-\n",
      "[1 2 3 4 9]\n",
      "[ 1  2  3  3  2  1 90 30]\n"
     ]
    }
   ],
   "source": [
    "# adding and removing*: append(), insert(), delete().\n",
    "oneDarray = np.array([1,2,3,4])\n",
    "twoDarray = np.array([[1,2,3],[3,2,1]])\n",
    "print('append:-')\n",
    "print(np.append(oneDarray,9))\n",
    "print(np.append(twoDarray,[90,30]))"
   ]
  },
  {
   "cell_type": "code",
   "execution_count": 227,
   "id": "1580d6ba-7677-4e7a-984a-995b1fe5dc0d",
   "metadata": {},
   "outputs": [
    {
     "name": "stdout",
     "output_type": "stream",
     "text": [
      "insert:-\n",
      "[ 1 50  2  3  4]\n",
      "[ 1 50 60  2  3  3  2  1]\n",
      "\n",
      "[[ 1 50  2  3]\n",
      " [ 3 60  2  1]]\n",
      "\n",
      "[[ 1  2  3]\n",
      " [50 60 70]\n",
      " [ 3  2  1]]\n"
     ]
    }
   ],
   "source": [
    "oneDarray = np.array([1,2,3,4])\n",
    "twoDarray = np.array([[1,2,3],[3,2,1]])\n",
    "\n",
    "print('insert:-')\n",
    "print(np.insert(oneDarray,1,50))\n",
    "print(np.insert(twoDarray,1,[50,60]))\n",
    "print()\n",
    "print(np.insert(twoDarray,1,[50,60], axis=1)) # axis = 1 means column or y-axis \n",
    "print()\n",
    "print(np.insert(twoDarray,1,[50,60,70], axis=0)) # axis = 0 means row or x-axis "
   ]
  },
  {
   "cell_type": "code",
   "execution_count": 228,
   "id": "36c772d8-8c55-447a-b612-ee84451c3ea2",
   "metadata": {},
   "outputs": [
    {
     "name": "stdout",
     "output_type": "stream",
     "text": [
      "delete:-\n",
      "[[1 2 3]\n",
      " [3 2 1]]\n",
      "\n",
      "[1 3 3 2 1]\n",
      "\n",
      "[[1 2 3]]\n",
      "\n",
      "[[1 3]\n",
      " [3 1]]\n"
     ]
    }
   ],
   "source": [
    "oneDarray = np.array([1,2,3,4])\n",
    "twoDarray = np.array([[1,2,3],[3,2,1]])\n",
    "\n",
    "print('delete:-')\n",
    "print(twoDarray)\n",
    "print()\n",
    "print(np.delete(twoDarray,1))\n",
    "print()\n",
    "print(np.delete(twoDarray,1,axis=0))\n",
    "print()\n",
    "print(np.delete(twoDarray,1,axis=1))"
   ]
  },
  {
   "cell_type": "code",
   "execution_count": 229,
   "id": "6ad15eac-3be8-4b81-be33-6c6243699e90",
   "metadata": {
    "scrolled": true
   },
   "outputs": [
    {
     "name": "stdout",
     "output_type": "stream",
     "text": [
      "# numpy sort(), filter(), search()\n",
      "\n",
      "\n",
      "\n"
     ]
    }
   ],
   "source": [
    "# numpy sort(), filter(), search()\n",
    "\n",
    "print('# numpy sort(), filter(), search()')\n",
    "print()\n",
    "print()\n",
    "print()"
   ]
  },
  {
   "cell_type": "code",
   "execution_count": 230,
   "id": "e8bada24-0d7d-4ee7-9abe-2c7077c3b2b3",
   "metadata": {},
   "outputs": [
    {
     "name": "stdout",
     "output_type": "stream",
     "text": [
      "[1 2 3 4 7 8]\n",
      "[[1 2 3]\n",
      " [4 5 6]]\n"
     ]
    }
   ],
   "source": [
    "# numpy sort(), filter(), search()\n",
    "oneDarray = np.array([7,3,4,2,8,1])\n",
    "twoDarray = np.array([[3,2,1],[6,5,4]])\n",
    "print(np.sort(oneDarray))\n",
    "print(np.sort(twoDarray))"
   ]
  },
  {
   "cell_type": "code",
   "execution_count": 231,
   "id": "982601f8-cf42-4e2f-991f-e860fb4b38fc",
   "metadata": {},
   "outputs": [
    {
     "name": "stdout",
     "output_type": "stream",
     "text": [
      "(array([2]),)\n",
      "(array([2, 3, 4]),)\n",
      "4\n"
     ]
    }
   ],
   "source": [
    "   # search by where()\n",
    "s = np.where(oneDarray == 4)\n",
    "print(s)\n",
    "   # or by condition\n",
    "s = np.where(oneDarray % 2 == 0)\n",
    "print(s)\n",
    "   # search by sorted data by searchsorted(array,value)\n",
    "sorted = np.sort(oneDarray)\n",
    "print(np.searchsorted(sorted,7))"
   ]
  },
  {
   "cell_type": "code",
   "execution_count": 232,
   "id": "a29b4529-7f17-4d1b-be54-3ef3247280da",
   "metadata": {},
   "outputs": [
    {
     "name": "stdout",
     "output_type": "stream",
     "text": [
      "[30]\n",
      "[30 40]\n"
     ]
    }
   ],
   "source": [
    "#   filter by boolean and by condition\n",
    "arr = np.array([10,20,30,40])\n",
    "filtervalue = [False,False,True,False]\n",
    "new = arr[filtervalue]\n",
    "print(new)\n",
    "\n",
    "fv = arr>25\n",
    "print(arr[fv])"
   ]
  },
  {
   "cell_type": "code",
   "execution_count": 251,
   "id": "e0cf5908-3ae2-431a-8590-2daf5aa2f3ce",
   "metadata": {
    "scrolled": true
   },
   "outputs": [
    {
     "name": "stdout",
     "output_type": "stream",
     "text": [
      "#Concatenation and Splitting*: np.concatenate(), np.vstack(), np.hstack(), np.split(), np.hsplit(), np.vsplit().\n",
      "\n",
      "\n",
      "\n"
     ]
    }
   ],
   "source": [
    "# Shape Manipulation\n",
    "    #Concatenation and Splitting*: np.concatenate(), np.vstack(), np.hstack(), np.split(), np.hsplit(), np.vsplit().\n",
    "\n",
    "print('#Concatenation and Splitting*: np.concatenate(), np.vstack(), np.hstack(), np.split(), np.hsplit(), np.vsplit().')\n",
    "print()\n",
    "print()\n",
    "print()"
   ]
  },
  {
   "cell_type": "code",
   "execution_count": 234,
   "id": "70353853-cdc0-40c9-9823-2ffd4bd6ef97",
   "metadata": {},
   "outputs": [
    {
     "name": "stdout",
     "output_type": "stream",
     "text": [
      "[7 3 4 2 8 1 1 2 3 4]\n",
      "[[3 2 1]\n",
      " [6 5 4]\n",
      " [1 2 3]\n",
      " [3 2 1]]\n",
      "\n",
      "[[3 2 1 1 2 3]\n",
      " [6 5 4 3 2 1]]\n"
     ]
    }
   ],
   "source": [
    "#Concatenation\n",
    "oneDarray = np.array([7,3,4,2,8,1])\n",
    "twoDarray = np.array([[3,2,1],[6,5,4]])\n",
    "oneDarray1 = np.array([1,2,3,4])\n",
    "twoDarray1 = np.array([[1,2,3],[3,2,1]])\n",
    "\n",
    "print(np.concatenate([oneDarray,oneDarray1]))\n",
    "print(np.concatenate([twoDarray,twoDarray1]))# by default axis 0 or x-axis\n",
    "print()\n",
    "print(np.concatenate([twoDarray,twoDarray1],axis=1)) # axis = 1"
   ]
  },
  {
   "cell_type": "code",
   "execution_count": 235,
   "id": "275cf125-4924-407b-880e-7239d3e1348f",
   "metadata": {},
   "outputs": [
    {
     "name": "stdout",
     "output_type": "stream",
     "text": [
      "[[3 2 1 1 2 3]\n",
      " [6 5 4 3 2 1]]\n"
     ]
    }
   ],
   "source": [
    "# np.hstack()\n",
    "print(np.hstack([twoDarray,twoDarray1])) # Horizontal concatenation"
   ]
  },
  {
   "cell_type": "code",
   "execution_count": 236,
   "id": "7765d553-7403-4d64-a2fc-0c7ad15d5489",
   "metadata": {},
   "outputs": [
    {
     "name": "stdout",
     "output_type": "stream",
     "text": [
      "[[3 2 1]\n",
      " [6 5 4]\n",
      " [1 2 3]\n",
      " [3 2 1]]\n"
     ]
    }
   ],
   "source": [
    "# np.vstack()\n",
    "print(np.vstack([twoDarray,twoDarray1])) # Vertical concatenation"
   ]
  },
  {
   "cell_type": "code",
   "execution_count": 237,
   "id": "922adcdc-b59a-4d16-99be-baaa1dd0e6a3",
   "metadata": {},
   "outputs": [
    {
     "name": "stdout",
     "output_type": "stream",
     "text": [
      "[7 3 4 2 8 1]\n",
      "[[3 2 1]\n",
      " [6 5 4]]\n",
      "\n",
      "[array([7, 3]), array([4, 2]), array([8, 1])]\n",
      "[array([7, 3, 4]), array([2, 8, 1])]\n",
      "\n",
      "[array([[3, 2, 1]]), array([[6, 5, 4]])]\n"
     ]
    }
   ],
   "source": [
    "# np.split()\n",
    "print(oneDarray)\n",
    "print(twoDarray)\n",
    "print()\n",
    "print(np.split(oneDarray,3))\n",
    "print(np.split(oneDarray,2))\n",
    "print()\n",
    "print(np.split(twoDarray,2))"
   ]
  },
  {
   "cell_type": "code",
   "execution_count": 238,
   "id": "52ee978d-2fa0-4392-b07b-1d2fc6be7fe9",
   "metadata": {},
   "outputs": [
    {
     "name": "stdout",
     "output_type": "stream",
     "text": [
      "[7 3 4 2 8 1]\n",
      "[[3 2 1]\n",
      " [6 5 4]]\n",
      "[[1 2 3]\n",
      " [3 2 1]\n",
      " [3 2 4]]\n",
      "\n",
      "[array([[3],\n",
      "       [6]]), array([[2],\n",
      "       [5]]), array([[1],\n",
      "       [4]])]\n",
      "[array([[1],\n",
      "       [3],\n",
      "       [3]]), array([[2],\n",
      "       [2],\n",
      "       [2]]), array([[3],\n",
      "       [1],\n",
      "       [4]])]\n"
     ]
    }
   ],
   "source": [
    "# np.hsplit()\n",
    "twoDarray1 = np.array([[1,2,3],[3,2,1],[3,2,4]])\n",
    "print(oneDarray)\n",
    "print(twoDarray)\n",
    "print(twoDarray1)\n",
    "print()\n",
    "print(np.hsplit(twoDarray,3))\n",
    "#horizontal = np.hsplit(twoDarray,2)\n",
    "print(np.hsplit(twoDarray1,3))"
   ]
  },
  {
   "cell_type": "code",
   "execution_count": 239,
   "id": "6913519e-48c9-42ae-bdd6-b294dec91f06",
   "metadata": {},
   "outputs": [
    {
     "name": "stdout",
     "output_type": "stream",
     "text": [
      "[array([[3, 2, 1]]), array([[6, 5, 4]])]\n",
      "[array([[1, 2, 3]]), array([[3, 2, 1]]), array([[3, 2, 4]])]\n"
     ]
    }
   ],
   "source": [
    "# np.vsplit()\n",
    "print(np.vsplit(twoDarray,2))\n",
    "print(np.vsplit(twoDarray1,3))"
   ]
  },
  {
   "cell_type": "code",
   "execution_count": 240,
   "id": "da9692fe-1693-4693-b080-ff795445f1a3",
   "metadata": {
    "scrolled": true
   },
   "outputs": [
    {
     "name": "stdout",
     "output_type": "stream",
     "text": [
      "Reshaping Arrays*: Using reshape(), ravel(), flatten(), transpose()\n",
      "\n",
      "\n",
      "\n"
     ]
    }
   ],
   "source": [
    "# Reshaping Arrays*: Using reshape(), ravel(), flatten(), transpose().\n",
    "# reshape(): Changes the shape of the array without changing its data.\n",
    "# ravel(): Flattens the array.\n",
    "# transpose(): Transposes the array.\n",
    "print('Reshaping Arrays*: Using reshape(), ravel(), flatten(), transpose()')\n",
    "print()\n",
    "print()\n",
    "print()"
   ]
  },
  {
   "cell_type": "code",
   "execution_count": 241,
   "id": "873d6e5b-929e-40ca-b12a-52fb40a999f0",
   "metadata": {},
   "outputs": [
    {
     "name": "stdout",
     "output_type": "stream",
     "text": [
      "[[1 2 3]\n",
      " [4 5 6]]\n",
      "\n",
      "[[1 2]\n",
      " [3 4]\n",
      " [5 6]]\n"
     ]
    }
   ],
   "source": [
    "# reshape(): \n",
    "array = np.array([[1, 2, 3], [4, 5, 6]])\n",
    "print(array)\n",
    "print()\n",
    "print(array.reshape((3,2)))"
   ]
  },
  {
   "cell_type": "code",
   "execution_count": 242,
   "id": "bb016e81-13c9-435a-ae16-b2edc7c6afb0",
   "metadata": {},
   "outputs": [
    {
     "name": "stdout",
     "output_type": "stream",
     "text": [
      "[1 2 3 4 5 6]\n",
      "[1 2 3 4 5 6]\n"
     ]
    }
   ],
   "source": [
    "# ravel(): Flattens the array.\n",
    "print(array.ravel())\n",
    "print(array.flatten())"
   ]
  },
  {
   "cell_type": "code",
   "execution_count": 243,
   "id": "8689a552-e6ce-48a8-a330-9467220fb85e",
   "metadata": {},
   "outputs": [
    {
     "name": "stdout",
     "output_type": "stream",
     "text": [
      "[[1 4]\n",
      " [2 5]\n",
      " [3 6]]\n",
      "\n",
      "[[1 2 3]\n",
      " [4 5 6]]\n"
     ]
    }
   ],
   "source": [
    "# transpose(): Transposes the array.\n",
    "print(array.transpose())\n",
    "transposed = array.transpose()\n",
    "print()\n",
    "print(transposed.transpose())"
   ]
  },
  {
   "cell_type": "code",
   "execution_count": 244,
   "id": "69eb92e6-7279-4cee-8dab-2b5e12c66821",
   "metadata": {
    "scrolled": true
   },
   "outputs": [
    {
     "name": "stdout",
     "output_type": "stream",
     "text": [
      "Aggregation Functions*: np.sum(), np.mean(), np.max(), np.min(), np.std(), np.var().\n",
      "\n",
      "\n",
      "\n"
     ]
    }
   ],
   "source": [
    "# Aggregation Functions*: np.sum(), np.mean(), np.max(), np.min(), np.std(), np.var().\n",
    "# np.sum(): Sum of all elements.\n",
    "# np.min(): Minimum element.\n",
    "# np.max(): Maximum element.\n",
    "# np.mean(): Mean of all elements.\n",
    "# np.std(): Standard deviation of all elements.\n",
    "# np.var(): Variance of all elements.\n",
    "\n",
    "print('Aggregation Functions*: np.sum(), np.mean(), np.max(), np.min(), np.std(), np.var().')\n",
    "print()\n",
    "print()\n",
    "print()"
   ]
  },
  {
   "cell_type": "code",
   "execution_count": 245,
   "id": "78daa01f-6a74-41d2-9972-d7b06555bc19",
   "metadata": {},
   "outputs": [
    {
     "name": "stdout",
     "output_type": "stream",
     "text": [
      "[7 3 4 2 8 1]\n",
      "25\n",
      "4.166666666666667\n",
      "8\n",
      "1\n",
      "2.544056253745625\n",
      "6.472222222222222\n",
      "with 2d array  ⤵⤵⤵⬇⬇⬇\n"
     ]
    }
   ],
   "source": [
    "# Aggregation Functions*: np.sum(), np.mean(), np.max(), np.min(), np.std(), np.var().\n",
    "print(oneDarray)\n",
    "print(np.sum(oneDarray))\n",
    "print(np.mean(oneDarray))\n",
    "print(np.max(oneDarray))\n",
    "print(np.min(oneDarray))\n",
    "print(np.std(oneDarray))\n",
    "print(np.var(oneDarray))\n",
    "print('with 2d array  ⤵⤵⤵⬇⬇⬇')"
   ]
  },
  {
   "cell_type": "code",
   "execution_count": 246,
   "id": "c12fdc58-8ea5-4c73-b966-6728a1412f64",
   "metadata": {},
   "outputs": [
    {
     "name": "stdout",
     "output_type": "stream",
     "text": [
      "[[3 2 1]\n",
      " [6 5 4]]\n",
      "21\n",
      "3.5\n",
      "6\n",
      "1\n",
      "1.707825127659933\n",
      "2.9166666666666665\n"
     ]
    }
   ],
   "source": [
    "# with 2d array\n",
    "print(twoDarray)\n",
    "print(np.sum(twoDarray))\n",
    "print(np.mean(twoDarray))\n",
    "print(np.max(twoDarray))\n",
    "print(np.min(twoDarray))\n",
    "print(np.std(twoDarray))\n",
    "print(np.var(twoDarray))"
   ]
  },
  {
   "cell_type": "code",
   "execution_count": 247,
   "id": "e5cf0aee-764c-47e9-84c2-a4e4f42f2a9d",
   "metadata": {
    "scrolled": true
   },
   "outputs": [
    {
     "name": "stdout",
     "output_type": "stream",
     "text": [
      "# Trigonometric functions: np.sin(), np.cos(), np.tan()\n",
      "\n",
      "\n",
      "\n"
     ]
    }
   ],
   "source": [
    "# Trigonometric functions: np.sin(), np.cos(), np.tan()\n",
    "\n",
    "print('# Trigonometric functions: np.sin(), np.cos(), np.tan()')\n",
    "print()\n",
    "print()\n",
    "print()"
   ]
  },
  {
   "cell_type": "code",
   "execution_count": 248,
   "id": "0e22eeeb-0055-458d-ab21-b897fcd3da1e",
   "metadata": {},
   "outputs": [
    {
     "name": "stdout",
     "output_type": "stream",
     "text": [
      "[7 3 4 2 8 1]\n",
      "[ 0.6569866   0.14112001 -0.7568025   0.90929743  0.98935825  0.84147098]\n",
      "[ 0.75390225 -0.9899925  -0.65364362 -0.41614684 -0.14550003  0.54030231]\n",
      "[ 0.87144798 -0.14254654  1.15782128 -2.18503986 -6.79971146  1.55740772]\n"
     ]
    }
   ],
   "source": [
    "# Trigonometric functions: np.sin(), np.cos(), np.tan()\n",
    "\n",
    "print(oneDarray)\n",
    "print(np.sin(oneDarray))\n",
    "print(np.cos(oneDarray))\n",
    "print(np.tan(oneDarray))"
   ]
  },
  {
   "cell_type": "code",
   "execution_count": 249,
   "id": "f4572bb7-b771-4042-8309-38e9687fb32d",
   "metadata": {
    "scrolled": true
   },
   "outputs": [
    {
     "name": "stdout",
     "output_type": "stream",
     "text": [
      "Linear Algebra*: np.dot(), np.linalg.inv(), np.linalg.det(), np.linalg.eig()\n",
      "\n",
      "\n",
      "\n"
     ]
    }
   ],
   "source": [
    "# Linear Algebra*: np.dot(), np.linalg.inv(), np.linalg.det(), np.linalg.eig()\n",
    "# NumPy provides various functions for linear algebra:\n",
    "# np.dot(): Dot product of two arrays.\n",
    "# np.linalg.inv(): Inverse of a matrix.\n",
    "# np.linalg.det(): Determinant of a matrix.\n",
    "# np.linalg.eig(): Eigenvalues and eigenvectors of a matrix.\n",
    "print('Linear Algebra*: np.dot(), np.linalg.inv(), np.linalg.det(), np.linalg.eig()')\n",
    "print()\n",
    "print()\n",
    "print()"
   ]
  },
  {
   "cell_type": "code",
   "execution_count": 250,
   "id": "dcbedb40-f703-446f-bfb6-4ab2919fc11d",
   "metadata": {},
   "outputs": [
    {
     "name": "stdout",
     "output_type": "stream",
     "text": [
      "[[1 2]\n",
      " [3 4]] /n [5 6]\n",
      "\n",
      "[17 39]\n",
      "[[-2.   1. ]\n",
      " [ 1.5 -0.5]]\n",
      "-2.0000000000000004\n",
      "EigResult(eigenvalues=array([-0.37228132,  5.37228132]), eigenvectors=array([[-0.82456484, -0.41597356],\n",
      "       [ 0.56576746, -0.90937671]]))\n"
     ]
    }
   ],
   "source": [
    "# Linear Algebra*: np.dot(), np.linalg.inv(), np.linalg.det(), np.linalg.eig()\n",
    "matrix = np.array([[1, 2], [3, 4]])\n",
    "vector = np.array([5, 6])\n",
    "\n",
    "print(matrix, '/n',vector)\n",
    "print()\n",
    "print(np.dot(matrix, vector))\n",
    "print(np.linalg.inv(matrix))\n",
    "print(np.linalg.det(matrix))\n",
    "print(np.linalg.eig(matrix))"
   ]
  },
  {
   "cell_type": "code",
   "execution_count": null,
   "id": "bfee721f-f7dd-4932-b342-1395ea25c55f",
   "metadata": {},
   "outputs": [],
   "source": []
  }
 ],
 "metadata": {
  "kernelspec": {
   "display_name": "Python 3 (ipykernel)",
   "language": "python",
   "name": "python3"
  },
  "language_info": {
   "codemirror_mode": {
    "name": "ipython",
    "version": 3
   },
   "file_extension": ".py",
   "mimetype": "text/x-python",
   "name": "python",
   "nbconvert_exporter": "python",
   "pygments_lexer": "ipython3",
   "version": "3.11.2"
  }
 },
 "nbformat": 4,
 "nbformat_minor": 5
}
