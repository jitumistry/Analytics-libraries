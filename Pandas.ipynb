{
 "cells": [
  {
   "cell_type": "code",
   "execution_count": 2,
   "id": "f6847084-471a-4d70-98bd-d95a9741becd",
   "metadata": {},
   "outputs": [],
   "source": [
    "### Installation\n",
    "#To install Pandas, use the following command:\n",
    "\n",
    "#pip install pandas\n",
    "\n",
    "\n",
    "### Importing Pandas\n",
    "\n",
    "import pandas as pd\n",
    "import numpy as np"
   ]
  },
  {
   "cell_type": "code",
   "execution_count": 3,
   "id": "c7c015d4-65ad-4be6-a500-4da320757d28",
   "metadata": {},
   "outputs": [],
   "source": [
    "#### 2. Data Structures\n",
    "# *Series*:\n",
    "#  - Creating a Series: pd.Series().\n",
    "#  - Accessing and modifying data in a Series.\n",
    "#You can also specify the index:\n",
    "  \n",
    "#- *DataFrame*:\n",
    "#  - Creating a DataFrame: pd.DataFrame(), from dictionaries, lists, or external data sources.\n",
    "#  - Accessing data using .loc[] and .iloc[].\n"
   ]
  },
  {
   "cell_type": "code",
   "execution_count": 4,
   "id": "30277cf6-59e8-4fa0-a345-b2f45cb975e9",
   "metadata": {},
   "outputs": [
    {
     "name": "stdout",
     "output_type": "stream",
     "text": [
      "0    1\n",
      "1    2\n",
      "2    3\n",
      "3    4\n",
      "4    5\n",
      "dtype: int64\n",
      "\n",
      "a    1\n",
      "b    2\n",
      "c    3\n",
      "d    4\n",
      "e    5\n",
      "dtype: int64\n"
     ]
    }
   ],
   "source": [
    "# *Series*:\n",
    "data = [1, 2, 3, 4, 5]\n",
    "s = pd.Series(data)\n",
    "print(s)\n",
    "print()\n",
    "#You can also specify the index:\n",
    "\n",
    "series = pd.Series(data, index=['a', 'b', 'c', 'd', 'e'])\n",
    "print(series)"
   ]
  },
  {
   "cell_type": "code",
   "execution_count": 5,
   "id": "defb78eb-aa61-4bbd-a02a-b6cdd4e8c4b8",
   "metadata": {},
   "outputs": [
    {
     "data": {
      "text/plain": [
       "india      1000\n",
       "puri     564654\n",
       "bbsr      56456\n",
       "goa         555\n",
       "dtype: int64"
      ]
     },
     "execution_count": 5,
     "metadata": {},
     "output_type": "execute_result"
    }
   ],
   "source": [
    "cost = [1000, 564654, 56456, 555]\n",
    "contry = ['india', 'puri', 'bbsr', 'goa']\n",
    "s = pd.Series(cost,index = contry)\n",
    "s"
   ]
  },
  {
   "cell_type": "code",
   "execution_count": 6,
   "id": "339db14d-5855-4b42-8e74-8255eeeac91c",
   "metadata": {},
   "outputs": [
    {
     "data": {
      "text/plain": [
       "320       bbsr\n",
       "565       puri\n",
       "565    khordha\n",
       "32       kerla\n",
       "48     cuttack\n",
       "dtype: object"
      ]
     },
     "execution_count": 6,
     "metadata": {},
     "output_type": "execute_result"
    }
   ],
   "source": [
    "# create series with a tuple\n",
    "cost = (320,565,565,32,48)\n",
    "city = ('bbsr','puri','khordha','kerla','cuttack')\n",
    "w = pd.Series(city, index = cost)\n",
    "w"
   ]
  },
  {
   "cell_type": "code",
   "execution_count": 7,
   "id": "c661bad5-2c7a-45be-90d7-6f04a24306c9",
   "metadata": {},
   "outputs": [
    {
     "data": {
      "text/plain": [
       "bbsr         5665\n",
       "puri        55248\n",
       "khordha    554652\n",
       "kerla      899798\n",
       "cuttack      5887\n",
       "dtype: int64"
      ]
     },
     "execution_count": 7,
     "metadata": {},
     "output_type": "execute_result"
    }
   ],
   "source": [
    "# create series with a dictionary\n",
    "data = {'bbsr':5665,'puri':55248,'khordha':554652,'kerla':899798,'cuttack':5887}\n",
    "d = pd.Series(data)\n",
    "d"
   ]
  },
  {
   "cell_type": "code",
   "execution_count": 8,
   "id": "c4b9683f-70b4-436e-a02b-7746ed9a9a66",
   "metadata": {},
   "outputs": [
    {
     "name": "stdout",
     "output_type": "stream",
     "text": [
      "        0       1\n",
      "0   apple     red\n",
      "1  banana  yellow\n",
      "2  orange  orange\n",
      "\n"
     ]
    },
    {
     "data": {
      "text/html": [
       "<div>\n",
       "<style scoped>\n",
       "    .dataframe tbody tr th:only-of-type {\n",
       "        vertical-align: middle;\n",
       "    }\n",
       "\n",
       "    .dataframe tbody tr th {\n",
       "        vertical-align: top;\n",
       "    }\n",
       "\n",
       "    .dataframe thead th {\n",
       "        text-align: right;\n",
       "    }\n",
       "</style>\n",
       "<table border=\"1\" class=\"dataframe\">\n",
       "  <thead>\n",
       "    <tr style=\"text-align: right;\">\n",
       "      <th></th>\n",
       "      <th>fruit</th>\n",
       "      <th>color</th>\n",
       "    </tr>\n",
       "  </thead>\n",
       "  <tbody>\n",
       "    <tr>\n",
       "      <th>0</th>\n",
       "      <td>apple</td>\n",
       "      <td>red</td>\n",
       "    </tr>\n",
       "    <tr>\n",
       "      <th>1</th>\n",
       "      <td>banana</td>\n",
       "      <td>yellow</td>\n",
       "    </tr>\n",
       "    <tr>\n",
       "      <th>2</th>\n",
       "      <td>orange</td>\n",
       "      <td>orange</td>\n",
       "    </tr>\n",
       "  </tbody>\n",
       "</table>\n",
       "</div>"
      ],
      "text/plain": [
       "    fruit   color\n",
       "0   apple     red\n",
       "1  banana  yellow\n",
       "2  orange  orange"
      ]
     },
     "execution_count": 8,
     "metadata": {},
     "output_type": "execute_result"
    }
   ],
   "source": [
    "#- *DataFrame*:\n",
    "myList = [['apple','red'],['banana', 'yellow'],['orange','orange']]\n",
    "list = pd.DataFrame(myList)\n",
    "print(list)\n",
    "print()\n",
    "\n",
    "df = pd.DataFrame(myList,columns = ['fruit','color'])\n",
    "df"
   ]
  },
  {
   "cell_type": "code",
   "execution_count": 9,
   "id": "8b43a70d-b3ac-48df-a327-10af2ab4b0ec",
   "metadata": {},
   "outputs": [
    {
     "data": {
      "text/html": [
       "<div>\n",
       "<style scoped>\n",
       "    .dataframe tbody tr th:only-of-type {\n",
       "        vertical-align: middle;\n",
       "    }\n",
       "\n",
       "    .dataframe tbody tr th {\n",
       "        vertical-align: top;\n",
       "    }\n",
       "\n",
       "    .dataframe thead th {\n",
       "        text-align: right;\n",
       "    }\n",
       "</style>\n",
       "<table border=\"1\" class=\"dataframe\">\n",
       "  <thead>\n",
       "    <tr style=\"text-align: right;\">\n",
       "      <th></th>\n",
       "      <th>name</th>\n",
       "      <th>age</th>\n",
       "      <th>salary</th>\n",
       "    </tr>\n",
       "  </thead>\n",
       "  <tbody>\n",
       "    <tr>\n",
       "      <th>0</th>\n",
       "      <td>dj</td>\n",
       "      <td>35</td>\n",
       "      <td>566</td>\n",
       "    </tr>\n",
       "    <tr>\n",
       "      <th>1</th>\n",
       "      <td>dip</td>\n",
       "      <td>65</td>\n",
       "      <td>234</td>\n",
       "    </tr>\n",
       "    <tr>\n",
       "      <th>2</th>\n",
       "      <td>jd</td>\n",
       "      <td>32</td>\n",
       "      <td>56</td>\n",
       "    </tr>\n",
       "    <tr>\n",
       "      <th>3</th>\n",
       "      <td>lul</td>\n",
       "      <td>41</td>\n",
       "      <td>35</td>\n",
       "    </tr>\n",
       "  </tbody>\n",
       "</table>\n",
       "</div>"
      ],
      "text/plain": [
       "  name  age  salary\n",
       "0   dj   35     566\n",
       "1  dip   65     234\n",
       "2   jd   32      56\n",
       "3  lul   41      35"
      ]
     },
     "execution_count": 9,
     "metadata": {},
     "output_type": "execute_result"
    }
   ],
   "source": [
    "####  - Creating a DataFrame: pd.DataFrame().\n",
    "dict = {'name': ['dj','dip','jd','lul'], 'age': [35,65,32,41], 'salary': [566,234,56,35]}\n",
    "dic = pd.DataFrame(dict)\n",
    "dic"
   ]
  },
  {
   "cell_type": "code",
   "execution_count": 10,
   "id": "6428c25f-0837-4f3d-ba68-68f1cc8e05ad",
   "metadata": {},
   "outputs": [
    {
     "data": {
      "text/html": [
       "<div>\n",
       "<style scoped>\n",
       "    .dataframe tbody tr th:only-of-type {\n",
       "        vertical-align: middle;\n",
       "    }\n",
       "\n",
       "    .dataframe tbody tr th {\n",
       "        vertical-align: top;\n",
       "    }\n",
       "\n",
       "    .dataframe thead th {\n",
       "        text-align: right;\n",
       "    }\n",
       "</style>\n",
       "<table border=\"1\" class=\"dataframe\">\n",
       "  <thead>\n",
       "    <tr style=\"text-align: right;\">\n",
       "      <th></th>\n",
       "    </tr>\n",
       "  </thead>\n",
       "  <tbody>\n",
       "  </tbody>\n",
       "</table>\n",
       "</div>"
      ],
      "text/plain": [
       "Empty DataFrame\n",
       "Columns: []\n",
       "Index: []"
      ]
     },
     "execution_count": 10,
     "metadata": {},
     "output_type": "execute_result"
    }
   ],
   "source": [
    "#### create a empty DataFrame and add rows and column\n",
    "df = pd.DataFrame()\n",
    "df"
   ]
  },
  {
   "cell_type": "code",
   "execution_count": 11,
   "id": "5a0a6598-22da-47db-ab4b-6f9b5de50431",
   "metadata": {},
   "outputs": [
    {
     "name": "stdout",
     "output_type": "stream",
     "text": [
      "Empty DataFrame\n",
      "Columns: []\n",
      "Index: []\n"
     ]
    }
   ],
   "source": [
    "print(df)"
   ]
  },
  {
   "cell_type": "code",
   "execution_count": 12,
   "id": "7ada8752-104b-42c0-9d5d-289f37a1d00f",
   "metadata": {},
   "outputs": [
    {
     "data": {
      "text/html": [
       "<div>\n",
       "<style scoped>\n",
       "    .dataframe tbody tr th:only-of-type {\n",
       "        vertical-align: middle;\n",
       "    }\n",
       "\n",
       "    .dataframe tbody tr th {\n",
       "        vertical-align: top;\n",
       "    }\n",
       "\n",
       "    .dataframe thead th {\n",
       "        text-align: right;\n",
       "    }\n",
       "</style>\n",
       "<table border=\"1\" class=\"dataframe\">\n",
       "  <thead>\n",
       "    <tr style=\"text-align: right;\">\n",
       "      <th></th>\n",
       "      <th>id</th>\n",
       "      <th>name</th>\n",
       "      <th>age</th>\n",
       "      <th>exp</th>\n",
       "    </tr>\n",
       "  </thead>\n",
       "  <tbody>\n",
       "  </tbody>\n",
       "</table>\n",
       "</div>"
      ],
      "text/plain": [
       "Empty DataFrame\n",
       "Columns: [id, name, age, exp]\n",
       "Index: []"
      ]
     },
     "execution_count": 12,
     "metadata": {},
     "output_type": "execute_result"
    }
   ],
   "source": [
    "col = ['id', 'name', 'age', 'exp']\n",
    "df = pd.DataFrame(columns= col)\n",
    "df"
   ]
  },
  {
   "cell_type": "code",
   "execution_count": 13,
   "id": "fd515e18-e6f9-4e84-8c32-57f27d0b2554",
   "metadata": {},
   "outputs": [
    {
     "data": {
      "text/html": [
       "<div>\n",
       "<style scoped>\n",
       "    .dataframe tbody tr th:only-of-type {\n",
       "        vertical-align: middle;\n",
       "    }\n",
       "\n",
       "    .dataframe tbody tr th {\n",
       "        vertical-align: top;\n",
       "    }\n",
       "\n",
       "    .dataframe thead th {\n",
       "        text-align: right;\n",
       "    }\n",
       "</style>\n",
       "<table border=\"1\" class=\"dataframe\">\n",
       "  <thead>\n",
       "    <tr style=\"text-align: right;\">\n",
       "      <th></th>\n",
       "    </tr>\n",
       "  </thead>\n",
       "  <tbody>\n",
       "  </tbody>\n",
       "</table>\n",
       "</div>"
      ],
      "text/plain": [
       "Empty DataFrame\n",
       "Columns: []\n",
       "Index: []"
      ]
     },
     "execution_count": 13,
     "metadata": {},
     "output_type": "execute_result"
    }
   ],
   "source": [
    "#### data frame with list \n",
    "df1 = pd.DataFrame()\n",
    "df1"
   ]
  },
  {
   "cell_type": "code",
   "execution_count": 14,
   "id": "f9dd94b7-bb94-4032-943c-165b9bf40a73",
   "metadata": {},
   "outputs": [
    {
     "name": "stdout",
     "output_type": "stream",
     "text": [
      "Empty DataFrame\n",
      "Columns: []\n",
      "Index: []\n"
     ]
    }
   ],
   "source": [
    "print(df1)"
   ]
  },
  {
   "cell_type": "code",
   "execution_count": 15,
   "id": "c3639863-a2b9-42a2-a82b-9eb0975e81df",
   "metadata": {},
   "outputs": [
    {
     "data": {
      "text/html": [
       "<div>\n",
       "<style scoped>\n",
       "    .dataframe tbody tr th:only-of-type {\n",
       "        vertical-align: middle;\n",
       "    }\n",
       "\n",
       "    .dataframe tbody tr th {\n",
       "        vertical-align: top;\n",
       "    }\n",
       "\n",
       "    .dataframe thead th {\n",
       "        text-align: right;\n",
       "    }\n",
       "</style>\n",
       "<table border=\"1\" class=\"dataframe\">\n",
       "  <thead>\n",
       "    <tr style=\"text-align: right;\">\n",
       "      <th></th>\n",
       "      <th>id</th>\n",
       "      <th>name</th>\n",
       "      <th>age</th>\n",
       "      <th>exp</th>\n",
       "    </tr>\n",
       "  </thead>\n",
       "  <tbody>\n",
       "    <tr>\n",
       "      <th>0</th>\n",
       "      <td>101</td>\n",
       "      <td>a</td>\n",
       "      <td>45</td>\n",
       "      <td>5</td>\n",
       "    </tr>\n",
       "    <tr>\n",
       "      <th>1</th>\n",
       "      <td>201</td>\n",
       "      <td>b</td>\n",
       "      <td>46</td>\n",
       "      <td>4</td>\n",
       "    </tr>\n",
       "    <tr>\n",
       "      <th>2</th>\n",
       "      <td>301</td>\n",
       "      <td>c</td>\n",
       "      <td>52</td>\n",
       "      <td>5</td>\n",
       "    </tr>\n",
       "  </tbody>\n",
       "</table>\n",
       "</div>"
      ],
      "text/plain": [
       "    id name  age  exp\n",
       "0  101    a   45    5\n",
       "1  201    b   46    4\n",
       "2  301    c   52    5"
      ]
     },
     "execution_count": 15,
     "metadata": {},
     "output_type": "execute_result"
    }
   ],
   "source": [
    "df1['id'] = [101,201,301]\n",
    "df1['name'] = ['a','b','c']\n",
    "df1['age'] = [45,46,52]\n",
    "df1['exp'] = [5,4,5]\n",
    "df1"
   ]
  },
  {
   "cell_type": "code",
   "execution_count": 16,
   "id": "f0aa65d0-010b-4fe1-b8ba-c5c43a190fea",
   "metadata": {},
   "outputs": [
    {
     "data": {
      "text/html": [
       "<div>\n",
       "<style scoped>\n",
       "    .dataframe tbody tr th:only-of-type {\n",
       "        vertical-align: middle;\n",
       "    }\n",
       "\n",
       "    .dataframe tbody tr th {\n",
       "        vertical-align: top;\n",
       "    }\n",
       "\n",
       "    .dataframe thead th {\n",
       "        text-align: right;\n",
       "    }\n",
       "</style>\n",
       "<table border=\"1\" class=\"dataframe\">\n",
       "  <thead>\n",
       "    <tr style=\"text-align: right;\">\n",
       "      <th></th>\n",
       "      <th>id</th>\n",
       "      <th>name</th>\n",
       "      <th>age</th>\n",
       "      <th>exp</th>\n",
       "    </tr>\n",
       "  </thead>\n",
       "  <tbody>\n",
       "    <tr>\n",
       "      <th>1</th>\n",
       "      <td>NaN</td>\n",
       "      <td>NaN</td>\n",
       "      <td>NaN</td>\n",
       "      <td>NaN</td>\n",
       "    </tr>\n",
       "    <tr>\n",
       "      <th>2</th>\n",
       "      <td>NaN</td>\n",
       "      <td>NaN</td>\n",
       "      <td>NaN</td>\n",
       "      <td>NaN</td>\n",
       "    </tr>\n",
       "    <tr>\n",
       "      <th>3</th>\n",
       "      <td>NaN</td>\n",
       "      <td>NaN</td>\n",
       "      <td>NaN</td>\n",
       "      <td>NaN</td>\n",
       "    </tr>\n",
       "    <tr>\n",
       "      <th>4</th>\n",
       "      <td>NaN</td>\n",
       "      <td>NaN</td>\n",
       "      <td>NaN</td>\n",
       "      <td>NaN</td>\n",
       "    </tr>\n",
       "  </tbody>\n",
       "</table>\n",
       "</div>"
      ],
      "text/plain": [
       "    id name  age  exp\n",
       "1  NaN  NaN  NaN  NaN\n",
       "2  NaN  NaN  NaN  NaN\n",
       "3  NaN  NaN  NaN  NaN\n",
       "4  NaN  NaN  NaN  NaN"
      ]
     },
     "execution_count": 16,
     "metadata": {},
     "output_type": "execute_result"
    }
   ],
   "source": [
    "df3 = pd.DataFrame(columns=['id', 'name', 'age', 'exp'],index = [1,2,3,4])\n",
    "df3"
   ]
  },
  {
   "cell_type": "code",
   "execution_count": 17,
   "id": "e6efdc0e-e4f4-4ea3-bdf3-b7b0a96244eb",
   "metadata": {},
   "outputs": [
    {
     "data": {
      "text/html": [
       "<div>\n",
       "<style scoped>\n",
       "    .dataframe tbody tr th:only-of-type {\n",
       "        vertical-align: middle;\n",
       "    }\n",
       "\n",
       "    .dataframe tbody tr th {\n",
       "        vertical-align: top;\n",
       "    }\n",
       "\n",
       "    .dataframe thead th {\n",
       "        text-align: right;\n",
       "    }\n",
       "</style>\n",
       "<table border=\"1\" class=\"dataframe\">\n",
       "  <thead>\n",
       "    <tr style=\"text-align: right;\">\n",
       "      <th></th>\n",
       "      <th>id</th>\n",
       "      <th>name</th>\n",
       "      <th>age</th>\n",
       "      <th>exp</th>\n",
       "    </tr>\n",
       "  </thead>\n",
       "  <tbody>\n",
       "    <tr>\n",
       "      <th>1</th>\n",
       "      <td>101</td>\n",
       "      <td>NaN</td>\n",
       "      <td>NaN</td>\n",
       "      <td>NaN</td>\n",
       "    </tr>\n",
       "    <tr>\n",
       "      <th>2</th>\n",
       "      <td>102</td>\n",
       "      <td>NaN</td>\n",
       "      <td>NaN</td>\n",
       "      <td>NaN</td>\n",
       "    </tr>\n",
       "    <tr>\n",
       "      <th>3</th>\n",
       "      <td>103</td>\n",
       "      <td>NaN</td>\n",
       "      <td>NaN</td>\n",
       "      <td>NaN</td>\n",
       "    </tr>\n",
       "    <tr>\n",
       "      <th>4</th>\n",
       "      <td>104</td>\n",
       "      <td>NaN</td>\n",
       "      <td>NaN</td>\n",
       "      <td>NaN</td>\n",
       "    </tr>\n",
       "  </tbody>\n",
       "</table>\n",
       "</div>"
      ],
      "text/plain": [
       "    id name  age  exp\n",
       "1  101  NaN  NaN  NaN\n",
       "2  102  NaN  NaN  NaN\n",
       "3  103  NaN  NaN  NaN\n",
       "4  104  NaN  NaN  NaN"
      ]
     },
     "execution_count": 17,
     "metadata": {},
     "output_type": "execute_result"
    }
   ],
   "source": [
    "df3['id'] = [101,102,103,104]\n",
    "df3"
   ]
  },
  {
   "cell_type": "code",
   "execution_count": 18,
   "id": "0a2616fd-0a3c-45b7-bc62-b0f058384e66",
   "metadata": {},
   "outputs": [
    {
     "data": {
      "text/html": [
       "<div>\n",
       "<style scoped>\n",
       "    .dataframe tbody tr th:only-of-type {\n",
       "        vertical-align: middle;\n",
       "    }\n",
       "\n",
       "    .dataframe tbody tr th {\n",
       "        vertical-align: top;\n",
       "    }\n",
       "\n",
       "    .dataframe thead th {\n",
       "        text-align: right;\n",
       "    }\n",
       "</style>\n",
       "<table border=\"1\" class=\"dataframe\">\n",
       "  <thead>\n",
       "    <tr style=\"text-align: right;\">\n",
       "      <th></th>\n",
       "      <th>id</th>\n",
       "      <th>name</th>\n",
       "      <th>age</th>\n",
       "      <th>exp</th>\n",
       "    </tr>\n",
       "  </thead>\n",
       "  <tbody>\n",
       "    <tr>\n",
       "      <th>1</th>\n",
       "      <td>101</td>\n",
       "      <td>NaN</td>\n",
       "      <td>45</td>\n",
       "      <td>NaN</td>\n",
       "    </tr>\n",
       "    <tr>\n",
       "      <th>2</th>\n",
       "      <td>102</td>\n",
       "      <td>NaN</td>\n",
       "      <td>65</td>\n",
       "      <td>NaN</td>\n",
       "    </tr>\n",
       "    <tr>\n",
       "      <th>3</th>\n",
       "      <td>103</td>\n",
       "      <td>NaN</td>\n",
       "      <td>46</td>\n",
       "      <td>NaN</td>\n",
       "    </tr>\n",
       "    <tr>\n",
       "      <th>4</th>\n",
       "      <td>104</td>\n",
       "      <td>NaN</td>\n",
       "      <td>89</td>\n",
       "      <td>NaN</td>\n",
       "    </tr>\n",
       "  </tbody>\n",
       "</table>\n",
       "</div>"
      ],
      "text/plain": [
       "    id name  age  exp\n",
       "1  101  NaN   45  NaN\n",
       "2  102  NaN   65  NaN\n",
       "3  103  NaN   46  NaN\n",
       "4  104  NaN   89  NaN"
      ]
     },
     "execution_count": 18,
     "metadata": {},
     "output_type": "execute_result"
    }
   ],
   "source": [
    "df3['age'] = [45,65,46,89]\n",
    "df3"
   ]
  },
  {
   "cell_type": "code",
   "execution_count": 19,
   "id": "8877a7e1-4fac-4c3c-bbc8-885ab7fe015e",
   "metadata": {},
   "outputs": [
    {
     "data": {
      "text/html": [
       "<div>\n",
       "<style scoped>\n",
       "    .dataframe tbody tr th:only-of-type {\n",
       "        vertical-align: middle;\n",
       "    }\n",
       "\n",
       "    .dataframe tbody tr th {\n",
       "        vertical-align: top;\n",
       "    }\n",
       "\n",
       "    .dataframe thead th {\n",
       "        text-align: right;\n",
       "    }\n",
       "</style>\n",
       "<table border=\"1\" class=\"dataframe\">\n",
       "  <thead>\n",
       "    <tr style=\"text-align: right;\">\n",
       "      <th></th>\n",
       "      <th>A</th>\n",
       "      <th>b</th>\n",
       "    </tr>\n",
       "  </thead>\n",
       "  <tbody>\n",
       "    <tr>\n",
       "      <th>0</th>\n",
       "      <td>1</td>\n",
       "      <td>2</td>\n",
       "    </tr>\n",
       "    <tr>\n",
       "      <th>1</th>\n",
       "      <td>3</td>\n",
       "      <td>4</td>\n",
       "    </tr>\n",
       "  </tbody>\n",
       "</table>\n",
       "</div>"
      ],
      "text/plain": [
       "   A  b\n",
       "0  1  2\n",
       "1  3  4"
      ]
     },
     "execution_count": 19,
     "metadata": {},
     "output_type": "execute_result"
    }
   ],
   "source": [
    "df4 = pd.DataFrame([[1,2],[3,4]],columns = ['A','b'])\n",
    "df4"
   ]
  },
  {
   "cell_type": "code",
   "execution_count": 20,
   "id": "05b0f85b-b24d-4a5b-9aea-4352c310dae7",
   "metadata": {},
   "outputs": [
    {
     "data": {
      "text/html": [
       "<div>\n",
       "<style scoped>\n",
       "    .dataframe tbody tr th:only-of-type {\n",
       "        vertical-align: middle;\n",
       "    }\n",
       "\n",
       "    .dataframe tbody tr th {\n",
       "        vertical-align: top;\n",
       "    }\n",
       "\n",
       "    .dataframe thead th {\n",
       "        text-align: right;\n",
       "    }\n",
       "</style>\n",
       "<table border=\"1\" class=\"dataframe\">\n",
       "  <thead>\n",
       "    <tr style=\"text-align: right;\">\n",
       "      <th></th>\n",
       "      <th>id</th>\n",
       "      <th>name</th>\n",
       "      <th>age</th>\n",
       "      <th>exp</th>\n",
       "    </tr>\n",
       "  </thead>\n",
       "  <tbody>\n",
       "    <tr>\n",
       "      <th>0</th>\n",
       "      <td>101</td>\n",
       "      <td>a</td>\n",
       "      <td>45</td>\n",
       "      <td>5</td>\n",
       "    </tr>\n",
       "    <tr>\n",
       "      <th>1</th>\n",
       "      <td>201</td>\n",
       "      <td>b</td>\n",
       "      <td>46</td>\n",
       "      <td>4</td>\n",
       "    </tr>\n",
       "    <tr>\n",
       "      <th>2</th>\n",
       "      <td>301</td>\n",
       "      <td>c</td>\n",
       "      <td>52</td>\n",
       "      <td>5</td>\n",
       "    </tr>\n",
       "    <tr>\n",
       "      <th>3</th>\n",
       "      <td>401</td>\n",
       "      <td>d</td>\n",
       "      <td>54</td>\n",
       "      <td>6</td>\n",
       "    </tr>\n",
       "    <tr>\n",
       "      <th>4</th>\n",
       "      <td>501</td>\n",
       "      <td>e</td>\n",
       "      <td>76</td>\n",
       "      <td>5</td>\n",
       "    </tr>\n",
       "    <tr>\n",
       "      <th>5</th>\n",
       "      <td>601</td>\n",
       "      <td>f</td>\n",
       "      <td>25</td>\n",
       "      <td>6</td>\n",
       "    </tr>\n",
       "    <tr>\n",
       "      <th>6</th>\n",
       "      <td>701</td>\n",
       "      <td>g</td>\n",
       "      <td>65</td>\n",
       "      <td>5</td>\n",
       "    </tr>\n",
       "    <tr>\n",
       "      <th>7</th>\n",
       "      <td>801</td>\n",
       "      <td>h</td>\n",
       "      <td>55</td>\n",
       "      <td>6</td>\n",
       "    </tr>\n",
       "    <tr>\n",
       "      <th>8</th>\n",
       "      <td>901</td>\n",
       "      <td>i</td>\n",
       "      <td>25</td>\n",
       "      <td>5</td>\n",
       "    </tr>\n",
       "    <tr>\n",
       "      <th>9</th>\n",
       "      <td>1011</td>\n",
       "      <td>j</td>\n",
       "      <td>12</td>\n",
       "      <td>5</td>\n",
       "    </tr>\n",
       "  </tbody>\n",
       "</table>\n",
       "</div>"
      ],
      "text/plain": [
       "     id name  age  exp\n",
       "0   101    a   45    5\n",
       "1   201    b   46    4\n",
       "2   301    c   52    5\n",
       "3   401    d   54    6\n",
       "4   501    e   76    5\n",
       "5   601    f   25    6\n",
       "6   701    g   65    5\n",
       "7   801    h   55    6\n",
       "8   901    i   25    5\n",
       "9  1011    j   12    5"
      ]
     },
     "execution_count": 20,
     "metadata": {},
     "output_type": "execute_result"
    }
   ],
   "source": [
    "df5 = pd.DataFrame()\n",
    "df5['id'] = [101,201,301,401,501,601,701,801,901,1011]\n",
    "df5['name'] = ['a','b','c','d','e','f','g','h','i','j']\n",
    "df5['age'] = [45,46,52,54,76,25,65,55,25,12]\n",
    "df5['exp'] = [5,4,5,6,5,6,5,6,5,5]\n",
    "df5"
   ]
  },
  {
   "cell_type": "code",
   "execution_count": 21,
   "id": "b6ae1f07-8abb-493f-91e0-1f9fcf975b9d",
   "metadata": {},
   "outputs": [
    {
     "data": {
      "text/plain": [
       "0    45\n",
       "1    46\n",
       "2    52\n",
       "3    54\n",
       "4    76\n",
       "5    25\n",
       "6    65\n",
       "7    55\n",
       "8    25\n",
       "9    12\n",
       "Name: age, dtype: int64"
      ]
     },
     "execution_count": 21,
     "metadata": {},
     "output_type": "execute_result"
    }
   ],
   "source": [
    "### single column indexing\n",
    "df5['age']"
   ]
  },
  {
   "cell_type": "code",
   "execution_count": 22,
   "id": "ac6574ae-124d-496a-a5d2-3e5a04b91707",
   "metadata": {},
   "outputs": [
    {
     "data": {
      "text/html": [
       "<div>\n",
       "<style scoped>\n",
       "    .dataframe tbody tr th:only-of-type {\n",
       "        vertical-align: middle;\n",
       "    }\n",
       "\n",
       "    .dataframe tbody tr th {\n",
       "        vertical-align: top;\n",
       "    }\n",
       "\n",
       "    .dataframe thead th {\n",
       "        text-align: right;\n",
       "    }\n",
       "</style>\n",
       "<table border=\"1\" class=\"dataframe\">\n",
       "  <thead>\n",
       "    <tr style=\"text-align: right;\">\n",
       "      <th></th>\n",
       "      <th>age</th>\n",
       "      <th>name</th>\n",
       "    </tr>\n",
       "  </thead>\n",
       "  <tbody>\n",
       "    <tr>\n",
       "      <th>0</th>\n",
       "      <td>45</td>\n",
       "      <td>a</td>\n",
       "    </tr>\n",
       "    <tr>\n",
       "      <th>1</th>\n",
       "      <td>46</td>\n",
       "      <td>b</td>\n",
       "    </tr>\n",
       "    <tr>\n",
       "      <th>2</th>\n",
       "      <td>52</td>\n",
       "      <td>c</td>\n",
       "    </tr>\n",
       "    <tr>\n",
       "      <th>3</th>\n",
       "      <td>54</td>\n",
       "      <td>d</td>\n",
       "    </tr>\n",
       "    <tr>\n",
       "      <th>4</th>\n",
       "      <td>76</td>\n",
       "      <td>e</td>\n",
       "    </tr>\n",
       "    <tr>\n",
       "      <th>5</th>\n",
       "      <td>25</td>\n",
       "      <td>f</td>\n",
       "    </tr>\n",
       "    <tr>\n",
       "      <th>6</th>\n",
       "      <td>65</td>\n",
       "      <td>g</td>\n",
       "    </tr>\n",
       "    <tr>\n",
       "      <th>7</th>\n",
       "      <td>55</td>\n",
       "      <td>h</td>\n",
       "    </tr>\n",
       "    <tr>\n",
       "      <th>8</th>\n",
       "      <td>25</td>\n",
       "      <td>i</td>\n",
       "    </tr>\n",
       "    <tr>\n",
       "      <th>9</th>\n",
       "      <td>12</td>\n",
       "      <td>j</td>\n",
       "    </tr>\n",
       "  </tbody>\n",
       "</table>\n",
       "</div>"
      ],
      "text/plain": [
       "   age name\n",
       "0   45    a\n",
       "1   46    b\n",
       "2   52    c\n",
       "3   54    d\n",
       "4   76    e\n",
       "5   25    f\n",
       "6   65    g\n",
       "7   55    h\n",
       "8   25    i\n",
       "9   12    j"
      ]
     },
     "execution_count": 22,
     "metadata": {},
     "output_type": "execute_result"
    }
   ],
   "source": [
    "### adding multiple column indexing\n",
    "df5[['age','name']]"
   ]
  },
  {
   "cell_type": "code",
   "execution_count": 23,
   "id": "d86df864-da50-43a1-a560-17909a773689",
   "metadata": {},
   "outputs": [
    {
     "data": {
      "text/html": [
       "<div>\n",
       "<style scoped>\n",
       "    .dataframe tbody tr th:only-of-type {\n",
       "        vertical-align: middle;\n",
       "    }\n",
       "\n",
       "    .dataframe tbody tr th {\n",
       "        vertical-align: top;\n",
       "    }\n",
       "\n",
       "    .dataframe thead th {\n",
       "        text-align: right;\n",
       "    }\n",
       "</style>\n",
       "<table border=\"1\" class=\"dataframe\">\n",
       "  <thead>\n",
       "    <tr style=\"text-align: right;\">\n",
       "      <th></th>\n",
       "      <th>id</th>\n",
       "      <th>name</th>\n",
       "      <th>age</th>\n",
       "      <th>exp</th>\n",
       "    </tr>\n",
       "  </thead>\n",
       "  <tbody>\n",
       "    <tr>\n",
       "      <th>0</th>\n",
       "      <td>101</td>\n",
       "      <td>a</td>\n",
       "      <td>45</td>\n",
       "      <td>45</td>\n",
       "    </tr>\n",
       "    <tr>\n",
       "      <th>1</th>\n",
       "      <td>201</td>\n",
       "      <td>b</td>\n",
       "      <td>46</td>\n",
       "      <td>46</td>\n",
       "    </tr>\n",
       "    <tr>\n",
       "      <th>2</th>\n",
       "      <td>301</td>\n",
       "      <td>c</td>\n",
       "      <td>52</td>\n",
       "      <td>52</td>\n",
       "    </tr>\n",
       "    <tr>\n",
       "      <th>3</th>\n",
       "      <td>401</td>\n",
       "      <td>d</td>\n",
       "      <td>54</td>\n",
       "      <td>54</td>\n",
       "    </tr>\n",
       "    <tr>\n",
       "      <th>4</th>\n",
       "      <td>501</td>\n",
       "      <td>e</td>\n",
       "      <td>76</td>\n",
       "      <td>76</td>\n",
       "    </tr>\n",
       "    <tr>\n",
       "      <th>5</th>\n",
       "      <td>601</td>\n",
       "      <td>f</td>\n",
       "      <td>25</td>\n",
       "      <td>25</td>\n",
       "    </tr>\n",
       "    <tr>\n",
       "      <th>6</th>\n",
       "      <td>701</td>\n",
       "      <td>g</td>\n",
       "      <td>65</td>\n",
       "      <td>65</td>\n",
       "    </tr>\n",
       "    <tr>\n",
       "      <th>7</th>\n",
       "      <td>801</td>\n",
       "      <td>h</td>\n",
       "      <td>55</td>\n",
       "      <td>55</td>\n",
       "    </tr>\n",
       "    <tr>\n",
       "      <th>8</th>\n",
       "      <td>901</td>\n",
       "      <td>i</td>\n",
       "      <td>25</td>\n",
       "      <td>25</td>\n",
       "    </tr>\n",
       "    <tr>\n",
       "      <th>9</th>\n",
       "      <td>1011</td>\n",
       "      <td>j</td>\n",
       "      <td>12</td>\n",
       "      <td>12</td>\n",
       "    </tr>\n",
       "  </tbody>\n",
       "</table>\n",
       "</div>"
      ],
      "text/plain": [
       "     id name  age  exp\n",
       "0   101    a   45   45\n",
       "1   201    b   46   46\n",
       "2   301    c   52   52\n",
       "3   401    d   54   54\n",
       "4   501    e   76   76\n",
       "5   601    f   25   25\n",
       "6   701    g   65   65\n",
       "7   801    h   55   55\n",
       "8   901    i   25   25\n",
       "9  1011    j   12   12"
      ]
     },
     "execution_count": 23,
     "metadata": {},
     "output_type": "execute_result"
    }
   ],
   "source": [
    "#### asign a column value to another column\n",
    "df5['exp'] = df5['age']\n",
    "df5\n",
    "### you can also assign multiple col like this\n",
    "### df5[['exp', 'age']] = df5[['name','id']]"
   ]
  },
  {
   "cell_type": "code",
   "execution_count": 24,
   "id": "28794557-01cd-4c9a-9904-645b32749752",
   "metadata": {},
   "outputs": [
    {
     "data": {
      "text/html": [
       "<div>\n",
       "<style scoped>\n",
       "    .dataframe tbody tr th:only-of-type {\n",
       "        vertical-align: middle;\n",
       "    }\n",
       "\n",
       "    .dataframe tbody tr th {\n",
       "        vertical-align: top;\n",
       "    }\n",
       "\n",
       "    .dataframe thead th {\n",
       "        text-align: right;\n",
       "    }\n",
       "</style>\n",
       "<table border=\"1\" class=\"dataframe\">\n",
       "  <thead>\n",
       "    <tr style=\"text-align: right;\">\n",
       "      <th></th>\n",
       "      <th>id</th>\n",
       "      <th>name</th>\n",
       "      <th>age</th>\n",
       "      <th>exp</th>\n",
       "    </tr>\n",
       "  </thead>\n",
       "  <tbody>\n",
       "    <tr>\n",
       "      <th>0</th>\n",
       "      <td>101</td>\n",
       "      <td>a</td>\n",
       "      <td>45</td>\n",
       "      <td>45</td>\n",
       "    </tr>\n",
       "    <tr>\n",
       "      <th>1</th>\n",
       "      <td>201</td>\n",
       "      <td>b</td>\n",
       "      <td>46</td>\n",
       "      <td>46</td>\n",
       "    </tr>\n",
       "    <tr>\n",
       "      <th>2</th>\n",
       "      <td>301</td>\n",
       "      <td>c</td>\n",
       "      <td>52</td>\n",
       "      <td>52</td>\n",
       "    </tr>\n",
       "    <tr>\n",
       "      <th>3</th>\n",
       "      <td>401</td>\n",
       "      <td>d</td>\n",
       "      <td>54</td>\n",
       "      <td>54</td>\n",
       "    </tr>\n",
       "    <tr>\n",
       "      <th>4</th>\n",
       "      <td>501</td>\n",
       "      <td>e</td>\n",
       "      <td>76</td>\n",
       "      <td>76</td>\n",
       "    </tr>\n",
       "    <tr>\n",
       "      <th>5</th>\n",
       "      <td>601</td>\n",
       "      <td>f</td>\n",
       "      <td>25</td>\n",
       "      <td>25</td>\n",
       "    </tr>\n",
       "    <tr>\n",
       "      <th>6</th>\n",
       "      <td>701</td>\n",
       "      <td>g</td>\n",
       "      <td>65</td>\n",
       "      <td>65</td>\n",
       "    </tr>\n",
       "    <tr>\n",
       "      <th>7</th>\n",
       "      <td>801</td>\n",
       "      <td>h</td>\n",
       "      <td>55</td>\n",
       "      <td>55</td>\n",
       "    </tr>\n",
       "    <tr>\n",
       "      <th>8</th>\n",
       "      <td>901</td>\n",
       "      <td>i</td>\n",
       "      <td>25</td>\n",
       "      <td>25</td>\n",
       "    </tr>\n",
       "    <tr>\n",
       "      <th>9</th>\n",
       "      <td>1011</td>\n",
       "      <td>j</td>\n",
       "      <td>12</td>\n",
       "      <td>12</td>\n",
       "    </tr>\n",
       "  </tbody>\n",
       "</table>\n",
       "</div>"
      ],
      "text/plain": [
       "     id name  age  exp\n",
       "0   101    a   45   45\n",
       "1   201    b   46   46\n",
       "2   301    c   52   52\n",
       "3   401    d   54   54\n",
       "4   501    e   76   76\n",
       "5   601    f   25   25\n",
       "6   701    g   65   65\n",
       "7   801    h   55   55\n",
       "8   901    i   25   25\n",
       "9  1011    j   12   12"
      ]
     },
     "execution_count": 24,
     "metadata": {},
     "output_type": "execute_result"
    }
   ],
   "source": [
    "df6 = pd.DataFrame(df5)\n",
    "df6"
   ]
  },
  {
   "cell_type": "code",
   "execution_count": 25,
   "id": "97f170a1-fd6e-4c4d-8ab4-ddf7f03f8664",
   "metadata": {},
   "outputs": [
    {
     "data": {
      "text/html": [
       "<div>\n",
       "<style scoped>\n",
       "    .dataframe tbody tr th:only-of-type {\n",
       "        vertical-align: middle;\n",
       "    }\n",
       "\n",
       "    .dataframe tbody tr th {\n",
       "        vertical-align: top;\n",
       "    }\n",
       "\n",
       "    .dataframe thead th {\n",
       "        text-align: right;\n",
       "    }\n",
       "</style>\n",
       "<table border=\"1\" class=\"dataframe\">\n",
       "  <thead>\n",
       "    <tr style=\"text-align: right;\">\n",
       "      <th></th>\n",
       "      <th>id</th>\n",
       "      <th>name</th>\n",
       "      <th>age</th>\n",
       "      <th>exp</th>\n",
       "    </tr>\n",
       "  </thead>\n",
       "  <tbody>\n",
       "    <tr>\n",
       "      <th>0</th>\n",
       "      <td>101</td>\n",
       "      <td>a</td>\n",
       "      <td>101</td>\n",
       "      <td>a</td>\n",
       "    </tr>\n",
       "    <tr>\n",
       "      <th>1</th>\n",
       "      <td>201</td>\n",
       "      <td>b</td>\n",
       "      <td>201</td>\n",
       "      <td>b</td>\n",
       "    </tr>\n",
       "    <tr>\n",
       "      <th>2</th>\n",
       "      <td>301</td>\n",
       "      <td>c</td>\n",
       "      <td>301</td>\n",
       "      <td>c</td>\n",
       "    </tr>\n",
       "    <tr>\n",
       "      <th>3</th>\n",
       "      <td>401</td>\n",
       "      <td>d</td>\n",
       "      <td>401</td>\n",
       "      <td>d</td>\n",
       "    </tr>\n",
       "    <tr>\n",
       "      <th>4</th>\n",
       "      <td>501</td>\n",
       "      <td>e</td>\n",
       "      <td>501</td>\n",
       "      <td>e</td>\n",
       "    </tr>\n",
       "    <tr>\n",
       "      <th>5</th>\n",
       "      <td>601</td>\n",
       "      <td>f</td>\n",
       "      <td>601</td>\n",
       "      <td>f</td>\n",
       "    </tr>\n",
       "    <tr>\n",
       "      <th>6</th>\n",
       "      <td>701</td>\n",
       "      <td>g</td>\n",
       "      <td>701</td>\n",
       "      <td>g</td>\n",
       "    </tr>\n",
       "    <tr>\n",
       "      <th>7</th>\n",
       "      <td>801</td>\n",
       "      <td>h</td>\n",
       "      <td>801</td>\n",
       "      <td>h</td>\n",
       "    </tr>\n",
       "    <tr>\n",
       "      <th>8</th>\n",
       "      <td>901</td>\n",
       "      <td>i</td>\n",
       "      <td>901</td>\n",
       "      <td>i</td>\n",
       "    </tr>\n",
       "    <tr>\n",
       "      <th>9</th>\n",
       "      <td>1011</td>\n",
       "      <td>j</td>\n",
       "      <td>1011</td>\n",
       "      <td>j</td>\n",
       "    </tr>\n",
       "  </tbody>\n",
       "</table>\n",
       "</div>"
      ],
      "text/plain": [
       "     id name   age exp\n",
       "0   101    a   101   a\n",
       "1   201    b   201   b\n",
       "2   301    c   301   c\n",
       "3   401    d   401   d\n",
       "4   501    e   501   e\n",
       "5   601    f   601   f\n",
       "6   701    g   701   g\n",
       "7   801    h   801   h\n",
       "8   901    i   901   i\n",
       "9  1011    j  1011   j"
      ]
     },
     "execution_count": 25,
     "metadata": {},
     "output_type": "execute_result"
    }
   ],
   "source": [
    "### you can also assign multiple col like this\n",
    "df6[['exp', 'age']] = df6[['name','id']]\n",
    "df6"
   ]
  },
  {
   "cell_type": "code",
   "execution_count": 26,
   "id": "3b5364ba-0d8b-4d81-a545-b080e36796f6",
   "metadata": {},
   "outputs": [
    {
     "data": {
      "text/html": [
       "<div>\n",
       "<style scoped>\n",
       "    .dataframe tbody tr th:only-of-type {\n",
       "        vertical-align: middle;\n",
       "    }\n",
       "\n",
       "    .dataframe tbody tr th {\n",
       "        vertical-align: top;\n",
       "    }\n",
       "\n",
       "    .dataframe thead th {\n",
       "        text-align: right;\n",
       "    }\n",
       "</style>\n",
       "<table border=\"1\" class=\"dataframe\">\n",
       "  <thead>\n",
       "    <tr style=\"text-align: right;\">\n",
       "      <th></th>\n",
       "      <th>id</th>\n",
       "      <th>name</th>\n",
       "      <th>age</th>\n",
       "      <th>exp</th>\n",
       "    </tr>\n",
       "  </thead>\n",
       "  <tbody>\n",
       "    <tr>\n",
       "      <th>0</th>\n",
       "      <td>101</td>\n",
       "      <td>a</td>\n",
       "      <td>101</td>\n",
       "      <td>a</td>\n",
       "    </tr>\n",
       "    <tr>\n",
       "      <th>1</th>\n",
       "      <td>201</td>\n",
       "      <td>b</td>\n",
       "      <td>201</td>\n",
       "      <td>b</td>\n",
       "    </tr>\n",
       "    <tr>\n",
       "      <th>2</th>\n",
       "      <td>301</td>\n",
       "      <td>c</td>\n",
       "      <td>301</td>\n",
       "      <td>c</td>\n",
       "    </tr>\n",
       "    <tr>\n",
       "      <th>3</th>\n",
       "      <td>401</td>\n",
       "      <td>d</td>\n",
       "      <td>401</td>\n",
       "      <td>d</td>\n",
       "    </tr>\n",
       "    <tr>\n",
       "      <th>4</th>\n",
       "      <td>501</td>\n",
       "      <td>e</td>\n",
       "      <td>501</td>\n",
       "      <td>e</td>\n",
       "    </tr>\n",
       "    <tr>\n",
       "      <th>5</th>\n",
       "      <td>601</td>\n",
       "      <td>f</td>\n",
       "      <td>601</td>\n",
       "      <td>f</td>\n",
       "    </tr>\n",
       "    <tr>\n",
       "      <th>6</th>\n",
       "      <td>701</td>\n",
       "      <td>g</td>\n",
       "      <td>701</td>\n",
       "      <td>g</td>\n",
       "    </tr>\n",
       "    <tr>\n",
       "      <th>7</th>\n",
       "      <td>801</td>\n",
       "      <td>h</td>\n",
       "      <td>801</td>\n",
       "      <td>h</td>\n",
       "    </tr>\n",
       "    <tr>\n",
       "      <th>8</th>\n",
       "      <td>901</td>\n",
       "      <td>i</td>\n",
       "      <td>901</td>\n",
       "      <td>i</td>\n",
       "    </tr>\n",
       "    <tr>\n",
       "      <th>9</th>\n",
       "      <td>1011</td>\n",
       "      <td>j</td>\n",
       "      <td>1011</td>\n",
       "      <td>j</td>\n",
       "    </tr>\n",
       "  </tbody>\n",
       "</table>\n",
       "</div>"
      ],
      "text/plain": [
       "     id name   age exp\n",
       "0   101    a   101   a\n",
       "1   201    b   201   b\n",
       "2   301    c   301   c\n",
       "3   401    d   401   d\n",
       "4   501    e   501   e\n",
       "5   601    f   601   f\n",
       "6   701    g   701   g\n",
       "7   801    h   801   h\n",
       "8   901    i   901   i\n",
       "9  1011    j  1011   j"
      ]
     },
     "execution_count": 26,
     "metadata": {},
     "output_type": "execute_result"
    }
   ],
   "source": [
    "#### row slicing\n",
    "df6[:]"
   ]
  },
  {
   "cell_type": "code",
   "execution_count": 27,
   "id": "ce07e6a2-f00f-4585-bc38-ac6d6ffe09e6",
   "metadata": {},
   "outputs": [
    {
     "data": {
      "text/html": [
       "<div>\n",
       "<style scoped>\n",
       "    .dataframe tbody tr th:only-of-type {\n",
       "        vertical-align: middle;\n",
       "    }\n",
       "\n",
       "    .dataframe tbody tr th {\n",
       "        vertical-align: top;\n",
       "    }\n",
       "\n",
       "    .dataframe thead th {\n",
       "        text-align: right;\n",
       "    }\n",
       "</style>\n",
       "<table border=\"1\" class=\"dataframe\">\n",
       "  <thead>\n",
       "    <tr style=\"text-align: right;\">\n",
       "      <th></th>\n",
       "      <th>id</th>\n",
       "      <th>name</th>\n",
       "      <th>age</th>\n",
       "      <th>exp</th>\n",
       "    </tr>\n",
       "  </thead>\n",
       "  <tbody>\n",
       "    <tr>\n",
       "      <th>5</th>\n",
       "      <td>601</td>\n",
       "      <td>f</td>\n",
       "      <td>601</td>\n",
       "      <td>f</td>\n",
       "    </tr>\n",
       "    <tr>\n",
       "      <th>6</th>\n",
       "      <td>701</td>\n",
       "      <td>g</td>\n",
       "      <td>701</td>\n",
       "      <td>g</td>\n",
       "    </tr>\n",
       "    <tr>\n",
       "      <th>7</th>\n",
       "      <td>801</td>\n",
       "      <td>h</td>\n",
       "      <td>801</td>\n",
       "      <td>h</td>\n",
       "    </tr>\n",
       "    <tr>\n",
       "      <th>8</th>\n",
       "      <td>901</td>\n",
       "      <td>i</td>\n",
       "      <td>901</td>\n",
       "      <td>i</td>\n",
       "    </tr>\n",
       "    <tr>\n",
       "      <th>9</th>\n",
       "      <td>1011</td>\n",
       "      <td>j</td>\n",
       "      <td>1011</td>\n",
       "      <td>j</td>\n",
       "    </tr>\n",
       "  </tbody>\n",
       "</table>\n",
       "</div>"
      ],
      "text/plain": [
       "     id name   age exp\n",
       "5   601    f   601   f\n",
       "6   701    g   701   g\n",
       "7   801    h   801   h\n",
       "8   901    i   901   i\n",
       "9  1011    j  1011   j"
      ]
     },
     "execution_count": 27,
     "metadata": {},
     "output_type": "execute_result"
    }
   ],
   "source": [
    "df6[5:]"
   ]
  },
  {
   "cell_type": "code",
   "execution_count": 28,
   "id": "ead6f85e-f058-458c-8ea8-982d4c6ecb9b",
   "metadata": {},
   "outputs": [
    {
     "data": {
      "text/html": [
       "<div>\n",
       "<style scoped>\n",
       "    .dataframe tbody tr th:only-of-type {\n",
       "        vertical-align: middle;\n",
       "    }\n",
       "\n",
       "    .dataframe tbody tr th {\n",
       "        vertical-align: top;\n",
       "    }\n",
       "\n",
       "    .dataframe thead th {\n",
       "        text-align: right;\n",
       "    }\n",
       "</style>\n",
       "<table border=\"1\" class=\"dataframe\">\n",
       "  <thead>\n",
       "    <tr style=\"text-align: right;\">\n",
       "      <th></th>\n",
       "      <th>id</th>\n",
       "      <th>name</th>\n",
       "      <th>age</th>\n",
       "      <th>exp</th>\n",
       "    </tr>\n",
       "  </thead>\n",
       "  <tbody>\n",
       "    <tr>\n",
       "      <th>2</th>\n",
       "      <td>301</td>\n",
       "      <td>c</td>\n",
       "      <td>301</td>\n",
       "      <td>c</td>\n",
       "    </tr>\n",
       "    <tr>\n",
       "      <th>4</th>\n",
       "      <td>501</td>\n",
       "      <td>e</td>\n",
       "      <td>501</td>\n",
       "      <td>e</td>\n",
       "    </tr>\n",
       "    <tr>\n",
       "      <th>6</th>\n",
       "      <td>701</td>\n",
       "      <td>g</td>\n",
       "      <td>701</td>\n",
       "      <td>g</td>\n",
       "    </tr>\n",
       "  </tbody>\n",
       "</table>\n",
       "</div>"
      ],
      "text/plain": [
       "    id name  age exp\n",
       "2  301    c  301   c\n",
       "4  501    e  501   e\n",
       "6  701    g  701   g"
      ]
     },
     "execution_count": 28,
     "metadata": {},
     "output_type": "execute_result"
    }
   ],
   "source": [
    "df6[2:7:2]"
   ]
  },
  {
   "cell_type": "code",
   "execution_count": 29,
   "id": "f5fd30ab-ce2e-4cb8-9b48-f66e18803a9b",
   "metadata": {},
   "outputs": [
    {
     "data": {
      "text/html": [
       "<div>\n",
       "<style scoped>\n",
       "    .dataframe tbody tr th:only-of-type {\n",
       "        vertical-align: middle;\n",
       "    }\n",
       "\n",
       "    .dataframe tbody tr th {\n",
       "        vertical-align: top;\n",
       "    }\n",
       "\n",
       "    .dataframe thead th {\n",
       "        text-align: right;\n",
       "    }\n",
       "</style>\n",
       "<table border=\"1\" class=\"dataframe\">\n",
       "  <thead>\n",
       "    <tr style=\"text-align: right;\">\n",
       "      <th></th>\n",
       "      <th>id</th>\n",
       "      <th>name</th>\n",
       "      <th>age</th>\n",
       "      <th>exp</th>\n",
       "    </tr>\n",
       "  </thead>\n",
       "  <tbody>\n",
       "    <tr>\n",
       "      <th>9</th>\n",
       "      <td>1011</td>\n",
       "      <td>j</td>\n",
       "      <td>1011</td>\n",
       "      <td>j</td>\n",
       "    </tr>\n",
       "    <tr>\n",
       "      <th>8</th>\n",
       "      <td>901</td>\n",
       "      <td>i</td>\n",
       "      <td>901</td>\n",
       "      <td>i</td>\n",
       "    </tr>\n",
       "    <tr>\n",
       "      <th>7</th>\n",
       "      <td>801</td>\n",
       "      <td>h</td>\n",
       "      <td>801</td>\n",
       "      <td>h</td>\n",
       "    </tr>\n",
       "    <tr>\n",
       "      <th>6</th>\n",
       "      <td>701</td>\n",
       "      <td>g</td>\n",
       "      <td>701</td>\n",
       "      <td>g</td>\n",
       "    </tr>\n",
       "    <tr>\n",
       "      <th>5</th>\n",
       "      <td>601</td>\n",
       "      <td>f</td>\n",
       "      <td>601</td>\n",
       "      <td>f</td>\n",
       "    </tr>\n",
       "    <tr>\n",
       "      <th>4</th>\n",
       "      <td>501</td>\n",
       "      <td>e</td>\n",
       "      <td>501</td>\n",
       "      <td>e</td>\n",
       "    </tr>\n",
       "    <tr>\n",
       "      <th>3</th>\n",
       "      <td>401</td>\n",
       "      <td>d</td>\n",
       "      <td>401</td>\n",
       "      <td>d</td>\n",
       "    </tr>\n",
       "    <tr>\n",
       "      <th>2</th>\n",
       "      <td>301</td>\n",
       "      <td>c</td>\n",
       "      <td>301</td>\n",
       "      <td>c</td>\n",
       "    </tr>\n",
       "    <tr>\n",
       "      <th>1</th>\n",
       "      <td>201</td>\n",
       "      <td>b</td>\n",
       "      <td>201</td>\n",
       "      <td>b</td>\n",
       "    </tr>\n",
       "    <tr>\n",
       "      <th>0</th>\n",
       "      <td>101</td>\n",
       "      <td>a</td>\n",
       "      <td>101</td>\n",
       "      <td>a</td>\n",
       "    </tr>\n",
       "  </tbody>\n",
       "</table>\n",
       "</div>"
      ],
      "text/plain": [
       "     id name   age exp\n",
       "9  1011    j  1011   j\n",
       "8   901    i   901   i\n",
       "7   801    h   801   h\n",
       "6   701    g   701   g\n",
       "5   601    f   601   f\n",
       "4   501    e   501   e\n",
       "3   401    d   401   d\n",
       "2   301    c   301   c\n",
       "1   201    b   201   b\n",
       "0   101    a   101   a"
      ]
     },
     "execution_count": 29,
     "metadata": {},
     "output_type": "execute_result"
    }
   ],
   "source": [
    "df6[::-1]"
   ]
  },
  {
   "cell_type": "code",
   "execution_count": 30,
   "id": "b67fa404-4a74-47c0-a567-d9c7df2a18db",
   "metadata": {},
   "outputs": [
    {
     "data": {
      "text/plain": [
       "id      201\n",
       "name      b\n",
       "age     201\n",
       "exp       b\n",
       "Name: 1, dtype: object"
      ]
     },
     "execution_count": 30,
     "metadata": {},
     "output_type": "execute_result"
    }
   ],
   "source": [
    "##### #  - Accessing data using .loc[] and .iloc[].\n",
    "df6.iloc[1]"
   ]
  },
  {
   "cell_type": "code",
   "execution_count": 31,
   "id": "b9a54dcc-62fe-4491-ad40-d153cf4dba0c",
   "metadata": {},
   "outputs": [
    {
     "data": {
      "text/plain": [
       "'c'"
      ]
     },
     "execution_count": 31,
     "metadata": {},
     "output_type": "execute_result"
    }
   ],
   "source": [
    "df6.iloc[2,3]"
   ]
  },
  {
   "cell_type": "code",
   "execution_count": 32,
   "id": "47bd931e-3943-4161-b572-b77f883b1495",
   "metadata": {},
   "outputs": [
    {
     "data": {
      "text/html": [
       "<div>\n",
       "<style scoped>\n",
       "    .dataframe tbody tr th:only-of-type {\n",
       "        vertical-align: middle;\n",
       "    }\n",
       "\n",
       "    .dataframe tbody tr th {\n",
       "        vertical-align: top;\n",
       "    }\n",
       "\n",
       "    .dataframe thead th {\n",
       "        text-align: right;\n",
       "    }\n",
       "</style>\n",
       "<table border=\"1\" class=\"dataframe\">\n",
       "  <thead>\n",
       "    <tr style=\"text-align: right;\">\n",
       "      <th></th>\n",
       "      <th>id</th>\n",
       "      <th>name</th>\n",
       "      <th>age</th>\n",
       "      <th>exp</th>\n",
       "    </tr>\n",
       "  </thead>\n",
       "  <tbody>\n",
       "    <tr>\n",
       "      <th>1</th>\n",
       "      <td>201</td>\n",
       "      <td>b</td>\n",
       "      <td>201</td>\n",
       "      <td>b</td>\n",
       "    </tr>\n",
       "    <tr>\n",
       "      <th>2</th>\n",
       "      <td>301</td>\n",
       "      <td>c</td>\n",
       "      <td>301</td>\n",
       "      <td>c</td>\n",
       "    </tr>\n",
       "    <tr>\n",
       "      <th>3</th>\n",
       "      <td>401</td>\n",
       "      <td>d</td>\n",
       "      <td>401</td>\n",
       "      <td>d</td>\n",
       "    </tr>\n",
       "  </tbody>\n",
       "</table>\n",
       "</div>"
      ],
      "text/plain": [
       "    id name  age exp\n",
       "1  201    b  201   b\n",
       "2  301    c  301   c\n",
       "3  401    d  401   d"
      ]
     },
     "execution_count": 32,
     "metadata": {},
     "output_type": "execute_result"
    }
   ],
   "source": [
    "df6.iloc[[1,2,3]]"
   ]
  },
  {
   "cell_type": "code",
   "execution_count": 33,
   "id": "0a4b7ab6-d24c-4e08-be30-3b9110b17bf8",
   "metadata": {},
   "outputs": [
    {
     "data": {
      "text/html": [
       "<div>\n",
       "<style scoped>\n",
       "    .dataframe tbody tr th:only-of-type {\n",
       "        vertical-align: middle;\n",
       "    }\n",
       "\n",
       "    .dataframe tbody tr th {\n",
       "        vertical-align: top;\n",
       "    }\n",
       "\n",
       "    .dataframe thead th {\n",
       "        text-align: right;\n",
       "    }\n",
       "</style>\n",
       "<table border=\"1\" class=\"dataframe\">\n",
       "  <thead>\n",
       "    <tr style=\"text-align: right;\">\n",
       "      <th></th>\n",
       "      <th>age</th>\n",
       "      <th>exp</th>\n",
       "    </tr>\n",
       "  </thead>\n",
       "  <tbody>\n",
       "    <tr>\n",
       "      <th>1</th>\n",
       "      <td>201</td>\n",
       "      <td>b</td>\n",
       "    </tr>\n",
       "    <tr>\n",
       "      <th>2</th>\n",
       "      <td>301</td>\n",
       "      <td>c</td>\n",
       "    </tr>\n",
       "    <tr>\n",
       "      <th>3</th>\n",
       "      <td>401</td>\n",
       "      <td>d</td>\n",
       "    </tr>\n",
       "  </tbody>\n",
       "</table>\n",
       "</div>"
      ],
      "text/plain": [
       "   age exp\n",
       "1  201   b\n",
       "2  301   c\n",
       "3  401   d"
      ]
     },
     "execution_count": 33,
     "metadata": {},
     "output_type": "execute_result"
    }
   ],
   "source": [
    "df6.iloc[[1,2,3],[2,3]]"
   ]
  },
  {
   "cell_type": "code",
   "execution_count": 34,
   "id": "fe6f4e4c-68b1-42a8-bb5a-da07d89d1582",
   "metadata": {},
   "outputs": [
    {
     "data": {
      "text/plain": [
       "2    301\n",
       "3    401\n",
       "5    601\n",
       "Name: age, dtype: int64"
      ]
     },
     "execution_count": 34,
     "metadata": {},
     "output_type": "execute_result"
    }
   ],
   "source": [
    "####### - Accessing data using .loc[]\n",
    "df6.loc[[2,3,5],'age']"
   ]
  },
  {
   "cell_type": "code",
   "execution_count": 35,
   "id": "25dd6b0c-f7dc-4817-bf8d-e54ddc27530c",
   "metadata": {},
   "outputs": [
    {
     "data": {
      "text/html": [
       "<div>\n",
       "<style scoped>\n",
       "    .dataframe tbody tr th:only-of-type {\n",
       "        vertical-align: middle;\n",
       "    }\n",
       "\n",
       "    .dataframe tbody tr th {\n",
       "        vertical-align: top;\n",
       "    }\n",
       "\n",
       "    .dataframe thead th {\n",
       "        text-align: right;\n",
       "    }\n",
       "</style>\n",
       "<table border=\"1\" class=\"dataframe\">\n",
       "  <thead>\n",
       "    <tr style=\"text-align: right;\">\n",
       "      <th></th>\n",
       "      <th>age</th>\n",
       "      <th>id</th>\n",
       "    </tr>\n",
       "  </thead>\n",
       "  <tbody>\n",
       "    <tr>\n",
       "      <th>5</th>\n",
       "      <td>601</td>\n",
       "      <td>601</td>\n",
       "    </tr>\n",
       "    <tr>\n",
       "      <th>6</th>\n",
       "      <td>701</td>\n",
       "      <td>701</td>\n",
       "    </tr>\n",
       "    <tr>\n",
       "      <th>7</th>\n",
       "      <td>801</td>\n",
       "      <td>801</td>\n",
       "    </tr>\n",
       "    <tr>\n",
       "      <th>8</th>\n",
       "      <td>901</td>\n",
       "      <td>901</td>\n",
       "    </tr>\n",
       "    <tr>\n",
       "      <th>9</th>\n",
       "      <td>1011</td>\n",
       "      <td>1011</td>\n",
       "    </tr>\n",
       "  </tbody>\n",
       "</table>\n",
       "</div>"
      ],
      "text/plain": [
       "    age    id\n",
       "5   601   601\n",
       "6   701   701\n",
       "7   801   801\n",
       "8   901   901\n",
       "9  1011  1011"
      ]
     },
     "execution_count": 35,
     "metadata": {},
     "output_type": "execute_result"
    }
   ],
   "source": [
    "df6.loc[5:,['age','id']]"
   ]
  },
  {
   "cell_type": "code",
   "execution_count": null,
   "id": "0c94543c-caef-4876-bc16-6847221c44eb",
   "metadata": {},
   "outputs": [],
   "source": []
  },
  {
   "cell_type": "code",
   "execution_count": null,
   "id": "5b87c5cb-d63b-40fe-af42-12652aafd617",
   "metadata": {},
   "outputs": [],
   "source": []
  },
  {
   "cell_type": "code",
   "execution_count": null,
   "id": "6b5d0728-add5-4a60-91d8-e95d797a377f",
   "metadata": {},
   "outputs": [],
   "source": []
  },
  {
   "cell_type": "code",
   "execution_count": 36,
   "id": "9697380b-4fce-45d6-a323-592bd0ca3ad3",
   "metadata": {},
   "outputs": [],
   "source": [
    "#### 3. DataFrame Operations\n",
    "#- *Data Inspection*:\n",
    "#  - Viewing data: head(), tail().\n",
    "#  - Summarizing data: info(), describe(), shape.\n",
    "\n",
    "#*** Viewing Data\n",
    "#- head(n): Returns the first n rows.\n",
    "#- tail(n): Returns the last n rows.\n",
    "#- info(): Provides a summary of the DataFrame.\n",
    "#- describe(): Generates descriptive statistics.\n",
    "\n",
    "####- *Data Selection and Filtering*:\n",
    "#  - Selecting columns and rows.\n",
    "#  - Filtering data based on conditions.\n",
    "\n",
    "#*** Selection and Indexing\n",
    "#- Selecting a column:  print(df['A'])\n",
    "#- Selecting multiple columns:  print(df[['A', 'B']])\n",
    "#- Selecting rows by index label:  print(df.loc[0])\n",
    "#- Selecting rows by index position:  print(df.iloc[0])\n",
    "\n",
    "#*** Boolean Indexing\n",
    "#print(df[df['A'] > 1])\n",
    "\n",
    "#*** Adding and Removing Columns\n",
    "#- Adding a new column:  df['D'] = [10, 11, 12]\n",
    "  \n",
    "#- Removing a column:  df = df.drop('D', axis=1)\n"
   ]
  },
  {
   "cell_type": "code",
   "execution_count": 37,
   "id": "776d1592-3502-48bd-b222-06b876ffcb23",
   "metadata": {},
   "outputs": [
    {
     "data": {
      "text/html": [
       "<div>\n",
       "<style scoped>\n",
       "    .dataframe tbody tr th:only-of-type {\n",
       "        vertical-align: middle;\n",
       "    }\n",
       "\n",
       "    .dataframe tbody tr th {\n",
       "        vertical-align: top;\n",
       "    }\n",
       "\n",
       "    .dataframe thead th {\n",
       "        text-align: right;\n",
       "    }\n",
       "</style>\n",
       "<table border=\"1\" class=\"dataframe\">\n",
       "  <thead>\n",
       "    <tr style=\"text-align: right;\">\n",
       "      <th></th>\n",
       "      <th>id</th>\n",
       "      <th>name</th>\n",
       "      <th>age</th>\n",
       "      <th>exp</th>\n",
       "    </tr>\n",
       "  </thead>\n",
       "  <tbody>\n",
       "    <tr>\n",
       "      <th>0</th>\n",
       "      <td>101</td>\n",
       "      <td>a</td>\n",
       "      <td>101</td>\n",
       "      <td>a</td>\n",
       "    </tr>\n",
       "    <tr>\n",
       "      <th>1</th>\n",
       "      <td>201</td>\n",
       "      <td>b</td>\n",
       "      <td>201</td>\n",
       "      <td>b</td>\n",
       "    </tr>\n",
       "    <tr>\n",
       "      <th>2</th>\n",
       "      <td>301</td>\n",
       "      <td>c</td>\n",
       "      <td>301</td>\n",
       "      <td>c</td>\n",
       "    </tr>\n",
       "    <tr>\n",
       "      <th>3</th>\n",
       "      <td>401</td>\n",
       "      <td>d</td>\n",
       "      <td>401</td>\n",
       "      <td>d</td>\n",
       "    </tr>\n",
       "    <tr>\n",
       "      <th>4</th>\n",
       "      <td>501</td>\n",
       "      <td>e</td>\n",
       "      <td>501</td>\n",
       "      <td>e</td>\n",
       "    </tr>\n",
       "  </tbody>\n",
       "</table>\n",
       "</div>"
      ],
      "text/plain": [
       "    id name  age exp\n",
       "0  101    a  101   a\n",
       "1  201    b  201   b\n",
       "2  301    c  301   c\n",
       "3  401    d  401   d\n",
       "4  501    e  501   e"
      ]
     },
     "execution_count": 37,
     "metadata": {},
     "output_type": "execute_result"
    }
   ],
   "source": [
    "df6.head()"
   ]
  },
  {
   "cell_type": "code",
   "execution_count": 38,
   "id": "b8202e91-9555-43f0-a8f6-c23ddab80302",
   "metadata": {},
   "outputs": [
    {
     "data": {
      "text/html": [
       "<div>\n",
       "<style scoped>\n",
       "    .dataframe tbody tr th:only-of-type {\n",
       "        vertical-align: middle;\n",
       "    }\n",
       "\n",
       "    .dataframe tbody tr th {\n",
       "        vertical-align: top;\n",
       "    }\n",
       "\n",
       "    .dataframe thead th {\n",
       "        text-align: right;\n",
       "    }\n",
       "</style>\n",
       "<table border=\"1\" class=\"dataframe\">\n",
       "  <thead>\n",
       "    <tr style=\"text-align: right;\">\n",
       "      <th></th>\n",
       "      <th>id</th>\n",
       "      <th>name</th>\n",
       "      <th>age</th>\n",
       "      <th>exp</th>\n",
       "    </tr>\n",
       "  </thead>\n",
       "  <tbody>\n",
       "    <tr>\n",
       "      <th>0</th>\n",
       "      <td>101</td>\n",
       "      <td>a</td>\n",
       "      <td>101</td>\n",
       "      <td>a</td>\n",
       "    </tr>\n",
       "    <tr>\n",
       "      <th>1</th>\n",
       "      <td>201</td>\n",
       "      <td>b</td>\n",
       "      <td>201</td>\n",
       "      <td>b</td>\n",
       "    </tr>\n",
       "  </tbody>\n",
       "</table>\n",
       "</div>"
      ],
      "text/plain": [
       "    id name  age exp\n",
       "0  101    a  101   a\n",
       "1  201    b  201   b"
      ]
     },
     "execution_count": 38,
     "metadata": {},
     "output_type": "execute_result"
    }
   ],
   "source": [
    "df6.head(2)"
   ]
  },
  {
   "cell_type": "code",
   "execution_count": 39,
   "id": "268301b1-c71c-4ef4-96e4-79063c386dac",
   "metadata": {},
   "outputs": [
    {
     "data": {
      "text/html": [
       "<div>\n",
       "<style scoped>\n",
       "    .dataframe tbody tr th:only-of-type {\n",
       "        vertical-align: middle;\n",
       "    }\n",
       "\n",
       "    .dataframe tbody tr th {\n",
       "        vertical-align: top;\n",
       "    }\n",
       "\n",
       "    .dataframe thead th {\n",
       "        text-align: right;\n",
       "    }\n",
       "</style>\n",
       "<table border=\"1\" class=\"dataframe\">\n",
       "  <thead>\n",
       "    <tr style=\"text-align: right;\">\n",
       "      <th></th>\n",
       "      <th>id</th>\n",
       "      <th>name</th>\n",
       "      <th>age</th>\n",
       "      <th>exp</th>\n",
       "    </tr>\n",
       "  </thead>\n",
       "  <tbody>\n",
       "    <tr>\n",
       "      <th>5</th>\n",
       "      <td>601</td>\n",
       "      <td>f</td>\n",
       "      <td>601</td>\n",
       "      <td>f</td>\n",
       "    </tr>\n",
       "    <tr>\n",
       "      <th>6</th>\n",
       "      <td>701</td>\n",
       "      <td>g</td>\n",
       "      <td>701</td>\n",
       "      <td>g</td>\n",
       "    </tr>\n",
       "    <tr>\n",
       "      <th>7</th>\n",
       "      <td>801</td>\n",
       "      <td>h</td>\n",
       "      <td>801</td>\n",
       "      <td>h</td>\n",
       "    </tr>\n",
       "    <tr>\n",
       "      <th>8</th>\n",
       "      <td>901</td>\n",
       "      <td>i</td>\n",
       "      <td>901</td>\n",
       "      <td>i</td>\n",
       "    </tr>\n",
       "    <tr>\n",
       "      <th>9</th>\n",
       "      <td>1011</td>\n",
       "      <td>j</td>\n",
       "      <td>1011</td>\n",
       "      <td>j</td>\n",
       "    </tr>\n",
       "  </tbody>\n",
       "</table>\n",
       "</div>"
      ],
      "text/plain": [
       "     id name   age exp\n",
       "5   601    f   601   f\n",
       "6   701    g   701   g\n",
       "7   801    h   801   h\n",
       "8   901    i   901   i\n",
       "9  1011    j  1011   j"
      ]
     },
     "execution_count": 39,
     "metadata": {},
     "output_type": "execute_result"
    }
   ],
   "source": [
    "df6.tail()"
   ]
  },
  {
   "cell_type": "code",
   "execution_count": 40,
   "id": "f1de3362-cd4e-4a00-b610-c747406b20f4",
   "metadata": {},
   "outputs": [
    {
     "data": {
      "text/html": [
       "<div>\n",
       "<style scoped>\n",
       "    .dataframe tbody tr th:only-of-type {\n",
       "        vertical-align: middle;\n",
       "    }\n",
       "\n",
       "    .dataframe tbody tr th {\n",
       "        vertical-align: top;\n",
       "    }\n",
       "\n",
       "    .dataframe thead th {\n",
       "        text-align: right;\n",
       "    }\n",
       "</style>\n",
       "<table border=\"1\" class=\"dataframe\">\n",
       "  <thead>\n",
       "    <tr style=\"text-align: right;\">\n",
       "      <th></th>\n",
       "      <th>id</th>\n",
       "      <th>name</th>\n",
       "      <th>age</th>\n",
       "      <th>exp</th>\n",
       "    </tr>\n",
       "  </thead>\n",
       "  <tbody>\n",
       "    <tr>\n",
       "      <th>4</th>\n",
       "      <td>501</td>\n",
       "      <td>e</td>\n",
       "      <td>501</td>\n",
       "      <td>e</td>\n",
       "    </tr>\n",
       "    <tr>\n",
       "      <th>5</th>\n",
       "      <td>601</td>\n",
       "      <td>f</td>\n",
       "      <td>601</td>\n",
       "      <td>f</td>\n",
       "    </tr>\n",
       "    <tr>\n",
       "      <th>6</th>\n",
       "      <td>701</td>\n",
       "      <td>g</td>\n",
       "      <td>701</td>\n",
       "      <td>g</td>\n",
       "    </tr>\n",
       "    <tr>\n",
       "      <th>7</th>\n",
       "      <td>801</td>\n",
       "      <td>h</td>\n",
       "      <td>801</td>\n",
       "      <td>h</td>\n",
       "    </tr>\n",
       "    <tr>\n",
       "      <th>8</th>\n",
       "      <td>901</td>\n",
       "      <td>i</td>\n",
       "      <td>901</td>\n",
       "      <td>i</td>\n",
       "    </tr>\n",
       "    <tr>\n",
       "      <th>9</th>\n",
       "      <td>1011</td>\n",
       "      <td>j</td>\n",
       "      <td>1011</td>\n",
       "      <td>j</td>\n",
       "    </tr>\n",
       "  </tbody>\n",
       "</table>\n",
       "</div>"
      ],
      "text/plain": [
       "     id name   age exp\n",
       "4   501    e   501   e\n",
       "5   601    f   601   f\n",
       "6   701    g   701   g\n",
       "7   801    h   801   h\n",
       "8   901    i   901   i\n",
       "9  1011    j  1011   j"
      ]
     },
     "execution_count": 40,
     "metadata": {},
     "output_type": "execute_result"
    }
   ],
   "source": [
    "df6.tail(6)"
   ]
  },
  {
   "cell_type": "code",
   "execution_count": 41,
   "id": "7a69e7a4-63e4-45c5-9d19-ef33117a08ec",
   "metadata": {},
   "outputs": [
    {
     "data": {
      "text/plain": [
       "(10, 4)"
      ]
     },
     "execution_count": 41,
     "metadata": {},
     "output_type": "execute_result"
    }
   ],
   "source": [
    "df6.shape"
   ]
  },
  {
   "cell_type": "code",
   "execution_count": 42,
   "id": "47f2e72e-e5dc-4581-a455-8aa4e335db03",
   "metadata": {},
   "outputs": [
    {
     "name": "stdout",
     "output_type": "stream",
     "text": [
      "<class 'pandas.core.frame.DataFrame'>\n",
      "RangeIndex: 10 entries, 0 to 9\n",
      "Data columns (total 4 columns):\n",
      " #   Column  Non-Null Count  Dtype \n",
      "---  ------  --------------  ----- \n",
      " 0   id      10 non-null     int64 \n",
      " 1   name    10 non-null     object\n",
      " 2   age     10 non-null     int64 \n",
      " 3   exp     10 non-null     object\n",
      "dtypes: int64(2), object(2)\n",
      "memory usage: 452.0+ bytes\n"
     ]
    }
   ],
   "source": [
    "df6.info()"
   ]
  },
  {
   "cell_type": "code",
   "execution_count": 43,
   "id": "200b3322-f9fa-481a-8118-88a765d54562",
   "metadata": {},
   "outputs": [
    {
     "data": {
      "text/html": [
       "<div>\n",
       "<style scoped>\n",
       "    .dataframe tbody tr th:only-of-type {\n",
       "        vertical-align: middle;\n",
       "    }\n",
       "\n",
       "    .dataframe tbody tr th {\n",
       "        vertical-align: top;\n",
       "    }\n",
       "\n",
       "    .dataframe thead th {\n",
       "        text-align: right;\n",
       "    }\n",
       "</style>\n",
       "<table border=\"1\" class=\"dataframe\">\n",
       "  <thead>\n",
       "    <tr style=\"text-align: right;\">\n",
       "      <th></th>\n",
       "      <th>id</th>\n",
       "      <th>age</th>\n",
       "    </tr>\n",
       "  </thead>\n",
       "  <tbody>\n",
       "    <tr>\n",
       "      <th>count</th>\n",
       "      <td>10.000000</td>\n",
       "      <td>10.000000</td>\n",
       "    </tr>\n",
       "    <tr>\n",
       "      <th>mean</th>\n",
       "      <td>552.000000</td>\n",
       "      <td>552.000000</td>\n",
       "    </tr>\n",
       "    <tr>\n",
       "      <th>std</th>\n",
       "      <td>304.428426</td>\n",
       "      <td>304.428426</td>\n",
       "    </tr>\n",
       "    <tr>\n",
       "      <th>min</th>\n",
       "      <td>101.000000</td>\n",
       "      <td>101.000000</td>\n",
       "    </tr>\n",
       "    <tr>\n",
       "      <th>25%</th>\n",
       "      <td>326.000000</td>\n",
       "      <td>326.000000</td>\n",
       "    </tr>\n",
       "    <tr>\n",
       "      <th>50%</th>\n",
       "      <td>551.000000</td>\n",
       "      <td>551.000000</td>\n",
       "    </tr>\n",
       "    <tr>\n",
       "      <th>75%</th>\n",
       "      <td>776.000000</td>\n",
       "      <td>776.000000</td>\n",
       "    </tr>\n",
       "    <tr>\n",
       "      <th>max</th>\n",
       "      <td>1011.000000</td>\n",
       "      <td>1011.000000</td>\n",
       "    </tr>\n",
       "  </tbody>\n",
       "</table>\n",
       "</div>"
      ],
      "text/plain": [
       "                id          age\n",
       "count    10.000000    10.000000\n",
       "mean    552.000000   552.000000\n",
       "std     304.428426   304.428426\n",
       "min     101.000000   101.000000\n",
       "25%     326.000000   326.000000\n",
       "50%     551.000000   551.000000\n",
       "75%     776.000000   776.000000\n",
       "max    1011.000000  1011.000000"
      ]
     },
     "execution_count": 43,
     "metadata": {},
     "output_type": "execute_result"
    }
   ],
   "source": [
    "df6.describe()"
   ]
  },
  {
   "cell_type": "code",
   "execution_count": null,
   "id": "87a8f004-20cf-4738-9c61-d28a43d06fb4",
   "metadata": {},
   "outputs": [],
   "source": []
  },
  {
   "cell_type": "markdown",
   "id": "5942e1df-b5ef-4b3e-8c98-d8e1039e2c9f",
   "metadata": {},
   "source": [
    "#  - Filtering data based on conditions."
   ]
  },
  {
   "cell_type": "code",
   "execution_count": 44,
   "id": "a8f4d864-2112-4ac9-892a-2d29e9628ca9",
   "metadata": {},
   "outputs": [
    {
     "data": {
      "text/html": [
       "<div>\n",
       "<style scoped>\n",
       "    .dataframe tbody tr th:only-of-type {\n",
       "        vertical-align: middle;\n",
       "    }\n",
       "\n",
       "    .dataframe tbody tr th {\n",
       "        vertical-align: top;\n",
       "    }\n",
       "\n",
       "    .dataframe thead th {\n",
       "        text-align: right;\n",
       "    }\n",
       "</style>\n",
       "<table border=\"1\" class=\"dataframe\">\n",
       "  <thead>\n",
       "    <tr style=\"text-align: right;\">\n",
       "      <th></th>\n",
       "      <th>id</th>\n",
       "      <th>age</th>\n",
       "    </tr>\n",
       "  </thead>\n",
       "  <tbody>\n",
       "    <tr>\n",
       "      <th>0</th>\n",
       "      <td>101</td>\n",
       "      <td>101</td>\n",
       "    </tr>\n",
       "    <tr>\n",
       "      <th>1</th>\n",
       "      <td>201</td>\n",
       "      <td>201</td>\n",
       "    </tr>\n",
       "    <tr>\n",
       "      <th>2</th>\n",
       "      <td>301</td>\n",
       "      <td>301</td>\n",
       "    </tr>\n",
       "    <tr>\n",
       "      <th>3</th>\n",
       "      <td>401</td>\n",
       "      <td>401</td>\n",
       "    </tr>\n",
       "    <tr>\n",
       "      <th>4</th>\n",
       "      <td>501</td>\n",
       "      <td>501</td>\n",
       "    </tr>\n",
       "    <tr>\n",
       "      <th>5</th>\n",
       "      <td>601</td>\n",
       "      <td>601</td>\n",
       "    </tr>\n",
       "    <tr>\n",
       "      <th>6</th>\n",
       "      <td>701</td>\n",
       "      <td>701</td>\n",
       "    </tr>\n",
       "    <tr>\n",
       "      <th>7</th>\n",
       "      <td>801</td>\n",
       "      <td>801</td>\n",
       "    </tr>\n",
       "    <tr>\n",
       "      <th>8</th>\n",
       "      <td>901</td>\n",
       "      <td>901</td>\n",
       "    </tr>\n",
       "    <tr>\n",
       "      <th>9</th>\n",
       "      <td>1011</td>\n",
       "      <td>1011</td>\n",
       "    </tr>\n",
       "  </tbody>\n",
       "</table>\n",
       "</div>"
      ],
      "text/plain": [
       "     id   age\n",
       "0   101   101\n",
       "1   201   201\n",
       "2   301   301\n",
       "3   401   401\n",
       "4   501   501\n",
       "5   601   601\n",
       "6   701   701\n",
       "7   801   801\n",
       "8   901   901\n",
       "9  1011  1011"
      ]
     },
     "execution_count": 44,
     "metadata": {},
     "output_type": "execute_result"
    }
   ],
   "source": [
    "df6.filter(['id','age'])"
   ]
  },
  {
   "cell_type": "code",
   "execution_count": 45,
   "id": "2d731b19-1f89-4dd3-b4e6-76974a3b8593",
   "metadata": {},
   "outputs": [],
   "source": [
    "# df6.filter(['id','age'],like='age')"
   ]
  },
  {
   "cell_type": "code",
   "execution_count": 46,
   "id": "45744a65-291d-4b26-9713-3121dc93a97c",
   "metadata": {},
   "outputs": [
    {
     "data": {
      "text/html": [
       "<div>\n",
       "<style scoped>\n",
       "    .dataframe tbody tr th:only-of-type {\n",
       "        vertical-align: middle;\n",
       "    }\n",
       "\n",
       "    .dataframe tbody tr th {\n",
       "        vertical-align: top;\n",
       "    }\n",
       "\n",
       "    .dataframe thead th {\n",
       "        text-align: right;\n",
       "    }\n",
       "</style>\n",
       "<table border=\"1\" class=\"dataframe\">\n",
       "  <thead>\n",
       "    <tr style=\"text-align: right;\">\n",
       "      <th></th>\n",
       "      <th>age</th>\n",
       "    </tr>\n",
       "  </thead>\n",
       "  <tbody>\n",
       "    <tr>\n",
       "      <th>0</th>\n",
       "      <td>101</td>\n",
       "    </tr>\n",
       "    <tr>\n",
       "      <th>1</th>\n",
       "      <td>201</td>\n",
       "    </tr>\n",
       "    <tr>\n",
       "      <th>2</th>\n",
       "      <td>301</td>\n",
       "    </tr>\n",
       "    <tr>\n",
       "      <th>3</th>\n",
       "      <td>401</td>\n",
       "    </tr>\n",
       "    <tr>\n",
       "      <th>4</th>\n",
       "      <td>501</td>\n",
       "    </tr>\n",
       "    <tr>\n",
       "      <th>5</th>\n",
       "      <td>601</td>\n",
       "    </tr>\n",
       "    <tr>\n",
       "      <th>6</th>\n",
       "      <td>701</td>\n",
       "    </tr>\n",
       "    <tr>\n",
       "      <th>7</th>\n",
       "      <td>801</td>\n",
       "    </tr>\n",
       "    <tr>\n",
       "      <th>8</th>\n",
       "      <td>901</td>\n",
       "    </tr>\n",
       "    <tr>\n",
       "      <th>9</th>\n",
       "      <td>1011</td>\n",
       "    </tr>\n",
       "  </tbody>\n",
       "</table>\n",
       "</div>"
      ],
      "text/plain": [
       "    age\n",
       "0   101\n",
       "1   201\n",
       "2   301\n",
       "3   401\n",
       "4   501\n",
       "5   601\n",
       "6   701\n",
       "7   801\n",
       "8   901\n",
       "9  1011"
      ]
     },
     "execution_count": 46,
     "metadata": {},
     "output_type": "execute_result"
    }
   ],
   "source": [
    "df6.filter(like='age')"
   ]
  },
  {
   "cell_type": "code",
   "execution_count": null,
   "id": "b41589a1-77a8-4b04-afc6-dd1192146fe4",
   "metadata": {},
   "outputs": [],
   "source": []
  },
  {
   "cell_type": "code",
   "execution_count": 47,
   "id": "1405ccbd-050c-49c1-825d-a785173ef0c6",
   "metadata": {},
   "outputs": [
    {
     "data": {
      "text/html": [
       "<div>\n",
       "<style scoped>\n",
       "    .dataframe tbody tr th:only-of-type {\n",
       "        vertical-align: middle;\n",
       "    }\n",
       "\n",
       "    .dataframe tbody tr th {\n",
       "        vertical-align: top;\n",
       "    }\n",
       "\n",
       "    .dataframe thead th {\n",
       "        text-align: right;\n",
       "    }\n",
       "</style>\n",
       "<table border=\"1\" class=\"dataframe\">\n",
       "  <thead>\n",
       "    <tr style=\"text-align: right;\">\n",
       "      <th></th>\n",
       "      <th>id</th>\n",
       "      <th>name</th>\n",
       "      <th>age</th>\n",
       "      <th>exp</th>\n",
       "      <th>total</th>\n",
       "    </tr>\n",
       "  </thead>\n",
       "  <tbody>\n",
       "    <tr>\n",
       "      <th>0</th>\n",
       "      <td>101</td>\n",
       "      <td>a</td>\n",
       "      <td>101</td>\n",
       "      <td>a</td>\n",
       "      <td>0</td>\n",
       "    </tr>\n",
       "    <tr>\n",
       "      <th>1</th>\n",
       "      <td>201</td>\n",
       "      <td>b</td>\n",
       "      <td>201</td>\n",
       "      <td>b</td>\n",
       "      <td>0</td>\n",
       "    </tr>\n",
       "    <tr>\n",
       "      <th>2</th>\n",
       "      <td>301</td>\n",
       "      <td>c</td>\n",
       "      <td>301</td>\n",
       "      <td>c</td>\n",
       "      <td>0</td>\n",
       "    </tr>\n",
       "    <tr>\n",
       "      <th>3</th>\n",
       "      <td>401</td>\n",
       "      <td>d</td>\n",
       "      <td>401</td>\n",
       "      <td>d</td>\n",
       "      <td>0</td>\n",
       "    </tr>\n",
       "    <tr>\n",
       "      <th>4</th>\n",
       "      <td>501</td>\n",
       "      <td>e</td>\n",
       "      <td>501</td>\n",
       "      <td>e</td>\n",
       "      <td>0</td>\n",
       "    </tr>\n",
       "    <tr>\n",
       "      <th>5</th>\n",
       "      <td>601</td>\n",
       "      <td>f</td>\n",
       "      <td>601</td>\n",
       "      <td>f</td>\n",
       "      <td>0</td>\n",
       "    </tr>\n",
       "    <tr>\n",
       "      <th>6</th>\n",
       "      <td>701</td>\n",
       "      <td>g</td>\n",
       "      <td>701</td>\n",
       "      <td>g</td>\n",
       "      <td>0</td>\n",
       "    </tr>\n",
       "    <tr>\n",
       "      <th>7</th>\n",
       "      <td>801</td>\n",
       "      <td>h</td>\n",
       "      <td>801</td>\n",
       "      <td>h</td>\n",
       "      <td>0</td>\n",
       "    </tr>\n",
       "    <tr>\n",
       "      <th>8</th>\n",
       "      <td>901</td>\n",
       "      <td>i</td>\n",
       "      <td>901</td>\n",
       "      <td>i</td>\n",
       "      <td>0</td>\n",
       "    </tr>\n",
       "    <tr>\n",
       "      <th>9</th>\n",
       "      <td>1011</td>\n",
       "      <td>j</td>\n",
       "      <td>1011</td>\n",
       "      <td>j</td>\n",
       "      <td>0</td>\n",
       "    </tr>\n",
       "  </tbody>\n",
       "</table>\n",
       "</div>"
      ],
      "text/plain": [
       "     id name   age exp  total\n",
       "0   101    a   101   a      0\n",
       "1   201    b   201   b      0\n",
       "2   301    c   301   c      0\n",
       "3   401    d   401   d      0\n",
       "4   501    e   501   e      0\n",
       "5   601    f   601   f      0\n",
       "6   701    g   701   g      0\n",
       "7   801    h   801   h      0\n",
       "8   901    i   901   i      0\n",
       "9  1011    j  1011   j      0"
      ]
     },
     "execution_count": 47,
     "metadata": {},
     "output_type": "execute_result"
    }
   ],
   "source": [
    "#### - Adding a new column:  df['D'] = [10, 11, 12]\n",
    "df6['total'] = 0\n",
    "df6"
   ]
  },
  {
   "cell_type": "code",
   "execution_count": 48,
   "id": "3d893ce5-1ddf-4268-9de8-075a6ea94873",
   "metadata": {},
   "outputs": [
    {
     "data": {
      "text/html": [
       "<div>\n",
       "<style scoped>\n",
       "    .dataframe tbody tr th:only-of-type {\n",
       "        vertical-align: middle;\n",
       "    }\n",
       "\n",
       "    .dataframe tbody tr th {\n",
       "        vertical-align: top;\n",
       "    }\n",
       "\n",
       "    .dataframe thead th {\n",
       "        text-align: right;\n",
       "    }\n",
       "</style>\n",
       "<table border=\"1\" class=\"dataframe\">\n",
       "  <thead>\n",
       "    <tr style=\"text-align: right;\">\n",
       "      <th></th>\n",
       "      <th>id</th>\n",
       "      <th>name</th>\n",
       "      <th>age</th>\n",
       "      <th>exp</th>\n",
       "      <th>total</th>\n",
       "    </tr>\n",
       "  </thead>\n",
       "  <tbody>\n",
       "    <tr>\n",
       "      <th>0</th>\n",
       "      <td>101</td>\n",
       "      <td>a</td>\n",
       "      <td>101</td>\n",
       "      <td>a</td>\n",
       "      <td>202</td>\n",
       "    </tr>\n",
       "    <tr>\n",
       "      <th>1</th>\n",
       "      <td>201</td>\n",
       "      <td>b</td>\n",
       "      <td>201</td>\n",
       "      <td>b</td>\n",
       "      <td>402</td>\n",
       "    </tr>\n",
       "    <tr>\n",
       "      <th>2</th>\n",
       "      <td>301</td>\n",
       "      <td>c</td>\n",
       "      <td>301</td>\n",
       "      <td>c</td>\n",
       "      <td>602</td>\n",
       "    </tr>\n",
       "    <tr>\n",
       "      <th>3</th>\n",
       "      <td>401</td>\n",
       "      <td>d</td>\n",
       "      <td>401</td>\n",
       "      <td>d</td>\n",
       "      <td>802</td>\n",
       "    </tr>\n",
       "    <tr>\n",
       "      <th>4</th>\n",
       "      <td>501</td>\n",
       "      <td>e</td>\n",
       "      <td>501</td>\n",
       "      <td>e</td>\n",
       "      <td>1002</td>\n",
       "    </tr>\n",
       "    <tr>\n",
       "      <th>5</th>\n",
       "      <td>601</td>\n",
       "      <td>f</td>\n",
       "      <td>601</td>\n",
       "      <td>f</td>\n",
       "      <td>1202</td>\n",
       "    </tr>\n",
       "    <tr>\n",
       "      <th>6</th>\n",
       "      <td>701</td>\n",
       "      <td>g</td>\n",
       "      <td>701</td>\n",
       "      <td>g</td>\n",
       "      <td>1402</td>\n",
       "    </tr>\n",
       "    <tr>\n",
       "      <th>7</th>\n",
       "      <td>801</td>\n",
       "      <td>h</td>\n",
       "      <td>801</td>\n",
       "      <td>h</td>\n",
       "      <td>1602</td>\n",
       "    </tr>\n",
       "    <tr>\n",
       "      <th>8</th>\n",
       "      <td>901</td>\n",
       "      <td>i</td>\n",
       "      <td>901</td>\n",
       "      <td>i</td>\n",
       "      <td>1802</td>\n",
       "    </tr>\n",
       "    <tr>\n",
       "      <th>9</th>\n",
       "      <td>1011</td>\n",
       "      <td>j</td>\n",
       "      <td>1011</td>\n",
       "      <td>j</td>\n",
       "      <td>2022</td>\n",
       "    </tr>\n",
       "  </tbody>\n",
       "</table>\n",
       "</div>"
      ],
      "text/plain": [
       "     id name   age exp  total\n",
       "0   101    a   101   a    202\n",
       "1   201    b   201   b    402\n",
       "2   301    c   301   c    602\n",
       "3   401    d   401   d    802\n",
       "4   501    e   501   e   1002\n",
       "5   601    f   601   f   1202\n",
       "6   701    g   701   g   1402\n",
       "7   801    h   801   h   1602\n",
       "8   901    i   901   i   1802\n",
       "9  1011    j  1011   j   2022"
      ]
     },
     "execution_count": 48,
     "metadata": {},
     "output_type": "execute_result"
    }
   ],
   "source": [
    "#### manipulating columns: \n",
    "df6['total'] = df6['id'] + df6['age']\n",
    "df6"
   ]
  },
  {
   "cell_type": "code",
   "execution_count": 49,
   "id": "8e84c9a8-9605-4939-8455-9e2d2cf52de6",
   "metadata": {},
   "outputs": [
    {
     "data": {
      "text/html": [
       "<div>\n",
       "<style scoped>\n",
       "    .dataframe tbody tr th:only-of-type {\n",
       "        vertical-align: middle;\n",
       "    }\n",
       "\n",
       "    .dataframe tbody tr th {\n",
       "        vertical-align: top;\n",
       "    }\n",
       "\n",
       "    .dataframe thead th {\n",
       "        text-align: right;\n",
       "    }\n",
       "</style>\n",
       "<table border=\"1\" class=\"dataframe\">\n",
       "  <thead>\n",
       "    <tr style=\"text-align: right;\">\n",
       "      <th></th>\n",
       "      <th>id</th>\n",
       "      <th>name</th>\n",
       "      <th>age</th>\n",
       "      <th>exp</th>\n",
       "      <th>total</th>\n",
       "    </tr>\n",
       "  </thead>\n",
       "  <tbody>\n",
       "    <tr>\n",
       "      <th>0</th>\n",
       "      <td>101</td>\n",
       "      <td>a</td>\n",
       "      <td>101</td>\n",
       "      <td>a</td>\n",
       "      <td>202</td>\n",
       "    </tr>\n",
       "    <tr>\n",
       "      <th>1</th>\n",
       "      <td>201</td>\n",
       "      <td>b</td>\n",
       "      <td>201</td>\n",
       "      <td>b</td>\n",
       "      <td>402</td>\n",
       "    </tr>\n",
       "    <tr>\n",
       "      <th>2</th>\n",
       "      <td>301</td>\n",
       "      <td>c</td>\n",
       "      <td>301</td>\n",
       "      <td>c</td>\n",
       "      <td>602</td>\n",
       "    </tr>\n",
       "    <tr>\n",
       "      <th>3</th>\n",
       "      <td>401</td>\n",
       "      <td>d</td>\n",
       "      <td>401</td>\n",
       "      <td>d</td>\n",
       "      <td>802</td>\n",
       "    </tr>\n",
       "    <tr>\n",
       "      <th>4</th>\n",
       "      <td>501</td>\n",
       "      <td>e</td>\n",
       "      <td>501</td>\n",
       "      <td>e</td>\n",
       "      <td>1002</td>\n",
       "    </tr>\n",
       "    <tr>\n",
       "      <th>5</th>\n",
       "      <td>601</td>\n",
       "      <td>f</td>\n",
       "      <td>601</td>\n",
       "      <td>f</td>\n",
       "      <td>1202</td>\n",
       "    </tr>\n",
       "    <tr>\n",
       "      <th>6</th>\n",
       "      <td>701</td>\n",
       "      <td>g</td>\n",
       "      <td>701</td>\n",
       "      <td>g</td>\n",
       "      <td>1402</td>\n",
       "    </tr>\n",
       "    <tr>\n",
       "      <th>7</th>\n",
       "      <td>801</td>\n",
       "      <td>h</td>\n",
       "      <td>801</td>\n",
       "      <td>h</td>\n",
       "      <td>1602</td>\n",
       "    </tr>\n",
       "    <tr>\n",
       "      <th>8</th>\n",
       "      <td>901</td>\n",
       "      <td>i</td>\n",
       "      <td>901</td>\n",
       "      <td>i</td>\n",
       "      <td>1802</td>\n",
       "    </tr>\n",
       "    <tr>\n",
       "      <th>9</th>\n",
       "      <td>1011</td>\n",
       "      <td>j</td>\n",
       "      <td>1011</td>\n",
       "      <td>j</td>\n",
       "      <td>2022</td>\n",
       "    </tr>\n",
       "  </tbody>\n",
       "</table>\n",
       "</div>"
      ],
      "text/plain": [
       "     id name   age exp  total\n",
       "0   101    a   101   a    202\n",
       "1   201    b   201   b    402\n",
       "2   301    c   301   c    602\n",
       "3   401    d   401   d    802\n",
       "4   501    e   501   e   1002\n",
       "5   601    f   601   f   1202\n",
       "6   701    g   701   g   1402\n",
       "7   801    h   801   h   1602\n",
       "8   901    i   901   i   1802\n",
       "9  1011    j  1011   j   2022"
      ]
     },
     "execution_count": 49,
     "metadata": {},
     "output_type": "execute_result"
    }
   ],
   "source": [
    "#### delete a column: but does not change the data\n",
    "df6"
   ]
  },
  {
   "cell_type": "code",
   "execution_count": 50,
   "id": "686cb12c-94ef-4651-a537-6159c8f20656",
   "metadata": {},
   "outputs": [
    {
     "data": {
      "text/html": [
       "<div>\n",
       "<style scoped>\n",
       "    .dataframe tbody tr th:only-of-type {\n",
       "        vertical-align: middle;\n",
       "    }\n",
       "\n",
       "    .dataframe tbody tr th {\n",
       "        vertical-align: top;\n",
       "    }\n",
       "\n",
       "    .dataframe thead th {\n",
       "        text-align: right;\n",
       "    }\n",
       "</style>\n",
       "<table border=\"1\" class=\"dataframe\">\n",
       "  <thead>\n",
       "    <tr style=\"text-align: right;\">\n",
       "      <th></th>\n",
       "      <th>id</th>\n",
       "      <th>name</th>\n",
       "      <th>age</th>\n",
       "      <th>exp</th>\n",
       "    </tr>\n",
       "  </thead>\n",
       "  <tbody>\n",
       "    <tr>\n",
       "      <th>0</th>\n",
       "      <td>101</td>\n",
       "      <td>a</td>\n",
       "      <td>101</td>\n",
       "      <td>a</td>\n",
       "    </tr>\n",
       "    <tr>\n",
       "      <th>1</th>\n",
       "      <td>201</td>\n",
       "      <td>b</td>\n",
       "      <td>201</td>\n",
       "      <td>b</td>\n",
       "    </tr>\n",
       "    <tr>\n",
       "      <th>2</th>\n",
       "      <td>301</td>\n",
       "      <td>c</td>\n",
       "      <td>301</td>\n",
       "      <td>c</td>\n",
       "    </tr>\n",
       "    <tr>\n",
       "      <th>3</th>\n",
       "      <td>401</td>\n",
       "      <td>d</td>\n",
       "      <td>401</td>\n",
       "      <td>d</td>\n",
       "    </tr>\n",
       "    <tr>\n",
       "      <th>4</th>\n",
       "      <td>501</td>\n",
       "      <td>e</td>\n",
       "      <td>501</td>\n",
       "      <td>e</td>\n",
       "    </tr>\n",
       "    <tr>\n",
       "      <th>5</th>\n",
       "      <td>601</td>\n",
       "      <td>f</td>\n",
       "      <td>601</td>\n",
       "      <td>f</td>\n",
       "    </tr>\n",
       "    <tr>\n",
       "      <th>6</th>\n",
       "      <td>701</td>\n",
       "      <td>g</td>\n",
       "      <td>701</td>\n",
       "      <td>g</td>\n",
       "    </tr>\n",
       "    <tr>\n",
       "      <th>7</th>\n",
       "      <td>801</td>\n",
       "      <td>h</td>\n",
       "      <td>801</td>\n",
       "      <td>h</td>\n",
       "    </tr>\n",
       "    <tr>\n",
       "      <th>8</th>\n",
       "      <td>901</td>\n",
       "      <td>i</td>\n",
       "      <td>901</td>\n",
       "      <td>i</td>\n",
       "    </tr>\n",
       "    <tr>\n",
       "      <th>9</th>\n",
       "      <td>1011</td>\n",
       "      <td>j</td>\n",
       "      <td>1011</td>\n",
       "      <td>j</td>\n",
       "    </tr>\n",
       "  </tbody>\n",
       "</table>\n",
       "</div>"
      ],
      "text/plain": [
       "     id name   age exp\n",
       "0   101    a   101   a\n",
       "1   201    b   201   b\n",
       "2   301    c   301   c\n",
       "3   401    d   401   d\n",
       "4   501    e   501   e\n",
       "5   601    f   601   f\n",
       "6   701    g   701   g\n",
       "7   801    h   801   h\n",
       "8   901    i   901   i\n",
       "9  1011    j  1011   j"
      ]
     },
     "execution_count": 50,
     "metadata": {},
     "output_type": "execute_result"
    }
   ],
   "source": [
    "#### to delete or remove:\n",
    "df6.drop(columns= 'total')"
   ]
  },
  {
   "cell_type": "code",
   "execution_count": 51,
   "id": "ce2e0019-d212-470b-8722-312a2318049a",
   "metadata": {},
   "outputs": [
    {
     "data": {
      "text/html": [
       "<div>\n",
       "<style scoped>\n",
       "    .dataframe tbody tr th:only-of-type {\n",
       "        vertical-align: middle;\n",
       "    }\n",
       "\n",
       "    .dataframe tbody tr th {\n",
       "        vertical-align: top;\n",
       "    }\n",
       "\n",
       "    .dataframe thead th {\n",
       "        text-align: right;\n",
       "    }\n",
       "</style>\n",
       "<table border=\"1\" class=\"dataframe\">\n",
       "  <thead>\n",
       "    <tr style=\"text-align: right;\">\n",
       "      <th></th>\n",
       "      <th>id</th>\n",
       "      <th>name</th>\n",
       "      <th>age</th>\n",
       "      <th>exp</th>\n",
       "      <th>total</th>\n",
       "    </tr>\n",
       "  </thead>\n",
       "  <tbody>\n",
       "    <tr>\n",
       "      <th>0</th>\n",
       "      <td>101</td>\n",
       "      <td>a</td>\n",
       "      <td>101</td>\n",
       "      <td>a</td>\n",
       "      <td>202</td>\n",
       "    </tr>\n",
       "    <tr>\n",
       "      <th>1</th>\n",
       "      <td>201</td>\n",
       "      <td>b</td>\n",
       "      <td>201</td>\n",
       "      <td>b</td>\n",
       "      <td>402</td>\n",
       "    </tr>\n",
       "    <tr>\n",
       "      <th>2</th>\n",
       "      <td>301</td>\n",
       "      <td>c</td>\n",
       "      <td>301</td>\n",
       "      <td>c</td>\n",
       "      <td>602</td>\n",
       "    </tr>\n",
       "    <tr>\n",
       "      <th>3</th>\n",
       "      <td>401</td>\n",
       "      <td>d</td>\n",
       "      <td>401</td>\n",
       "      <td>d</td>\n",
       "      <td>802</td>\n",
       "    </tr>\n",
       "    <tr>\n",
       "      <th>4</th>\n",
       "      <td>501</td>\n",
       "      <td>e</td>\n",
       "      <td>501</td>\n",
       "      <td>e</td>\n",
       "      <td>1002</td>\n",
       "    </tr>\n",
       "    <tr>\n",
       "      <th>5</th>\n",
       "      <td>601</td>\n",
       "      <td>f</td>\n",
       "      <td>601</td>\n",
       "      <td>f</td>\n",
       "      <td>1202</td>\n",
       "    </tr>\n",
       "    <tr>\n",
       "      <th>6</th>\n",
       "      <td>701</td>\n",
       "      <td>g</td>\n",
       "      <td>701</td>\n",
       "      <td>g</td>\n",
       "      <td>1402</td>\n",
       "    </tr>\n",
       "    <tr>\n",
       "      <th>7</th>\n",
       "      <td>801</td>\n",
       "      <td>h</td>\n",
       "      <td>801</td>\n",
       "      <td>h</td>\n",
       "      <td>1602</td>\n",
       "    </tr>\n",
       "    <tr>\n",
       "      <th>8</th>\n",
       "      <td>901</td>\n",
       "      <td>i</td>\n",
       "      <td>901</td>\n",
       "      <td>i</td>\n",
       "      <td>1802</td>\n",
       "    </tr>\n",
       "    <tr>\n",
       "      <th>9</th>\n",
       "      <td>1011</td>\n",
       "      <td>j</td>\n",
       "      <td>1011</td>\n",
       "      <td>j</td>\n",
       "      <td>2022</td>\n",
       "    </tr>\n",
       "  </tbody>\n",
       "</table>\n",
       "</div>"
      ],
      "text/plain": [
       "     id name   age exp  total\n",
       "0   101    a   101   a    202\n",
       "1   201    b   201   b    402\n",
       "2   301    c   301   c    602\n",
       "3   401    d   401   d    802\n",
       "4   501    e   501   e   1002\n",
       "5   601    f   601   f   1202\n",
       "6   701    g   701   g   1402\n",
       "7   801    h   801   h   1602\n",
       "8   901    i   901   i   1802\n",
       "9  1011    j  1011   j   2022"
      ]
     },
     "execution_count": 51,
     "metadata": {},
     "output_type": "execute_result"
    }
   ],
   "source": [
    "#### delete a column: but does not change the data\n",
    "df6"
   ]
  },
  {
   "cell_type": "code",
   "execution_count": 52,
   "id": "32a35d9b-6757-4920-aa4c-b787fc4247d5",
   "metadata": {},
   "outputs": [],
   "source": [
    "#### permanent delete column:\n",
    "df6 = df6.drop(columns='total')"
   ]
  },
  {
   "cell_type": "code",
   "execution_count": 53,
   "id": "941a6e1a-2d0c-49a4-a22a-327a1f295c39",
   "metadata": {},
   "outputs": [
    {
     "data": {
      "text/html": [
       "<div>\n",
       "<style scoped>\n",
       "    .dataframe tbody tr th:only-of-type {\n",
       "        vertical-align: middle;\n",
       "    }\n",
       "\n",
       "    .dataframe tbody tr th {\n",
       "        vertical-align: top;\n",
       "    }\n",
       "\n",
       "    .dataframe thead th {\n",
       "        text-align: right;\n",
       "    }\n",
       "</style>\n",
       "<table border=\"1\" class=\"dataframe\">\n",
       "  <thead>\n",
       "    <tr style=\"text-align: right;\">\n",
       "      <th></th>\n",
       "      <th>id</th>\n",
       "      <th>name</th>\n",
       "      <th>age</th>\n",
       "      <th>exp</th>\n",
       "    </tr>\n",
       "  </thead>\n",
       "  <tbody>\n",
       "    <tr>\n",
       "      <th>0</th>\n",
       "      <td>101</td>\n",
       "      <td>a</td>\n",
       "      <td>101</td>\n",
       "      <td>a</td>\n",
       "    </tr>\n",
       "    <tr>\n",
       "      <th>1</th>\n",
       "      <td>201</td>\n",
       "      <td>b</td>\n",
       "      <td>201</td>\n",
       "      <td>b</td>\n",
       "    </tr>\n",
       "    <tr>\n",
       "      <th>2</th>\n",
       "      <td>301</td>\n",
       "      <td>c</td>\n",
       "      <td>301</td>\n",
       "      <td>c</td>\n",
       "    </tr>\n",
       "    <tr>\n",
       "      <th>3</th>\n",
       "      <td>401</td>\n",
       "      <td>d</td>\n",
       "      <td>401</td>\n",
       "      <td>d</td>\n",
       "    </tr>\n",
       "    <tr>\n",
       "      <th>4</th>\n",
       "      <td>501</td>\n",
       "      <td>e</td>\n",
       "      <td>501</td>\n",
       "      <td>e</td>\n",
       "    </tr>\n",
       "    <tr>\n",
       "      <th>5</th>\n",
       "      <td>601</td>\n",
       "      <td>f</td>\n",
       "      <td>601</td>\n",
       "      <td>f</td>\n",
       "    </tr>\n",
       "    <tr>\n",
       "      <th>6</th>\n",
       "      <td>701</td>\n",
       "      <td>g</td>\n",
       "      <td>701</td>\n",
       "      <td>g</td>\n",
       "    </tr>\n",
       "    <tr>\n",
       "      <th>7</th>\n",
       "      <td>801</td>\n",
       "      <td>h</td>\n",
       "      <td>801</td>\n",
       "      <td>h</td>\n",
       "    </tr>\n",
       "    <tr>\n",
       "      <th>8</th>\n",
       "      <td>901</td>\n",
       "      <td>i</td>\n",
       "      <td>901</td>\n",
       "      <td>i</td>\n",
       "    </tr>\n",
       "    <tr>\n",
       "      <th>9</th>\n",
       "      <td>1011</td>\n",
       "      <td>j</td>\n",
       "      <td>1011</td>\n",
       "      <td>j</td>\n",
       "    </tr>\n",
       "  </tbody>\n",
       "</table>\n",
       "</div>"
      ],
      "text/plain": [
       "     id name   age exp\n",
       "0   101    a   101   a\n",
       "1   201    b   201   b\n",
       "2   301    c   301   c\n",
       "3   401    d   401   d\n",
       "4   501    e   501   e\n",
       "5   601    f   601   f\n",
       "6   701    g   701   g\n",
       "7   801    h   801   h\n",
       "8   901    i   901   i\n",
       "9  1011    j  1011   j"
      ]
     },
     "execution_count": 53,
     "metadata": {},
     "output_type": "execute_result"
    }
   ],
   "source": [
    "df6"
   ]
  },
  {
   "cell_type": "markdown",
   "id": "e2bc0ade-8296-4906-ad19-751f8ac4e321",
   "metadata": {},
   "source": [
    "# Boolean Indexing"
   ]
  },
  {
   "cell_type": "code",
   "execution_count": 54,
   "id": "2a51ad9b-4d83-421a-a90e-47f0d0f582b5",
   "metadata": {},
   "outputs": [
    {
     "data": {
      "text/plain": [
       "0    False\n",
       "1    False\n",
       "2    False\n",
       "3    False\n",
       "4     True\n",
       "5     True\n",
       "6     True\n",
       "7     True\n",
       "8     True\n",
       "9     True\n",
       "Name: age, dtype: bool"
      ]
     },
     "execution_count": 54,
     "metadata": {},
     "output_type": "execute_result"
    }
   ],
   "source": [
    "boolean = df6['age'] > 500\n",
    "\n",
    "boolean"
   ]
  },
  {
   "cell_type": "code",
   "execution_count": 55,
   "id": "720364dc-f411-4082-86d1-cb6c008d6367",
   "metadata": {},
   "outputs": [
    {
     "data": {
      "text/plain": [
       "np.int64(10)"
      ]
     },
     "execution_count": 55,
     "metadata": {},
     "output_type": "execute_result"
    }
   ],
   "source": [
    "boolean.count() #                                      count()"
   ]
  },
  {
   "cell_type": "code",
   "execution_count": 56,
   "id": "eeff9ce7-7cdd-4f3d-92bd-d8742584c647",
   "metadata": {},
   "outputs": [
    {
     "data": {
      "text/plain": [
       "age\n",
       "True     6\n",
       "False    4\n",
       "Name: count, dtype: int64"
      ]
     },
     "execution_count": 56,
     "metadata": {},
     "output_type": "execute_result"
    }
   ],
   "source": [
    "boolean.value_counts() #                                value_counts()"
   ]
  },
  {
   "cell_type": "code",
   "execution_count": 57,
   "id": "7e18d390-f437-4b8f-a92a-b28c436dba60",
   "metadata": {},
   "outputs": [
    {
     "data": {
      "text/html": [
       "<div>\n",
       "<style scoped>\n",
       "    .dataframe tbody tr th:only-of-type {\n",
       "        vertical-align: middle;\n",
       "    }\n",
       "\n",
       "    .dataframe tbody tr th {\n",
       "        vertical-align: top;\n",
       "    }\n",
       "\n",
       "    .dataframe thead th {\n",
       "        text-align: right;\n",
       "    }\n",
       "</style>\n",
       "<table border=\"1\" class=\"dataframe\">\n",
       "  <thead>\n",
       "    <tr style=\"text-align: right;\">\n",
       "      <th></th>\n",
       "      <th>id</th>\n",
       "      <th>name</th>\n",
       "      <th>age</th>\n",
       "      <th>exp</th>\n",
       "    </tr>\n",
       "  </thead>\n",
       "  <tbody>\n",
       "    <tr>\n",
       "      <th>4</th>\n",
       "      <td>501</td>\n",
       "      <td>e</td>\n",
       "      <td>501</td>\n",
       "      <td>e</td>\n",
       "    </tr>\n",
       "    <tr>\n",
       "      <th>5</th>\n",
       "      <td>601</td>\n",
       "      <td>f</td>\n",
       "      <td>601</td>\n",
       "      <td>f</td>\n",
       "    </tr>\n",
       "    <tr>\n",
       "      <th>6</th>\n",
       "      <td>701</td>\n",
       "      <td>g</td>\n",
       "      <td>701</td>\n",
       "      <td>g</td>\n",
       "    </tr>\n",
       "    <tr>\n",
       "      <th>7</th>\n",
       "      <td>801</td>\n",
       "      <td>h</td>\n",
       "      <td>801</td>\n",
       "      <td>h</td>\n",
       "    </tr>\n",
       "    <tr>\n",
       "      <th>8</th>\n",
       "      <td>901</td>\n",
       "      <td>i</td>\n",
       "      <td>901</td>\n",
       "      <td>i</td>\n",
       "    </tr>\n",
       "    <tr>\n",
       "      <th>9</th>\n",
       "      <td>1011</td>\n",
       "      <td>j</td>\n",
       "      <td>1011</td>\n",
       "      <td>j</td>\n",
       "    </tr>\n",
       "  </tbody>\n",
       "</table>\n",
       "</div>"
      ],
      "text/plain": [
       "     id name   age exp\n",
       "4   501    e   501   e\n",
       "5   601    f   601   f\n",
       "6   701    g   701   g\n",
       "7   801    h   801   h\n",
       "8   901    i   901   i\n",
       "9  1011    j  1011   j"
      ]
     },
     "execution_count": 57,
     "metadata": {},
     "output_type": "execute_result"
    }
   ],
   "source": [
    "df6.loc[boolean]"
   ]
  },
  {
   "cell_type": "code",
   "execution_count": 58,
   "id": "fe8a9078-6032-46fb-a80b-1a0ec817a647",
   "metadata": {},
   "outputs": [],
   "source": [
    "# df6.iloc[boolean] cause an error\n",
    "#df6.iloc[list(df6.age > 500)]"
   ]
  },
  {
   "cell_type": "code",
   "execution_count": 59,
   "id": "a7d9f8dd-61df-4423-bc11-2dc372a8fffe",
   "metadata": {},
   "outputs": [
    {
     "data": {
      "text/html": [
       "<div>\n",
       "<style scoped>\n",
       "    .dataframe tbody tr th:only-of-type {\n",
       "        vertical-align: middle;\n",
       "    }\n",
       "\n",
       "    .dataframe tbody tr th {\n",
       "        vertical-align: top;\n",
       "    }\n",
       "\n",
       "    .dataframe thead th {\n",
       "        text-align: right;\n",
       "    }\n",
       "</style>\n",
       "<table border=\"1\" class=\"dataframe\">\n",
       "  <thead>\n",
       "    <tr style=\"text-align: right;\">\n",
       "      <th></th>\n",
       "      <th>id</th>\n",
       "      <th>name</th>\n",
       "      <th>age</th>\n",
       "      <th>exp</th>\n",
       "    </tr>\n",
       "  </thead>\n",
       "  <tbody>\n",
       "    <tr>\n",
       "      <th>0</th>\n",
       "      <td>101</td>\n",
       "      <td>a</td>\n",
       "      <td>101</td>\n",
       "      <td>a</td>\n",
       "    </tr>\n",
       "    <tr>\n",
       "      <th>1</th>\n",
       "      <td>201</td>\n",
       "      <td>b</td>\n",
       "      <td>201</td>\n",
       "      <td>b</td>\n",
       "    </tr>\n",
       "    <tr>\n",
       "      <th>2</th>\n",
       "      <td>301</td>\n",
       "      <td>c</td>\n",
       "      <td>301</td>\n",
       "      <td>c</td>\n",
       "    </tr>\n",
       "    <tr>\n",
       "      <th>3</th>\n",
       "      <td>401</td>\n",
       "      <td>d</td>\n",
       "      <td>401</td>\n",
       "      <td>d</td>\n",
       "    </tr>\n",
       "    <tr>\n",
       "      <th>4</th>\n",
       "      <td>501</td>\n",
       "      <td>e</td>\n",
       "      <td>501</td>\n",
       "      <td>e</td>\n",
       "    </tr>\n",
       "    <tr>\n",
       "      <th>5</th>\n",
       "      <td>601</td>\n",
       "      <td>f</td>\n",
       "      <td>601</td>\n",
       "      <td>f</td>\n",
       "    </tr>\n",
       "    <tr>\n",
       "      <th>6</th>\n",
       "      <td>701</td>\n",
       "      <td>g</td>\n",
       "      <td>701</td>\n",
       "      <td>g</td>\n",
       "    </tr>\n",
       "    <tr>\n",
       "      <th>7</th>\n",
       "      <td>801</td>\n",
       "      <td>h</td>\n",
       "      <td>801</td>\n",
       "      <td>h</td>\n",
       "    </tr>\n",
       "    <tr>\n",
       "      <th>8</th>\n",
       "      <td>901</td>\n",
       "      <td>i</td>\n",
       "      <td>901</td>\n",
       "      <td>i</td>\n",
       "    </tr>\n",
       "    <tr>\n",
       "      <th>9</th>\n",
       "      <td>1011</td>\n",
       "      <td>j</td>\n",
       "      <td>1011</td>\n",
       "      <td>j</td>\n",
       "    </tr>\n",
       "  </tbody>\n",
       "</table>\n",
       "</div>"
      ],
      "text/plain": [
       "     id name   age exp\n",
       "0   101    a   101   a\n",
       "1   201    b   201   b\n",
       "2   301    c   301   c\n",
       "3   401    d   401   d\n",
       "4   501    e   501   e\n",
       "5   601    f   601   f\n",
       "6   701    g   701   g\n",
       "7   801    h   801   h\n",
       "8   901    i   901   i\n",
       "9  1011    j  1011   j"
      ]
     },
     "execution_count": 59,
     "metadata": {},
     "output_type": "execute_result"
    }
   ],
   "source": [
    "df6"
   ]
  },
  {
   "cell_type": "code",
   "execution_count": 60,
   "id": "149ad812-b63d-40c1-9a2e-5dd786262c23",
   "metadata": {},
   "outputs": [],
   "source": [
    "df9 = df6"
   ]
  },
  {
   "cell_type": "code",
   "execution_count": 61,
   "id": "34f63dbc-3a28-4bf5-8cf5-c02442e415df",
   "metadata": {},
   "outputs": [
    {
     "data": {
      "text/html": [
       "<div>\n",
       "<style scoped>\n",
       "    .dataframe tbody tr th:only-of-type {\n",
       "        vertical-align: middle;\n",
       "    }\n",
       "\n",
       "    .dataframe tbody tr th {\n",
       "        vertical-align: top;\n",
       "    }\n",
       "\n",
       "    .dataframe thead th {\n",
       "        text-align: right;\n",
       "    }\n",
       "</style>\n",
       "<table border=\"1\" class=\"dataframe\">\n",
       "  <thead>\n",
       "    <tr style=\"text-align: right;\">\n",
       "      <th></th>\n",
       "      <th>id</th>\n",
       "      <th>name</th>\n",
       "      <th>age</th>\n",
       "      <th>exp</th>\n",
       "    </tr>\n",
       "  </thead>\n",
       "  <tbody>\n",
       "    <tr>\n",
       "      <th>0</th>\n",
       "      <td>101</td>\n",
       "      <td>a</td>\n",
       "      <td>101</td>\n",
       "      <td>a</td>\n",
       "    </tr>\n",
       "    <tr>\n",
       "      <th>1</th>\n",
       "      <td>201</td>\n",
       "      <td>b</td>\n",
       "      <td>201</td>\n",
       "      <td>b</td>\n",
       "    </tr>\n",
       "    <tr>\n",
       "      <th>2</th>\n",
       "      <td>301</td>\n",
       "      <td>c</td>\n",
       "      <td>301</td>\n",
       "      <td>c</td>\n",
       "    </tr>\n",
       "    <tr>\n",
       "      <th>3</th>\n",
       "      <td>401</td>\n",
       "      <td>d</td>\n",
       "      <td>401</td>\n",
       "      <td>d</td>\n",
       "    </tr>\n",
       "    <tr>\n",
       "      <th>4</th>\n",
       "      <td>501</td>\n",
       "      <td>e</td>\n",
       "      <td>501</td>\n",
       "      <td>e</td>\n",
       "    </tr>\n",
       "    <tr>\n",
       "      <th>5</th>\n",
       "      <td>601</td>\n",
       "      <td>f</td>\n",
       "      <td>601</td>\n",
       "      <td>f</td>\n",
       "    </tr>\n",
       "    <tr>\n",
       "      <th>6</th>\n",
       "      <td>701</td>\n",
       "      <td>g</td>\n",
       "      <td>701</td>\n",
       "      <td>g</td>\n",
       "    </tr>\n",
       "    <tr>\n",
       "      <th>7</th>\n",
       "      <td>801</td>\n",
       "      <td>h</td>\n",
       "      <td>801</td>\n",
       "      <td>h</td>\n",
       "    </tr>\n",
       "    <tr>\n",
       "      <th>8</th>\n",
       "      <td>901</td>\n",
       "      <td>i</td>\n",
       "      <td>901</td>\n",
       "      <td>i</td>\n",
       "    </tr>\n",
       "    <tr>\n",
       "      <th>9</th>\n",
       "      <td>1011</td>\n",
       "      <td>j</td>\n",
       "      <td>1011</td>\n",
       "      <td>j</td>\n",
       "    </tr>\n",
       "  </tbody>\n",
       "</table>\n",
       "</div>"
      ],
      "text/plain": [
       "     id name   age exp\n",
       "0   101    a   101   a\n",
       "1   201    b   201   b\n",
       "2   301    c   301   c\n",
       "3   401    d   401   d\n",
       "4   501    e   501   e\n",
       "5   601    f   601   f\n",
       "6   701    g   701   g\n",
       "7   801    h   801   h\n",
       "8   901    i   901   i\n",
       "9  1011    j  1011   j"
      ]
     },
     "execution_count": 61,
     "metadata": {},
     "output_type": "execute_result"
    }
   ],
   "source": [
    "df9"
   ]
  },
  {
   "cell_type": "code",
   "execution_count": 62,
   "id": "10707268-5e55-4b86-85af-b78026f7ef63",
   "metadata": {},
   "outputs": [],
   "source": [
    "df9.iloc[4,2] = np.nan"
   ]
  },
  {
   "cell_type": "code",
   "execution_count": 63,
   "id": "946b8af7-ed55-4c11-ab9d-815ce51cb468",
   "metadata": {},
   "outputs": [
    {
     "data": {
      "text/html": [
       "<div>\n",
       "<style scoped>\n",
       "    .dataframe tbody tr th:only-of-type {\n",
       "        vertical-align: middle;\n",
       "    }\n",
       "\n",
       "    .dataframe tbody tr th {\n",
       "        vertical-align: top;\n",
       "    }\n",
       "\n",
       "    .dataframe thead th {\n",
       "        text-align: right;\n",
       "    }\n",
       "</style>\n",
       "<table border=\"1\" class=\"dataframe\">\n",
       "  <thead>\n",
       "    <tr style=\"text-align: right;\">\n",
       "      <th></th>\n",
       "      <th>id</th>\n",
       "      <th>name</th>\n",
       "      <th>age</th>\n",
       "      <th>exp</th>\n",
       "    </tr>\n",
       "  </thead>\n",
       "  <tbody>\n",
       "    <tr>\n",
       "      <th>0</th>\n",
       "      <td>101</td>\n",
       "      <td>a</td>\n",
       "      <td>101.0</td>\n",
       "      <td>a</td>\n",
       "    </tr>\n",
       "    <tr>\n",
       "      <th>1</th>\n",
       "      <td>201</td>\n",
       "      <td>b</td>\n",
       "      <td>201.0</td>\n",
       "      <td>b</td>\n",
       "    </tr>\n",
       "    <tr>\n",
       "      <th>2</th>\n",
       "      <td>301</td>\n",
       "      <td>c</td>\n",
       "      <td>301.0</td>\n",
       "      <td>c</td>\n",
       "    </tr>\n",
       "    <tr>\n",
       "      <th>3</th>\n",
       "      <td>401</td>\n",
       "      <td>d</td>\n",
       "      <td>401.0</td>\n",
       "      <td>d</td>\n",
       "    </tr>\n",
       "    <tr>\n",
       "      <th>4</th>\n",
       "      <td>501</td>\n",
       "      <td>e</td>\n",
       "      <td>NaN</td>\n",
       "      <td>e</td>\n",
       "    </tr>\n",
       "    <tr>\n",
       "      <th>5</th>\n",
       "      <td>601</td>\n",
       "      <td>f</td>\n",
       "      <td>601.0</td>\n",
       "      <td>f</td>\n",
       "    </tr>\n",
       "    <tr>\n",
       "      <th>6</th>\n",
       "      <td>701</td>\n",
       "      <td>g</td>\n",
       "      <td>701.0</td>\n",
       "      <td>g</td>\n",
       "    </tr>\n",
       "    <tr>\n",
       "      <th>7</th>\n",
       "      <td>801</td>\n",
       "      <td>h</td>\n",
       "      <td>801.0</td>\n",
       "      <td>h</td>\n",
       "    </tr>\n",
       "    <tr>\n",
       "      <th>8</th>\n",
       "      <td>901</td>\n",
       "      <td>i</td>\n",
       "      <td>901.0</td>\n",
       "      <td>i</td>\n",
       "    </tr>\n",
       "    <tr>\n",
       "      <th>9</th>\n",
       "      <td>1011</td>\n",
       "      <td>j</td>\n",
       "      <td>1011.0</td>\n",
       "      <td>j</td>\n",
       "    </tr>\n",
       "  </tbody>\n",
       "</table>\n",
       "</div>"
      ],
      "text/plain": [
       "     id name     age exp\n",
       "0   101    a   101.0   a\n",
       "1   201    b   201.0   b\n",
       "2   301    c   301.0   c\n",
       "3   401    d   401.0   d\n",
       "4   501    e     NaN   e\n",
       "5   601    f   601.0   f\n",
       "6   701    g   701.0   g\n",
       "7   801    h   801.0   h\n",
       "8   901    i   901.0   i\n",
       "9  1011    j  1011.0   j"
      ]
     },
     "execution_count": 63,
     "metadata": {},
     "output_type": "execute_result"
    }
   ],
   "source": [
    "df9"
   ]
  },
  {
   "cell_type": "code",
   "execution_count": null,
   "id": "d5b83208-dbad-49b1-999b-f82d09e1a9c0",
   "metadata": {},
   "outputs": [],
   "source": []
  },
  {
   "cell_type": "code",
   "execution_count": 135,
   "id": "916eb076-c47e-4858-8f14-b7d6317b378a",
   "metadata": {},
   "outputs": [],
   "source": [
    "#### 4. Data Cleaning\n",
    "#- *Handling Missing Data*:\n",
    "#  - Identifying missing data: isnull(), notnull().\n",
    "#  - Filling missing values: fillna(), interpolate().\n",
    "#  - Dropping missing values: dropna().\n",
    "\n",
    "#- *Data Transformation*:\n",
    "#  - Applying functions: apply(), map().\n",
    "#  - Replacing values: replace().\n",
    "#  - Removing duplicates: drop_duplicates().\n",
    "\n",
    "#- *Data Manipulation*:\n",
    "#  - Renaming- Renaming columns:\n",
    "#  - Sorting- Sorting by index:\n",
    "#           - Sorting by values:\n",
    "\n",
    "#### Some advaced concept\n",
    "# - median()\n",
    "# - count() - how much data fill / not blank\n",
    "# - value_counts() - count how much data of unique value is there\n",
    "# - value_counts(normalize = True) - calculate in percentage\n",
    "# - sort_values(by = 'column name', ascending = False )"
   ]
  },
  {
   "cell_type": "markdown",
   "id": "9ecc80ab-77a7-4772-8d25-32c72b325466",
   "metadata": {},
   "source": [
    "# Handling Missing Data:"
   ]
  },
  {
   "cell_type": "code",
   "execution_count": 65,
   "id": "7d4669ab-114e-4522-a659-a1cabca6b9ae",
   "metadata": {},
   "outputs": [],
   "source": [
    "df3\n",
    "df7 = pd.DataFrame(df3)"
   ]
  },
  {
   "cell_type": "code",
   "execution_count": 66,
   "id": "c61bd8a5-f5f9-459d-94bc-95e0a5260465",
   "metadata": {},
   "outputs": [],
   "source": [
    "df3.iloc[1,1] = 'na'\n",
    "df3.loc[1:,'exp'] = 'N/A'"
   ]
  },
  {
   "cell_type": "code",
   "execution_count": 67,
   "id": "3eadda0b-c652-4e45-b7a3-2470e0166ec7",
   "metadata": {},
   "outputs": [
    {
     "data": {
      "text/html": [
       "<div>\n",
       "<style scoped>\n",
       "    .dataframe tbody tr th:only-of-type {\n",
       "        vertical-align: middle;\n",
       "    }\n",
       "\n",
       "    .dataframe tbody tr th {\n",
       "        vertical-align: top;\n",
       "    }\n",
       "\n",
       "    .dataframe thead th {\n",
       "        text-align: right;\n",
       "    }\n",
       "</style>\n",
       "<table border=\"1\" class=\"dataframe\">\n",
       "  <thead>\n",
       "    <tr style=\"text-align: right;\">\n",
       "      <th></th>\n",
       "      <th>id</th>\n",
       "      <th>name</th>\n",
       "      <th>age</th>\n",
       "      <th>exp</th>\n",
       "    </tr>\n",
       "  </thead>\n",
       "  <tbody>\n",
       "    <tr>\n",
       "      <th>1</th>\n",
       "      <td>101</td>\n",
       "      <td>NaN</td>\n",
       "      <td>45</td>\n",
       "      <td>N/A</td>\n",
       "    </tr>\n",
       "    <tr>\n",
       "      <th>2</th>\n",
       "      <td>102</td>\n",
       "      <td>na</td>\n",
       "      <td>65</td>\n",
       "      <td>N/A</td>\n",
       "    </tr>\n",
       "    <tr>\n",
       "      <th>3</th>\n",
       "      <td>103</td>\n",
       "      <td>NaN</td>\n",
       "      <td>46</td>\n",
       "      <td>N/A</td>\n",
       "    </tr>\n",
       "    <tr>\n",
       "      <th>4</th>\n",
       "      <td>104</td>\n",
       "      <td>NaN</td>\n",
       "      <td>89</td>\n",
       "      <td>N/A</td>\n",
       "    </tr>\n",
       "  </tbody>\n",
       "</table>\n",
       "</div>"
      ],
      "text/plain": [
       "    id name  age  exp\n",
       "1  101  NaN   45  N/A\n",
       "2  102   na   65  N/A\n",
       "3  103  NaN   46  N/A\n",
       "4  104  NaN   89  N/A"
      ]
     },
     "execution_count": 67,
     "metadata": {},
     "output_type": "execute_result"
    }
   ],
   "source": [
    "dff5 = df3\n",
    "df3"
   ]
  },
  {
   "cell_type": "code",
   "execution_count": 68,
   "id": "65d5daa4-41bb-4ab7-ba35-370e423ae226",
   "metadata": {},
   "outputs": [
    {
     "data": {
      "text/html": [
       "<div>\n",
       "<style scoped>\n",
       "    .dataframe tbody tr th:only-of-type {\n",
       "        vertical-align: middle;\n",
       "    }\n",
       "\n",
       "    .dataframe tbody tr th {\n",
       "        vertical-align: top;\n",
       "    }\n",
       "\n",
       "    .dataframe thead th {\n",
       "        text-align: right;\n",
       "    }\n",
       "</style>\n",
       "<table border=\"1\" class=\"dataframe\">\n",
       "  <thead>\n",
       "    <tr style=\"text-align: right;\">\n",
       "      <th></th>\n",
       "      <th>id</th>\n",
       "      <th>name</th>\n",
       "      <th>age</th>\n",
       "      <th>exp</th>\n",
       "    </tr>\n",
       "  </thead>\n",
       "  <tbody>\n",
       "    <tr>\n",
       "      <th>1</th>\n",
       "      <td>False</td>\n",
       "      <td>True</td>\n",
       "      <td>False</td>\n",
       "      <td>False</td>\n",
       "    </tr>\n",
       "    <tr>\n",
       "      <th>2</th>\n",
       "      <td>False</td>\n",
       "      <td>False</td>\n",
       "      <td>False</td>\n",
       "      <td>False</td>\n",
       "    </tr>\n",
       "    <tr>\n",
       "      <th>3</th>\n",
       "      <td>False</td>\n",
       "      <td>True</td>\n",
       "      <td>False</td>\n",
       "      <td>False</td>\n",
       "    </tr>\n",
       "    <tr>\n",
       "      <th>4</th>\n",
       "      <td>False</td>\n",
       "      <td>True</td>\n",
       "      <td>False</td>\n",
       "      <td>False</td>\n",
       "    </tr>\n",
       "  </tbody>\n",
       "</table>\n",
       "</div>"
      ],
      "text/plain": [
       "      id   name    age    exp\n",
       "1  False   True  False  False\n",
       "2  False  False  False  False\n",
       "3  False   True  False  False\n",
       "4  False   True  False  False"
      ]
     },
     "execution_count": 68,
     "metadata": {},
     "output_type": "execute_result"
    }
   ],
   "source": [
    "df3.isna()"
   ]
  },
  {
   "cell_type": "code",
   "execution_count": 69,
   "id": "3da3bb62-d382-4516-b656-9d03a7128751",
   "metadata": {},
   "outputs": [
    {
     "data": {
      "text/html": [
       "<div>\n",
       "<style scoped>\n",
       "    .dataframe tbody tr th:only-of-type {\n",
       "        vertical-align: middle;\n",
       "    }\n",
       "\n",
       "    .dataframe tbody tr th {\n",
       "        vertical-align: top;\n",
       "    }\n",
       "\n",
       "    .dataframe thead th {\n",
       "        text-align: right;\n",
       "    }\n",
       "</style>\n",
       "<table border=\"1\" class=\"dataframe\">\n",
       "  <thead>\n",
       "    <tr style=\"text-align: right;\">\n",
       "      <th></th>\n",
       "      <th>id</th>\n",
       "      <th>name</th>\n",
       "      <th>age</th>\n",
       "      <th>exp</th>\n",
       "    </tr>\n",
       "  </thead>\n",
       "  <tbody>\n",
       "    <tr>\n",
       "      <th>1</th>\n",
       "      <td>False</td>\n",
       "      <td>True</td>\n",
       "      <td>False</td>\n",
       "      <td>False</td>\n",
       "    </tr>\n",
       "    <tr>\n",
       "      <th>2</th>\n",
       "      <td>False</td>\n",
       "      <td>False</td>\n",
       "      <td>False</td>\n",
       "      <td>False</td>\n",
       "    </tr>\n",
       "    <tr>\n",
       "      <th>3</th>\n",
       "      <td>False</td>\n",
       "      <td>True</td>\n",
       "      <td>False</td>\n",
       "      <td>False</td>\n",
       "    </tr>\n",
       "    <tr>\n",
       "      <th>4</th>\n",
       "      <td>False</td>\n",
       "      <td>True</td>\n",
       "      <td>False</td>\n",
       "      <td>False</td>\n",
       "    </tr>\n",
       "  </tbody>\n",
       "</table>\n",
       "</div>"
      ],
      "text/plain": [
       "      id   name    age    exp\n",
       "1  False   True  False  False\n",
       "2  False  False  False  False\n",
       "3  False   True  False  False\n",
       "4  False   True  False  False"
      ]
     },
     "execution_count": 69,
     "metadata": {},
     "output_type": "execute_result"
    }
   ],
   "source": [
    "df3.isnull()"
   ]
  },
  {
   "cell_type": "code",
   "execution_count": 70,
   "id": "dfd0dea8-f74f-41fb-abe7-87615e4a1ab9",
   "metadata": {},
   "outputs": [
    {
     "data": {
      "text/html": [
       "<div>\n",
       "<style scoped>\n",
       "    .dataframe tbody tr th:only-of-type {\n",
       "        vertical-align: middle;\n",
       "    }\n",
       "\n",
       "    .dataframe tbody tr th {\n",
       "        vertical-align: top;\n",
       "    }\n",
       "\n",
       "    .dataframe thead th {\n",
       "        text-align: right;\n",
       "    }\n",
       "</style>\n",
       "<table border=\"1\" class=\"dataframe\">\n",
       "  <thead>\n",
       "    <tr style=\"text-align: right;\">\n",
       "      <th></th>\n",
       "      <th>id</th>\n",
       "      <th>name</th>\n",
       "      <th>age</th>\n",
       "      <th>exp</th>\n",
       "    </tr>\n",
       "  </thead>\n",
       "  <tbody>\n",
       "    <tr>\n",
       "      <th>1</th>\n",
       "      <td>True</td>\n",
       "      <td>False</td>\n",
       "      <td>True</td>\n",
       "      <td>True</td>\n",
       "    </tr>\n",
       "    <tr>\n",
       "      <th>2</th>\n",
       "      <td>True</td>\n",
       "      <td>True</td>\n",
       "      <td>True</td>\n",
       "      <td>True</td>\n",
       "    </tr>\n",
       "    <tr>\n",
       "      <th>3</th>\n",
       "      <td>True</td>\n",
       "      <td>False</td>\n",
       "      <td>True</td>\n",
       "      <td>True</td>\n",
       "    </tr>\n",
       "    <tr>\n",
       "      <th>4</th>\n",
       "      <td>True</td>\n",
       "      <td>False</td>\n",
       "      <td>True</td>\n",
       "      <td>True</td>\n",
       "    </tr>\n",
       "  </tbody>\n",
       "</table>\n",
       "</div>"
      ],
      "text/plain": [
       "     id   name   age   exp\n",
       "1  True  False  True  True\n",
       "2  True   True  True  True\n",
       "3  True  False  True  True\n",
       "4  True  False  True  True"
      ]
     },
     "execution_count": 70,
     "metadata": {},
     "output_type": "execute_result"
    }
   ],
   "source": [
    "df3.notnull()"
   ]
  },
  {
   "cell_type": "code",
   "execution_count": 71,
   "id": "e106d416-be88-45ad-ab49-27b6f6557308",
   "metadata": {},
   "outputs": [
    {
     "data": {
      "text/plain": [
       "id      0\n",
       "name    3\n",
       "age     0\n",
       "exp     0\n",
       "dtype: int64"
      ]
     },
     "execution_count": 71,
     "metadata": {},
     "output_type": "execute_result"
    }
   ],
   "source": [
    "df3.isnull().sum()"
   ]
  },
  {
   "cell_type": "markdown",
   "id": "9bd993ad-2970-451e-a7b6-7ab191abaf82",
   "metadata": {},
   "source": [
    "# handeling the problem"
   ]
  },
  {
   "cell_type": "code",
   "execution_count": 72,
   "id": "6d4522e0-eb2c-4b87-9958-7ecd260b4567",
   "metadata": {},
   "outputs": [],
   "source": [
    "missing_values = ['N/a','na','NaN']\n",
    "#df3 = pd.read_csv('data.csv',na_values =missing_values)\n",
    "# cause an error i dont have data.csv"
   ]
  },
  {
   "cell_type": "code",
   "execution_count": 73,
   "id": "86ef0f4e-aecc-4b24-aba8-56500c06b416",
   "metadata": {},
   "outputs": [
    {
     "data": {
      "text/plain": [
       "id      0\n",
       "name    3\n",
       "age     0\n",
       "exp     0\n",
       "dtype: int64"
      ]
     },
     "execution_count": 73,
     "metadata": {},
     "output_type": "execute_result"
    }
   ],
   "source": [
    "df3.isnull().sum()"
   ]
  },
  {
   "cell_type": "code",
   "execution_count": 74,
   "id": "2a570a2e-4344-456f-8da0-27dbe5c563e9",
   "metadata": {},
   "outputs": [
    {
     "data": {
      "text/plain": [
       "id      False\n",
       "name     True\n",
       "age     False\n",
       "exp     False\n",
       "dtype: bool"
      ]
     },
     "execution_count": 74,
     "metadata": {},
     "output_type": "execute_result"
    }
   ],
   "source": [
    "df3.isnull().any()"
   ]
  },
  {
   "cell_type": "markdown",
   "id": "0d1abc0c-225d-4cff-806b-2cf3b0129426",
   "metadata": {},
   "source": [
    "#  - Dropping missing values: dropna()."
   ]
  },
  {
   "cell_type": "code",
   "execution_count": 75,
   "id": "753391ff-d13f-4c65-96f7-2947756249df",
   "metadata": {},
   "outputs": [
    {
     "data": {
      "text/html": [
       "<div>\n",
       "<style scoped>\n",
       "    .dataframe tbody tr th:only-of-type {\n",
       "        vertical-align: middle;\n",
       "    }\n",
       "\n",
       "    .dataframe tbody tr th {\n",
       "        vertical-align: top;\n",
       "    }\n",
       "\n",
       "    .dataframe thead th {\n",
       "        text-align: right;\n",
       "    }\n",
       "</style>\n",
       "<table border=\"1\" class=\"dataframe\">\n",
       "  <thead>\n",
       "    <tr style=\"text-align: right;\">\n",
       "      <th></th>\n",
       "      <th>id</th>\n",
       "      <th>name</th>\n",
       "      <th>age</th>\n",
       "      <th>exp</th>\n",
       "    </tr>\n",
       "  </thead>\n",
       "  <tbody>\n",
       "    <tr>\n",
       "      <th>2</th>\n",
       "      <td>102</td>\n",
       "      <td>na</td>\n",
       "      <td>65</td>\n",
       "      <td>N/A</td>\n",
       "    </tr>\n",
       "  </tbody>\n",
       "</table>\n",
       "</div>"
      ],
      "text/plain": [
       "    id name  age  exp\n",
       "2  102   na   65  N/A"
      ]
     },
     "execution_count": 75,
     "metadata": {},
     "output_type": "execute_result"
    }
   ],
   "source": [
    "df3.dropna()"
   ]
  },
  {
   "cell_type": "code",
   "execution_count": 76,
   "id": "b6423a83-5ddb-4d4a-9a4b-be08835df4c8",
   "metadata": {},
   "outputs": [
    {
     "data": {
      "text/html": [
       "<div>\n",
       "<style scoped>\n",
       "    .dataframe tbody tr th:only-of-type {\n",
       "        vertical-align: middle;\n",
       "    }\n",
       "\n",
       "    .dataframe tbody tr th {\n",
       "        vertical-align: top;\n",
       "    }\n",
       "\n",
       "    .dataframe thead th {\n",
       "        text-align: right;\n",
       "    }\n",
       "</style>\n",
       "<table border=\"1\" class=\"dataframe\">\n",
       "  <thead>\n",
       "    <tr style=\"text-align: right;\">\n",
       "      <th></th>\n",
       "      <th>id</th>\n",
       "      <th>name</th>\n",
       "      <th>age</th>\n",
       "      <th>exp</th>\n",
       "    </tr>\n",
       "  </thead>\n",
       "  <tbody>\n",
       "    <tr>\n",
       "      <th>1</th>\n",
       "      <td>101</td>\n",
       "      <td>NaN</td>\n",
       "      <td>45</td>\n",
       "      <td>N/A</td>\n",
       "    </tr>\n",
       "    <tr>\n",
       "      <th>2</th>\n",
       "      <td>102</td>\n",
       "      <td>na</td>\n",
       "      <td>65</td>\n",
       "      <td>N/A</td>\n",
       "    </tr>\n",
       "    <tr>\n",
       "      <th>3</th>\n",
       "      <td>103</td>\n",
       "      <td>NaN</td>\n",
       "      <td>46</td>\n",
       "      <td>N/A</td>\n",
       "    </tr>\n",
       "    <tr>\n",
       "      <th>4</th>\n",
       "      <td>104</td>\n",
       "      <td>NaN</td>\n",
       "      <td>89</td>\n",
       "      <td>N/A</td>\n",
       "    </tr>\n",
       "  </tbody>\n",
       "</table>\n",
       "</div>"
      ],
      "text/plain": [
       "    id name  age  exp\n",
       "1  101  NaN   45  N/A\n",
       "2  102   na   65  N/A\n",
       "3  103  NaN   46  N/A\n",
       "4  104  NaN   89  N/A"
      ]
     },
     "execution_count": 76,
     "metadata": {},
     "output_type": "execute_result"
    }
   ],
   "source": [
    "df3.dropna(how = 'all')"
   ]
  },
  {
   "cell_type": "markdown",
   "id": "f43fa55c-3612-409e-bbda-52a3a0c0e0f6",
   "metadata": {},
   "source": [
    "# - to change the original data .dropna(inplace= True)"
   ]
  },
  {
   "cell_type": "code",
   "execution_count": 77,
   "id": "48a5f162-ad49-452a-b1ff-192f4da76502",
   "metadata": {},
   "outputs": [],
   "source": [
    "df17 = df3"
   ]
  },
  {
   "cell_type": "code",
   "execution_count": 78,
   "id": "b6c72de6-02c4-479f-827a-164e624314e9",
   "metadata": {},
   "outputs": [
    {
     "data": {
      "text/html": [
       "<div>\n",
       "<style scoped>\n",
       "    .dataframe tbody tr th:only-of-type {\n",
       "        vertical-align: middle;\n",
       "    }\n",
       "\n",
       "    .dataframe tbody tr th {\n",
       "        vertical-align: top;\n",
       "    }\n",
       "\n",
       "    .dataframe thead th {\n",
       "        text-align: right;\n",
       "    }\n",
       "</style>\n",
       "<table border=\"1\" class=\"dataframe\">\n",
       "  <thead>\n",
       "    <tr style=\"text-align: right;\">\n",
       "      <th></th>\n",
       "      <th>id</th>\n",
       "      <th>name</th>\n",
       "      <th>age</th>\n",
       "      <th>exp</th>\n",
       "    </tr>\n",
       "  </thead>\n",
       "  <tbody>\n",
       "    <tr>\n",
       "      <th>1</th>\n",
       "      <td>101</td>\n",
       "      <td>NaN</td>\n",
       "      <td>45</td>\n",
       "      <td>N/A</td>\n",
       "    </tr>\n",
       "    <tr>\n",
       "      <th>2</th>\n",
       "      <td>102</td>\n",
       "      <td>na</td>\n",
       "      <td>65</td>\n",
       "      <td>N/A</td>\n",
       "    </tr>\n",
       "    <tr>\n",
       "      <th>3</th>\n",
       "      <td>103</td>\n",
       "      <td>NaN</td>\n",
       "      <td>46</td>\n",
       "      <td>N/A</td>\n",
       "    </tr>\n",
       "    <tr>\n",
       "      <th>4</th>\n",
       "      <td>104</td>\n",
       "      <td>NaN</td>\n",
       "      <td>89</td>\n",
       "      <td>N/A</td>\n",
       "    </tr>\n",
       "  </tbody>\n",
       "</table>\n",
       "</div>"
      ],
      "text/plain": [
       "    id name  age  exp\n",
       "1  101  NaN   45  N/A\n",
       "2  102   na   65  N/A\n",
       "3  103  NaN   46  N/A\n",
       "4  104  NaN   89  N/A"
      ]
     },
     "execution_count": 78,
     "metadata": {},
     "output_type": "execute_result"
    }
   ],
   "source": [
    "df17"
   ]
  },
  {
   "cell_type": "code",
   "execution_count": 79,
   "id": "276d81f0-063e-4c6c-bbe2-a6f01d50c049",
   "metadata": {},
   "outputs": [
    {
     "data": {
      "text/html": [
       "<div>\n",
       "<style scoped>\n",
       "    .dataframe tbody tr th:only-of-type {\n",
       "        vertical-align: middle;\n",
       "    }\n",
       "\n",
       "    .dataframe tbody tr th {\n",
       "        vertical-align: top;\n",
       "    }\n",
       "\n",
       "    .dataframe thead th {\n",
       "        text-align: right;\n",
       "    }\n",
       "</style>\n",
       "<table border=\"1\" class=\"dataframe\">\n",
       "  <thead>\n",
       "    <tr style=\"text-align: right;\">\n",
       "      <th></th>\n",
       "      <th>id</th>\n",
       "      <th>name</th>\n",
       "      <th>age</th>\n",
       "      <th>exp</th>\n",
       "    </tr>\n",
       "  </thead>\n",
       "  <tbody>\n",
       "    <tr>\n",
       "      <th>2</th>\n",
       "      <td>102</td>\n",
       "      <td>na</td>\n",
       "      <td>65</td>\n",
       "      <td>N/A</td>\n",
       "    </tr>\n",
       "  </tbody>\n",
       "</table>\n",
       "</div>"
      ],
      "text/plain": [
       "    id name  age  exp\n",
       "2  102   na   65  N/A"
      ]
     },
     "execution_count": 79,
     "metadata": {},
     "output_type": "execute_result"
    }
   ],
   "source": [
    "df17.dropna()"
   ]
  },
  {
   "cell_type": "code",
   "execution_count": 80,
   "id": "d98dcee9-8e00-4401-8fb5-03cfc363db6e",
   "metadata": {},
   "outputs": [],
   "source": [
    "df17.dropna(inplace = True)"
   ]
  },
  {
   "cell_type": "code",
   "execution_count": 81,
   "id": "ff8876d5-d9f4-4cf3-8ea4-7e34436fd8dc",
   "metadata": {},
   "outputs": [
    {
     "data": {
      "text/html": [
       "<div>\n",
       "<style scoped>\n",
       "    .dataframe tbody tr th:only-of-type {\n",
       "        vertical-align: middle;\n",
       "    }\n",
       "\n",
       "    .dataframe tbody tr th {\n",
       "        vertical-align: top;\n",
       "    }\n",
       "\n",
       "    .dataframe thead th {\n",
       "        text-align: right;\n",
       "    }\n",
       "</style>\n",
       "<table border=\"1\" class=\"dataframe\">\n",
       "  <thead>\n",
       "    <tr style=\"text-align: right;\">\n",
       "      <th></th>\n",
       "      <th>id</th>\n",
       "      <th>name</th>\n",
       "      <th>age</th>\n",
       "      <th>exp</th>\n",
       "    </tr>\n",
       "  </thead>\n",
       "  <tbody>\n",
       "    <tr>\n",
       "      <th>2</th>\n",
       "      <td>102</td>\n",
       "      <td>na</td>\n",
       "      <td>65</td>\n",
       "      <td>N/A</td>\n",
       "    </tr>\n",
       "  </tbody>\n",
       "</table>\n",
       "</div>"
      ],
      "text/plain": [
       "    id name  age  exp\n",
       "2  102   na   65  N/A"
      ]
     },
     "execution_count": 81,
     "metadata": {},
     "output_type": "execute_result"
    }
   ],
   "source": [
    "df17"
   ]
  },
  {
   "cell_type": "markdown",
   "id": "0fcfe6b6-2bfa-4c62-9d20-7ed7ca0d93c3",
   "metadata": {},
   "source": [
    "#  - Filling missing values: fillna(), interpolate()."
   ]
  },
  {
   "cell_type": "code",
   "execution_count": 82,
   "id": "6a26ed23-85d5-4114-9456-cdc43eb13824",
   "metadata": {},
   "outputs": [
    {
     "data": {
      "text/html": [
       "<div>\n",
       "<style scoped>\n",
       "    .dataframe tbody tr th:only-of-type {\n",
       "        vertical-align: middle;\n",
       "    }\n",
       "\n",
       "    .dataframe tbody tr th {\n",
       "        vertical-align: top;\n",
       "    }\n",
       "\n",
       "    .dataframe thead th {\n",
       "        text-align: right;\n",
       "    }\n",
       "</style>\n",
       "<table border=\"1\" class=\"dataframe\">\n",
       "  <thead>\n",
       "    <tr style=\"text-align: right;\">\n",
       "      <th></th>\n",
       "      <th>id</th>\n",
       "      <th>name</th>\n",
       "      <th>age</th>\n",
       "      <th>exp</th>\n",
       "    </tr>\n",
       "  </thead>\n",
       "  <tbody>\n",
       "    <tr>\n",
       "      <th>1</th>\n",
       "      <td>101</td>\n",
       "      <td>NaN</td>\n",
       "      <td>45</td>\n",
       "      <td>N/A</td>\n",
       "    </tr>\n",
       "    <tr>\n",
       "      <th>2</th>\n",
       "      <td>102</td>\n",
       "      <td>na</td>\n",
       "      <td>65</td>\n",
       "      <td>N/A</td>\n",
       "    </tr>\n",
       "    <tr>\n",
       "      <th>3</th>\n",
       "      <td>103</td>\n",
       "      <td>NaN</td>\n",
       "      <td>46</td>\n",
       "      <td>N/A</td>\n",
       "    </tr>\n",
       "    <tr>\n",
       "      <th>4</th>\n",
       "      <td>104</td>\n",
       "      <td>NaN</td>\n",
       "      <td>89</td>\n",
       "      <td>N/A</td>\n",
       "    </tr>\n",
       "  </tbody>\n",
       "</table>\n",
       "</div>"
      ],
      "text/plain": [
       "    id name  age  exp\n",
       "1  101  NaN   45  N/A\n",
       "2  102   na   65  N/A\n",
       "3  103  NaN   46  N/A\n",
       "4  104  NaN   89  N/A"
      ]
     },
     "execution_count": 82,
     "metadata": {},
     "output_type": "execute_result"
    }
   ],
   "source": [
    "df7"
   ]
  },
  {
   "cell_type": "code",
   "execution_count": 83,
   "id": "b2166396-1b22-412b-a822-d97e9b0917df",
   "metadata": {},
   "outputs": [
    {
     "name": "stdout",
     "output_type": "stream",
     "text": [
      "    id name  age  exp\n",
      "1  101    0   45  N/A\n",
      "2  102   na   65  N/A\n",
      "3  103    0   46  N/A\n",
      "4  104    0   89  N/A\n"
     ]
    }
   ],
   "source": [
    "#### this not for good cleaning\n",
    "print(df7.fillna(0))"
   ]
  },
  {
   "cell_type": "markdown",
   "id": "48a1cf94-b6ba-45be-b765-e727779e86aa",
   "metadata": {},
   "source": [
    "# fillna(method = 'ffill')"
   ]
  },
  {
   "cell_type": "code",
   "execution_count": 84,
   "id": "820d8277-eb4d-47ea-85a4-3bc4fbaf82bb",
   "metadata": {},
   "outputs": [
    {
     "data": {
      "text/html": [
       "<div>\n",
       "<style scoped>\n",
       "    .dataframe tbody tr th:only-of-type {\n",
       "        vertical-align: middle;\n",
       "    }\n",
       "\n",
       "    .dataframe tbody tr th {\n",
       "        vertical-align: top;\n",
       "    }\n",
       "\n",
       "    .dataframe thead th {\n",
       "        text-align: right;\n",
       "    }\n",
       "</style>\n",
       "<table border=\"1\" class=\"dataframe\">\n",
       "  <thead>\n",
       "    <tr style=\"text-align: right;\">\n",
       "      <th></th>\n",
       "      <th>id</th>\n",
       "      <th>name</th>\n",
       "      <th>age</th>\n",
       "      <th>exp</th>\n",
       "    </tr>\n",
       "  </thead>\n",
       "  <tbody>\n",
       "    <tr>\n",
       "      <th>1</th>\n",
       "      <td>101</td>\n",
       "      <td>NaN</td>\n",
       "      <td>45</td>\n",
       "      <td>N/A</td>\n",
       "    </tr>\n",
       "    <tr>\n",
       "      <th>2</th>\n",
       "      <td>102</td>\n",
       "      <td>na</td>\n",
       "      <td>65</td>\n",
       "      <td>N/A</td>\n",
       "    </tr>\n",
       "    <tr>\n",
       "      <th>3</th>\n",
       "      <td>103</td>\n",
       "      <td>NaN</td>\n",
       "      <td>46</td>\n",
       "      <td>N/A</td>\n",
       "    </tr>\n",
       "    <tr>\n",
       "      <th>4</th>\n",
       "      <td>104</td>\n",
       "      <td>NaN</td>\n",
       "      <td>89</td>\n",
       "      <td>N/A</td>\n",
       "    </tr>\n",
       "  </tbody>\n",
       "</table>\n",
       "</div>"
      ],
      "text/plain": [
       "    id name  age  exp\n",
       "1  101  NaN   45  N/A\n",
       "2  102   na   65  N/A\n",
       "3  103  NaN   46  N/A\n",
       "4  104  NaN   89  N/A"
      ]
     },
     "execution_count": 84,
     "metadata": {},
     "output_type": "execute_result"
    }
   ],
   "source": [
    "df7"
   ]
  },
  {
   "cell_type": "code",
   "execution_count": 85,
   "id": "c2a165a0-af4d-4e64-912e-8591e757bb47",
   "metadata": {},
   "outputs": [
    {
     "data": {
      "text/html": [
       "<div>\n",
       "<style scoped>\n",
       "    .dataframe tbody tr th:only-of-type {\n",
       "        vertical-align: middle;\n",
       "    }\n",
       "\n",
       "    .dataframe tbody tr th {\n",
       "        vertical-align: top;\n",
       "    }\n",
       "\n",
       "    .dataframe thead th {\n",
       "        text-align: right;\n",
       "    }\n",
       "</style>\n",
       "<table border=\"1\" class=\"dataframe\">\n",
       "  <thead>\n",
       "    <tr style=\"text-align: right;\">\n",
       "      <th></th>\n",
       "      <th>id</th>\n",
       "      <th>name</th>\n",
       "      <th>age</th>\n",
       "      <th>exp</th>\n",
       "    </tr>\n",
       "  </thead>\n",
       "  <tbody>\n",
       "    <tr>\n",
       "      <th>1</th>\n",
       "      <td>101</td>\n",
       "      <td>NaN</td>\n",
       "      <td>45</td>\n",
       "      <td>N/A</td>\n",
       "    </tr>\n",
       "    <tr>\n",
       "      <th>2</th>\n",
       "      <td>102</td>\n",
       "      <td>na</td>\n",
       "      <td>65</td>\n",
       "      <td>N/A</td>\n",
       "    </tr>\n",
       "    <tr>\n",
       "      <th>3</th>\n",
       "      <td>103</td>\n",
       "      <td>na</td>\n",
       "      <td>46</td>\n",
       "      <td>N/A</td>\n",
       "    </tr>\n",
       "    <tr>\n",
       "      <th>4</th>\n",
       "      <td>104</td>\n",
       "      <td>na</td>\n",
       "      <td>89</td>\n",
       "      <td>N/A</td>\n",
       "    </tr>\n",
       "  </tbody>\n",
       "</table>\n",
       "</div>"
      ],
      "text/plain": [
       "    id name  age  exp\n",
       "1  101  NaN   45  N/A\n",
       "2  102   na   65  N/A\n",
       "3  103   na   46  N/A\n",
       "4  104   na   89  N/A"
      ]
     },
     "execution_count": 85,
     "metadata": {},
     "output_type": "execute_result"
    }
   ],
   "source": [
    "df7.ffill()"
   ]
  },
  {
   "cell_type": "markdown",
   "id": "8bbb42ea-9814-4f6c-932e-d72d16302a3f",
   "metadata": {},
   "source": [
    "# fillna(method = 'bfill')"
   ]
  },
  {
   "cell_type": "code",
   "execution_count": 86,
   "id": "8a786886-95ae-43ba-86e8-7fb61eddb31e",
   "metadata": {},
   "outputs": [
    {
     "data": {
      "text/html": [
       "<div>\n",
       "<style scoped>\n",
       "    .dataframe tbody tr th:only-of-type {\n",
       "        vertical-align: middle;\n",
       "    }\n",
       "\n",
       "    .dataframe tbody tr th {\n",
       "        vertical-align: top;\n",
       "    }\n",
       "\n",
       "    .dataframe thead th {\n",
       "        text-align: right;\n",
       "    }\n",
       "</style>\n",
       "<table border=\"1\" class=\"dataframe\">\n",
       "  <thead>\n",
       "    <tr style=\"text-align: right;\">\n",
       "      <th></th>\n",
       "      <th>id</th>\n",
       "      <th>name</th>\n",
       "      <th>age</th>\n",
       "      <th>exp</th>\n",
       "    </tr>\n",
       "  </thead>\n",
       "  <tbody>\n",
       "    <tr>\n",
       "      <th>1</th>\n",
       "      <td>101</td>\n",
       "      <td>na</td>\n",
       "      <td>45</td>\n",
       "      <td>N/A</td>\n",
       "    </tr>\n",
       "    <tr>\n",
       "      <th>2</th>\n",
       "      <td>102</td>\n",
       "      <td>na</td>\n",
       "      <td>65</td>\n",
       "      <td>N/A</td>\n",
       "    </tr>\n",
       "    <tr>\n",
       "      <th>3</th>\n",
       "      <td>103</td>\n",
       "      <td>NaN</td>\n",
       "      <td>46</td>\n",
       "      <td>N/A</td>\n",
       "    </tr>\n",
       "    <tr>\n",
       "      <th>4</th>\n",
       "      <td>104</td>\n",
       "      <td>NaN</td>\n",
       "      <td>89</td>\n",
       "      <td>N/A</td>\n",
       "    </tr>\n",
       "  </tbody>\n",
       "</table>\n",
       "</div>"
      ],
      "text/plain": [
       "    id name  age  exp\n",
       "1  101   na   45  N/A\n",
       "2  102   na   65  N/A\n",
       "3  103  NaN   46  N/A\n",
       "4  104  NaN   89  N/A"
      ]
     },
     "execution_count": 86,
     "metadata": {},
     "output_type": "execute_result"
    }
   ],
   "source": [
    "df7.bfill()"
   ]
  },
  {
   "cell_type": "code",
   "execution_count": 87,
   "id": "35f8b350-c5bf-4878-93f2-c49f4abb59f0",
   "metadata": {},
   "outputs": [
    {
     "data": {
      "text/html": [
       "<div>\n",
       "<style scoped>\n",
       "    .dataframe tbody tr th:only-of-type {\n",
       "        vertical-align: middle;\n",
       "    }\n",
       "\n",
       "    .dataframe tbody tr th {\n",
       "        vertical-align: top;\n",
       "    }\n",
       "\n",
       "    .dataframe thead th {\n",
       "        text-align: right;\n",
       "    }\n",
       "</style>\n",
       "<table border=\"1\" class=\"dataframe\">\n",
       "  <thead>\n",
       "    <tr style=\"text-align: right;\">\n",
       "      <th></th>\n",
       "      <th>id</th>\n",
       "      <th>name</th>\n",
       "      <th>age</th>\n",
       "      <th>exp</th>\n",
       "    </tr>\n",
       "  </thead>\n",
       "  <tbody>\n",
       "    <tr>\n",
       "      <th>1</th>\n",
       "      <td>101</td>\n",
       "      <td>jitu</td>\n",
       "      <td>45</td>\n",
       "      <td>N/A</td>\n",
       "    </tr>\n",
       "    <tr>\n",
       "      <th>2</th>\n",
       "      <td>102</td>\n",
       "      <td>na</td>\n",
       "      <td>65</td>\n",
       "      <td>N/A</td>\n",
       "    </tr>\n",
       "    <tr>\n",
       "      <th>3</th>\n",
       "      <td>103</td>\n",
       "      <td>jitu</td>\n",
       "      <td>46</td>\n",
       "      <td>N/A</td>\n",
       "    </tr>\n",
       "    <tr>\n",
       "      <th>4</th>\n",
       "      <td>104</td>\n",
       "      <td>jitu</td>\n",
       "      <td>89</td>\n",
       "      <td>N/A</td>\n",
       "    </tr>\n",
       "  </tbody>\n",
       "</table>\n",
       "</div>"
      ],
      "text/plain": [
       "    id  name  age  exp\n",
       "1  101  jitu   45  N/A\n",
       "2  102    na   65  N/A\n",
       "3  103  jitu   46  N/A\n",
       "4  104  jitu   89  N/A"
      ]
     },
     "execution_count": 87,
     "metadata": {},
     "output_type": "execute_result"
    }
   ],
   "source": [
    "#### to replace all nan values\n",
    "df7.fillna({\n",
    "    'name': 'jitu'\n",
    "})"
   ]
  },
  {
   "cell_type": "markdown",
   "id": "fbb66411-4fde-4ccd-9f97-67c6cabbfded",
   "metadata": {},
   "source": [
    "# interpolate()"
   ]
  },
  {
   "cell_type": "code",
   "execution_count": 88,
   "id": "d3b2fc0a-9023-4cc9-b3cc-da4d9a3b7e30",
   "metadata": {},
   "outputs": [],
   "source": [
    "data = {\n",
    "    'id': [101, 201, 301, 401, 501, 601, 701, 801, 901, 1011],\n",
    "    'name': ['a', 'b', 'c', 'd', 'e', 'f', 'g', 'h', 'i', 'j'],\n",
    "    'age': [101, 201, 301, 401, np.nan, 601, 701, 801, 901, 1011],\n",
    "    'exp': ['a', 'b', 'c', 'd', 'e', 'f', 'g', 'h', 'i', 'j']\n",
    "}\n",
    "df8 = pd.DataFrame(data)"
   ]
  },
  {
   "cell_type": "code",
   "execution_count": 89,
   "id": "3198e37e-65cd-4b55-9f44-be94e7e9a26a",
   "metadata": {},
   "outputs": [
    {
     "name": "stdout",
     "output_type": "stream",
     "text": [
      "id        int64\n",
      "name     object\n",
      "age     float64\n",
      "exp      object\n",
      "dtype: object\n"
     ]
    }
   ],
   "source": [
    "print(df8.dtypes)"
   ]
  },
  {
   "cell_type": "code",
   "execution_count": 132,
   "id": "288a9f85-f288-47d0-80b3-ec62a82f128b",
   "metadata": {},
   "outputs": [
    {
     "name": "stderr",
     "output_type": "stream",
     "text": [
      "C:\\Users\\91700\\AppData\\Local\\Temp\\ipykernel_956\\1397301956.py:1: FutureWarning: DataFrame.interpolate with object dtype is deprecated and will raise in a future version. Call obj.infer_objects(copy=False) before interpolating instead.\n",
      "  df8.interpolate() # total data is not numerical\n"
     ]
    },
    {
     "data": {
      "text/html": [
       "<div>\n",
       "<style scoped>\n",
       "    .dataframe tbody tr th:only-of-type {\n",
       "        vertical-align: middle;\n",
       "    }\n",
       "\n",
       "    .dataframe tbody tr th {\n",
       "        vertical-align: top;\n",
       "    }\n",
       "\n",
       "    .dataframe thead th {\n",
       "        text-align: right;\n",
       "    }\n",
       "</style>\n",
       "<table border=\"1\" class=\"dataframe\">\n",
       "  <thead>\n",
       "    <tr style=\"text-align: right;\">\n",
       "      <th></th>\n",
       "      <th>id</th>\n",
       "      <th>name</th>\n",
       "      <th>age</th>\n",
       "      <th>exp</th>\n",
       "    </tr>\n",
       "  </thead>\n",
       "  <tbody>\n",
       "    <tr>\n",
       "      <th>0</th>\n",
       "      <td>101</td>\n",
       "      <td>a</td>\n",
       "      <td>101.0</td>\n",
       "      <td>a</td>\n",
       "    </tr>\n",
       "    <tr>\n",
       "      <th>1</th>\n",
       "      <td>201</td>\n",
       "      <td>b</td>\n",
       "      <td>201.0</td>\n",
       "      <td>b</td>\n",
       "    </tr>\n",
       "    <tr>\n",
       "      <th>2</th>\n",
       "      <td>301</td>\n",
       "      <td>c</td>\n",
       "      <td>301.0</td>\n",
       "      <td>c</td>\n",
       "    </tr>\n",
       "    <tr>\n",
       "      <th>3</th>\n",
       "      <td>401</td>\n",
       "      <td>d</td>\n",
       "      <td>401.0</td>\n",
       "      <td>d</td>\n",
       "    </tr>\n",
       "    <tr>\n",
       "      <th>4</th>\n",
       "      <td>501</td>\n",
       "      <td>e</td>\n",
       "      <td>501.0</td>\n",
       "      <td>e</td>\n",
       "    </tr>\n",
       "    <tr>\n",
       "      <th>5</th>\n",
       "      <td>601</td>\n",
       "      <td>f</td>\n",
       "      <td>601.0</td>\n",
       "      <td>f</td>\n",
       "    </tr>\n",
       "    <tr>\n",
       "      <th>6</th>\n",
       "      <td>701</td>\n",
       "      <td>g</td>\n",
       "      <td>701.0</td>\n",
       "      <td>g</td>\n",
       "    </tr>\n",
       "    <tr>\n",
       "      <th>7</th>\n",
       "      <td>801</td>\n",
       "      <td>h</td>\n",
       "      <td>801.0</td>\n",
       "      <td>h</td>\n",
       "    </tr>\n",
       "    <tr>\n",
       "      <th>8</th>\n",
       "      <td>901</td>\n",
       "      <td>i</td>\n",
       "      <td>901.0</td>\n",
       "      <td>i</td>\n",
       "    </tr>\n",
       "    <tr>\n",
       "      <th>9</th>\n",
       "      <td>1011</td>\n",
       "      <td>j</td>\n",
       "      <td>1011.0</td>\n",
       "      <td>j</td>\n",
       "    </tr>\n",
       "  </tbody>\n",
       "</table>\n",
       "</div>"
      ],
      "text/plain": [
       "     id name     age exp\n",
       "0   101    a   101.0   a\n",
       "1   201    b   201.0   b\n",
       "2   301    c   301.0   c\n",
       "3   401    d   401.0   d\n",
       "4   501    e   501.0   e\n",
       "5   601    f   601.0   f\n",
       "6   701    g   701.0   g\n",
       "7   801    h   801.0   h\n",
       "8   901    i   901.0   i\n",
       "9  1011    j  1011.0   j"
      ]
     },
     "execution_count": 132,
     "metadata": {},
     "output_type": "execute_result"
    }
   ],
   "source": [
    "df8.interpolate() # total data is not numerical"
   ]
  },
  {
   "cell_type": "code",
   "execution_count": 91,
   "id": "fd015729-2950-41a3-bc96-d3b83d84c13a",
   "metadata": {},
   "outputs": [
    {
     "name": "stdout",
     "output_type": "stream",
     "text": [
      "id        int64\n",
      "name     object\n",
      "age     float64\n",
      "exp      object\n",
      "dtype: object\n"
     ]
    }
   ],
   "source": [
    "print(df8.dtypes)"
   ]
  },
  {
   "cell_type": "code",
   "execution_count": 92,
   "id": "f6eff72a-75d0-4795-8f96-a3a03407dfc3",
   "metadata": {},
   "outputs": [
    {
     "data": {
      "text/html": [
       "<div>\n",
       "<style scoped>\n",
       "    .dataframe tbody tr th:only-of-type {\n",
       "        vertical-align: middle;\n",
       "    }\n",
       "\n",
       "    .dataframe tbody tr th {\n",
       "        vertical-align: top;\n",
       "    }\n",
       "\n",
       "    .dataframe thead th {\n",
       "        text-align: right;\n",
       "    }\n",
       "</style>\n",
       "<table border=\"1\" class=\"dataframe\">\n",
       "  <thead>\n",
       "    <tr style=\"text-align: right;\">\n",
       "      <th></th>\n",
       "      <th>id</th>\n",
       "      <th>name</th>\n",
       "      <th>age</th>\n",
       "      <th>exp</th>\n",
       "    </tr>\n",
       "  </thead>\n",
       "  <tbody>\n",
       "    <tr>\n",
       "      <th>0</th>\n",
       "      <td>101</td>\n",
       "      <td>a</td>\n",
       "      <td>101.0</td>\n",
       "      <td>a</td>\n",
       "    </tr>\n",
       "    <tr>\n",
       "      <th>1</th>\n",
       "      <td>201</td>\n",
       "      <td>b</td>\n",
       "      <td>201.0</td>\n",
       "      <td>b</td>\n",
       "    </tr>\n",
       "    <tr>\n",
       "      <th>2</th>\n",
       "      <td>301</td>\n",
       "      <td>c</td>\n",
       "      <td>301.0</td>\n",
       "      <td>c</td>\n",
       "    </tr>\n",
       "    <tr>\n",
       "      <th>3</th>\n",
       "      <td>401</td>\n",
       "      <td>d</td>\n",
       "      <td>401.0</td>\n",
       "      <td>d</td>\n",
       "    </tr>\n",
       "    <tr>\n",
       "      <th>4</th>\n",
       "      <td>501</td>\n",
       "      <td>e</td>\n",
       "      <td>NaN</td>\n",
       "      <td>e</td>\n",
       "    </tr>\n",
       "    <tr>\n",
       "      <th>5</th>\n",
       "      <td>601</td>\n",
       "      <td>f</td>\n",
       "      <td>601.0</td>\n",
       "      <td>f</td>\n",
       "    </tr>\n",
       "    <tr>\n",
       "      <th>6</th>\n",
       "      <td>701</td>\n",
       "      <td>g</td>\n",
       "      <td>701.0</td>\n",
       "      <td>g</td>\n",
       "    </tr>\n",
       "    <tr>\n",
       "      <th>7</th>\n",
       "      <td>801</td>\n",
       "      <td>h</td>\n",
       "      <td>801.0</td>\n",
       "      <td>h</td>\n",
       "    </tr>\n",
       "    <tr>\n",
       "      <th>8</th>\n",
       "      <td>901</td>\n",
       "      <td>i</td>\n",
       "      <td>901.0</td>\n",
       "      <td>i</td>\n",
       "    </tr>\n",
       "    <tr>\n",
       "      <th>9</th>\n",
       "      <td>1011</td>\n",
       "      <td>j</td>\n",
       "      <td>1011.0</td>\n",
       "      <td>j</td>\n",
       "    </tr>\n",
       "  </tbody>\n",
       "</table>\n",
       "</div>"
      ],
      "text/plain": [
       "     id name     age exp\n",
       "0   101    a   101.0   a\n",
       "1   201    b   201.0   b\n",
       "2   301    c   301.0   c\n",
       "3   401    d   401.0   d\n",
       "4   501    e     NaN   e\n",
       "5   601    f   601.0   f\n",
       "6   701    g   701.0   g\n",
       "7   801    h   801.0   h\n",
       "8   901    i   901.0   i\n",
       "9  1011    j  1011.0   j"
      ]
     },
     "execution_count": 92,
     "metadata": {},
     "output_type": "execute_result"
    }
   ],
   "source": [
    "df8"
   ]
  },
  {
   "cell_type": "code",
   "execution_count": 93,
   "id": "55024bb2-49f1-43da-89e1-81dd98f9d22f",
   "metadata": {},
   "outputs": [
    {
     "data": {
      "text/plain": [
       "0     101.0\n",
       "1     201.0\n",
       "2     301.0\n",
       "3     401.0\n",
       "4       0.0\n",
       "5     601.0\n",
       "6     701.0\n",
       "7     801.0\n",
       "8     901.0\n",
       "9    1011.0\n",
       "Name: age, dtype: float64"
      ]
     },
     "execution_count": 93,
     "metadata": {},
     "output_type": "execute_result"
    }
   ],
   "source": [
    "df8['age'].fillna(0)"
   ]
  },
  {
   "cell_type": "code",
   "execution_count": 134,
   "id": "5ee4530e-8233-4c00-a04a-c1a3b7b8aae4",
   "metadata": {},
   "outputs": [
    {
     "data": {
      "text/plain": [
       "0     101.0\n",
       "1     201.0\n",
       "2     301.0\n",
       "3     401.0\n",
       "4     501.0\n",
       "5     601.0\n",
       "6     701.0\n",
       "7     801.0\n",
       "8     901.0\n",
       "9    1011.0\n",
       "Name: age, dtype: float64"
      ]
     },
     "execution_count": 134,
     "metadata": {},
     "output_type": "execute_result"
    }
   ],
   "source": [
    "df8['age'].interpolate()"
   ]
  },
  {
   "cell_type": "code",
   "execution_count": 94,
   "id": "678cdb49-8051-4e7b-ba85-428f87ee30a8",
   "metadata": {},
   "outputs": [
    {
     "data": {
      "text/plain": [
       "0     101.0\n",
       "1     201.0\n",
       "2     301.0\n",
       "3     401.0\n",
       "4     501.0\n",
       "5     601.0\n",
       "6     701.0\n",
       "7     801.0\n",
       "8     901.0\n",
       "9    1011.0\n",
       "Name: age, dtype: float64"
      ]
     },
     "execution_count": 94,
     "metadata": {},
     "output_type": "execute_result"
    }
   ],
   "source": [
    "df8.loc[:,'age'].interpolate()"
   ]
  },
  {
   "cell_type": "markdown",
   "id": "47152c8c-66fd-457c-9319-4ddfe03ae7ce",
   "metadata": {},
   "source": [
    "# - using mean() to fill"
   ]
  },
  {
   "cell_type": "code",
   "execution_count": 95,
   "id": "395d32ac-6ce2-4ba1-bdbe-e33809c6df70",
   "metadata": {},
   "outputs": [
    {
     "data": {
      "text/plain": [
       "0     101.0\n",
       "1     201.0\n",
       "2     301.0\n",
       "3     401.0\n",
       "4     557.0\n",
       "5     601.0\n",
       "6     701.0\n",
       "7     801.0\n",
       "8     901.0\n",
       "9    1011.0\n",
       "Name: age, dtype: float64"
      ]
     },
     "execution_count": 95,
     "metadata": {},
     "output_type": "execute_result"
    }
   ],
   "source": [
    "import math\n",
    "df8['age'].fillna(math.floor(df8['age'].mean()))"
   ]
  },
  {
   "cell_type": "markdown",
   "id": "a8cf0cdc-e800-430e-bf1b-4c1663a27605",
   "metadata": {},
   "source": [
    "# - Data Transformation:\n",
    "### - Applying functions: apply(), map().\n",
    "### - Replacing values: replace().\n",
    "### - Removing duplicates: drop_duplicates()."
   ]
  },
  {
   "cell_type": "code",
   "execution_count": null,
   "id": "579795fe-475c-4f83-8996-b0a4d8203715",
   "metadata": {},
   "outputs": [],
   "source": []
  },
  {
   "cell_type": "code",
   "execution_count": null,
   "id": "45c14d90-8fae-40ea-901b-326c04abced5",
   "metadata": {},
   "outputs": [],
   "source": []
  },
  {
   "cell_type": "code",
   "execution_count": null,
   "id": "058c1a73-4370-4288-af1a-478080a41a48",
   "metadata": {},
   "outputs": [],
   "source": []
  },
  {
   "cell_type": "code",
   "execution_count": null,
   "id": "fcbb99f6-e867-4341-9b18-5c84d99d9d1d",
   "metadata": {},
   "outputs": [],
   "source": []
  },
  {
   "cell_type": "code",
   "execution_count": null,
   "id": "7e4569c9-237c-45f5-b9a2-fcd504b6510a",
   "metadata": {},
   "outputs": [],
   "source": []
  },
  {
   "cell_type": "code",
   "execution_count": null,
   "id": "a3d23158-2c81-4653-a280-f121a93fdfa8",
   "metadata": {},
   "outputs": [],
   "source": []
  },
  {
   "cell_type": "markdown",
   "id": "6a348353-61b9-422c-b472-c3c06ce204a8",
   "metadata": {},
   "source": [
    "# - *Data Manipulation*:\n",
    "###  - Renaming- Renaming columns:\n",
    "###  - Sorting- Sorting by index:\n",
    "###  - Sorting by values:"
   ]
  },
  {
   "cell_type": "code",
   "execution_count": null,
   "id": "e7d29e70-72d3-4158-a099-3d7d7c9c593f",
   "metadata": {},
   "outputs": [],
   "source": []
  },
  {
   "cell_type": "code",
   "execution_count": null,
   "id": "c80dae87-2961-481d-8e96-2203f6efecc7",
   "metadata": {},
   "outputs": [],
   "source": []
  },
  {
   "cell_type": "code",
   "execution_count": 96,
   "id": "4474af2b-997a-4c44-8e5f-1de7af8eacfa",
   "metadata": {},
   "outputs": [],
   "source": [
    "# 5. Data Manipulation\n",
    "## - *Data Merging and Concatenation*:\n",
    "####  - Merging DataFrames: merge().\n",
    "####  - Concatenating DataFrames: concat().\n",
    "####  - Joining DataFrames: join().\n",
    "\n",
    "\n",
    "\n",
    "## - *Grouping Data*:\n",
    "####  - Grouping data: groupby().\n",
    "####  - Aggregating data: agg(), aggregate().\n",
    "####  - Aggregation functions: grouped.mean(), grouped.sum(), grouped.size()\n",
    "\n",
    "# crosstab()\n",
    "\n",
    "\n",
    "## - *Reshaping Data*:\n",
    "####  - Pivot tables: pivot_table().\n",
    "####  - Melting data: melt().\n"
   ]
  },
  {
   "cell_type": "markdown",
   "id": "d7e4a8b7-55d2-40ef-9114-58b93247fb9b",
   "metadata": {},
   "source": [
    "# - *Grouping Data*:\n",
    "####  - Grouping data: groupby().\n",
    "####  - Aggregating data: agg(), aggregate().\n",
    "####  - Aggregation functions: grouped.mean(), grouped.sum(), grouped.size()"
   ]
  },
  {
   "cell_type": "code",
   "execution_count": 97,
   "id": "f243039c-5c33-42ef-83bf-35e329803065",
   "metadata": {},
   "outputs": [],
   "source": [
    "df = pd.read_csv('data\\developer-survey-2023\\survey_results_public.csv')"
   ]
  },
  {
   "cell_type": "code",
   "execution_count": 98,
   "id": "bedaf186-21b1-4390-8573-bc4c0505ab58",
   "metadata": {},
   "outputs": [
    {
     "data": {
      "text/html": [
       "<div>\n",
       "<style scoped>\n",
       "    .dataframe tbody tr th:only-of-type {\n",
       "        vertical-align: middle;\n",
       "    }\n",
       "\n",
       "    .dataframe tbody tr th {\n",
       "        vertical-align: top;\n",
       "    }\n",
       "\n",
       "    .dataframe thead th {\n",
       "        text-align: right;\n",
       "    }\n",
       "</style>\n",
       "<table border=\"1\" class=\"dataframe\">\n",
       "  <thead>\n",
       "    <tr style=\"text-align: right;\">\n",
       "      <th></th>\n",
       "      <th>ResponseId</th>\n",
       "      <th>Q120</th>\n",
       "      <th>MainBranch</th>\n",
       "      <th>Age</th>\n",
       "      <th>Employment</th>\n",
       "      <th>RemoteWork</th>\n",
       "      <th>CodingActivities</th>\n",
       "      <th>EdLevel</th>\n",
       "      <th>LearnCode</th>\n",
       "      <th>LearnCodeOnline</th>\n",
       "      <th>...</th>\n",
       "      <th>Frequency_1</th>\n",
       "      <th>Frequency_2</th>\n",
       "      <th>Frequency_3</th>\n",
       "      <th>TimeSearching</th>\n",
       "      <th>TimeAnswering</th>\n",
       "      <th>ProfessionalTech</th>\n",
       "      <th>Industry</th>\n",
       "      <th>SurveyLength</th>\n",
       "      <th>SurveyEase</th>\n",
       "      <th>ConvertedCompYearly</th>\n",
       "    </tr>\n",
       "  </thead>\n",
       "  <tbody>\n",
       "    <tr>\n",
       "      <th>0</th>\n",
       "      <td>1</td>\n",
       "      <td>I agree</td>\n",
       "      <td>None of these</td>\n",
       "      <td>18-24 years old</td>\n",
       "      <td>NaN</td>\n",
       "      <td>NaN</td>\n",
       "      <td>NaN</td>\n",
       "      <td>NaN</td>\n",
       "      <td>NaN</td>\n",
       "      <td>NaN</td>\n",
       "      <td>...</td>\n",
       "      <td>NaN</td>\n",
       "      <td>NaN</td>\n",
       "      <td>NaN</td>\n",
       "      <td>NaN</td>\n",
       "      <td>NaN</td>\n",
       "      <td>NaN</td>\n",
       "      <td>NaN</td>\n",
       "      <td>NaN</td>\n",
       "      <td>NaN</td>\n",
       "      <td>NaN</td>\n",
       "    </tr>\n",
       "    <tr>\n",
       "      <th>1</th>\n",
       "      <td>2</td>\n",
       "      <td>I agree</td>\n",
       "      <td>I am a developer by profession</td>\n",
       "      <td>25-34 years old</td>\n",
       "      <td>Employed, full-time</td>\n",
       "      <td>Remote</td>\n",
       "      <td>Hobby;Contribute to open-source projects;Boots...</td>\n",
       "      <td>Bachelor’s degree (B.A., B.S., B.Eng., etc.)</td>\n",
       "      <td>Books / Physical media;Colleague;Friend or fam...</td>\n",
       "      <td>Formal documentation provided by the owner of ...</td>\n",
       "      <td>...</td>\n",
       "      <td>1-2 times a week</td>\n",
       "      <td>10+ times a week</td>\n",
       "      <td>Never</td>\n",
       "      <td>15-30 minutes a day</td>\n",
       "      <td>15-30 minutes a day</td>\n",
       "      <td>DevOps function;Microservices;Automated testin...</td>\n",
       "      <td>Information Services, IT, Software Development...</td>\n",
       "      <td>Appropriate in length</td>\n",
       "      <td>Easy</td>\n",
       "      <td>285000.0</td>\n",
       "    </tr>\n",
       "  </tbody>\n",
       "</table>\n",
       "<p>2 rows × 84 columns</p>\n",
       "</div>"
      ],
      "text/plain": [
       "   ResponseId     Q120                      MainBranch              Age  \\\n",
       "0           1  I agree                   None of these  18-24 years old   \n",
       "1           2  I agree  I am a developer by profession  25-34 years old   \n",
       "\n",
       "            Employment RemoteWork  \\\n",
       "0                  NaN        NaN   \n",
       "1  Employed, full-time     Remote   \n",
       "\n",
       "                                    CodingActivities  \\\n",
       "0                                                NaN   \n",
       "1  Hobby;Contribute to open-source projects;Boots...   \n",
       "\n",
       "                                        EdLevel  \\\n",
       "0                                           NaN   \n",
       "1  Bachelor’s degree (B.A., B.S., B.Eng., etc.)   \n",
       "\n",
       "                                           LearnCode  \\\n",
       "0                                                NaN   \n",
       "1  Books / Physical media;Colleague;Friend or fam...   \n",
       "\n",
       "                                     LearnCodeOnline  ...       Frequency_1  \\\n",
       "0                                                NaN  ...               NaN   \n",
       "1  Formal documentation provided by the owner of ...  ...  1-2 times a week   \n",
       "\n",
       "        Frequency_2 Frequency_3        TimeSearching        TimeAnswering  \\\n",
       "0               NaN         NaN                  NaN                  NaN   \n",
       "1  10+ times a week       Never  15-30 minutes a day  15-30 minutes a day   \n",
       "\n",
       "                                    ProfessionalTech  \\\n",
       "0                                                NaN   \n",
       "1  DevOps function;Microservices;Automated testin...   \n",
       "\n",
       "                                            Industry           SurveyLength  \\\n",
       "0                                                NaN                    NaN   \n",
       "1  Information Services, IT, Software Development...  Appropriate in length   \n",
       "\n",
       "  SurveyEase ConvertedCompYearly  \n",
       "0        NaN                 NaN  \n",
       "1       Easy            285000.0  \n",
       "\n",
       "[2 rows x 84 columns]"
      ]
     },
     "execution_count": 98,
     "metadata": {},
     "output_type": "execute_result"
    }
   ],
   "source": [
    "df.head(2)"
   ]
  },
  {
   "cell_type": "code",
   "execution_count": 99,
   "id": "1767d145-fc35-4d74-b7e2-b9425cbeae69",
   "metadata": {},
   "outputs": [
    {
     "data": {
      "text/plain": [
       "0          NaN\n",
       "1     285000.0\n",
       "2     250000.0\n",
       "3     156000.0\n",
       "4      23456.0\n",
       "5      96828.0\n",
       "6     135000.0\n",
       "7      80000.0\n",
       "8      64254.0\n",
       "9          NaN\n",
       "10         NaN\n",
       "11     78003.0\n",
       "12     75000.0\n",
       "13    150000.0\n",
       "14    187407.0\n",
       "Name: ConvertedCompYearly, dtype: float64"
      ]
     },
     "execution_count": 99,
     "metadata": {},
     "output_type": "execute_result"
    }
   ],
   "source": [
    "df['ConvertedCompYearly'].head(15)"
   ]
  },
  {
   "cell_type": "code",
   "execution_count": 100,
   "id": "1b932f27-ae56-4f40-a717-5ac5e7301d6b",
   "metadata": {},
   "outputs": [
    {
     "data": {
      "text/plain": [
       "np.float64(74963.0)"
      ]
     },
     "execution_count": 100,
     "metadata": {},
     "output_type": "execute_result"
    }
   ],
   "source": [
    "df['ConvertedCompYearly'].median()"
   ]
  },
  {
   "cell_type": "code",
   "execution_count": 101,
   "id": "427ed33b-e23e-426b-b5aa-fe66360e43fd",
   "metadata": {},
   "outputs": [
    {
     "data": {
      "text/plain": [
       "ResponseId              44592.5\n",
       "CompTotal              115000.0\n",
       "WorkExp                     9.0\n",
       "ConvertedCompYearly     74963.0\n",
       "dtype: float64"
      ]
     },
     "execution_count": 101,
     "metadata": {},
     "output_type": "execute_result"
    }
   ],
   "source": [
    "df.median(numeric_only=True)"
   ]
  },
  {
   "cell_type": "code",
   "execution_count": 102,
   "id": "be14f4e1-b4df-4960-9e49-5cb643dece4e",
   "metadata": {},
   "outputs": [
    {
     "data": {
      "text/plain": [
       "ResponseId               int64\n",
       "Q120                    object\n",
       "MainBranch              object\n",
       "Age                     object\n",
       "Employment              object\n",
       "                        ...   \n",
       "ProfessionalTech        object\n",
       "Industry                object\n",
       "SurveyLength            object\n",
       "SurveyEase              object\n",
       "ConvertedCompYearly    float64\n",
       "Length: 84, dtype: object"
      ]
     },
     "execution_count": 102,
     "metadata": {},
     "output_type": "execute_result"
    }
   ],
   "source": [
    "df.dtypes"
   ]
  },
  {
   "cell_type": "code",
   "execution_count": 103,
   "id": "6286faa9-0d03-4185-b61f-31ad495e2a3f",
   "metadata": {},
   "outputs": [],
   "source": [
    "col = df.dtypes != 'object'"
   ]
  },
  {
   "cell_type": "code",
   "execution_count": 104,
   "id": "a8bf79bc-863e-4ff8-b2b6-d64b7ebcbf0a",
   "metadata": {},
   "outputs": [
    {
     "data": {
      "text/plain": [
       "Series([], Name: count, dtype: int64)"
      ]
     },
     "execution_count": 104,
     "metadata": {},
     "output_type": "execute_result"
    }
   ],
   "source": [
    "df.value_counts()"
   ]
  },
  {
   "cell_type": "code",
   "execution_count": 105,
   "id": "f2e37dc3-6d3f-4575-8727-da073a57773f",
   "metadata": {},
   "outputs": [
    {
     "data": {
      "text/plain": [
       "np.int64(4)"
      ]
     },
     "execution_count": 105,
     "metadata": {},
     "output_type": "execute_result"
    }
   ],
   "source": [
    "col.sum()"
   ]
  },
  {
   "cell_type": "code",
   "execution_count": 106,
   "id": "5642dd2d-e2a9-4c97-bc15-39bb6dda05b5",
   "metadata": {},
   "outputs": [
    {
     "data": {
      "text/html": [
       "<div>\n",
       "<style scoped>\n",
       "    .dataframe tbody tr th:only-of-type {\n",
       "        vertical-align: middle;\n",
       "    }\n",
       "\n",
       "    .dataframe tbody tr th {\n",
       "        vertical-align: top;\n",
       "    }\n",
       "\n",
       "    .dataframe thead th {\n",
       "        text-align: right;\n",
       "    }\n",
       "</style>\n",
       "<table border=\"1\" class=\"dataframe\">\n",
       "  <thead>\n",
       "    <tr style=\"text-align: right;\">\n",
       "      <th></th>\n",
       "      <th>ResponseId</th>\n",
       "      <th>CompTotal</th>\n",
       "      <th>WorkExp</th>\n",
       "      <th>ConvertedCompYearly</th>\n",
       "    </tr>\n",
       "  </thead>\n",
       "  <tbody>\n",
       "    <tr>\n",
       "      <th>count</th>\n",
       "      <td>89184.000000</td>\n",
       "      <td>4.822500e+04</td>\n",
       "      <td>43579.000000</td>\n",
       "      <td>4.801900e+04</td>\n",
       "    </tr>\n",
       "    <tr>\n",
       "      <th>mean</th>\n",
       "      <td>44592.500000</td>\n",
       "      <td>1.036807e+42</td>\n",
       "      <td>11.405126</td>\n",
       "      <td>1.031101e+05</td>\n",
       "    </tr>\n",
       "    <tr>\n",
       "      <th>std</th>\n",
       "      <td>25745.347541</td>\n",
       "      <td>2.276847e+44</td>\n",
       "      <td>9.051989</td>\n",
       "      <td>6.814188e+05</td>\n",
       "    </tr>\n",
       "    <tr>\n",
       "      <th>min</th>\n",
       "      <td>1.000000</td>\n",
       "      <td>0.000000e+00</td>\n",
       "      <td>0.000000</td>\n",
       "      <td>1.000000e+00</td>\n",
       "    </tr>\n",
       "    <tr>\n",
       "      <th>25%</th>\n",
       "      <td>22296.750000</td>\n",
       "      <td>6.300000e+04</td>\n",
       "      <td>5.000000</td>\n",
       "      <td>4.390700e+04</td>\n",
       "    </tr>\n",
       "    <tr>\n",
       "      <th>50%</th>\n",
       "      <td>44592.500000</td>\n",
       "      <td>1.150000e+05</td>\n",
       "      <td>9.000000</td>\n",
       "      <td>7.496300e+04</td>\n",
       "    </tr>\n",
       "    <tr>\n",
       "      <th>75%</th>\n",
       "      <td>66888.250000</td>\n",
       "      <td>2.300000e+05</td>\n",
       "      <td>16.000000</td>\n",
       "      <td>1.216410e+05</td>\n",
       "    </tr>\n",
       "    <tr>\n",
       "      <th>max</th>\n",
       "      <td>89184.000000</td>\n",
       "      <td>5.000000e+46</td>\n",
       "      <td>50.000000</td>\n",
       "      <td>7.435143e+07</td>\n",
       "    </tr>\n",
       "  </tbody>\n",
       "</table>\n",
       "</div>"
      ],
      "text/plain": [
       "         ResponseId     CompTotal       WorkExp  ConvertedCompYearly\n",
       "count  89184.000000  4.822500e+04  43579.000000         4.801900e+04\n",
       "mean   44592.500000  1.036807e+42     11.405126         1.031101e+05\n",
       "std    25745.347541  2.276847e+44      9.051989         6.814188e+05\n",
       "min        1.000000  0.000000e+00      0.000000         1.000000e+00\n",
       "25%    22296.750000  6.300000e+04      5.000000         4.390700e+04\n",
       "50%    44592.500000  1.150000e+05      9.000000         7.496300e+04\n",
       "75%    66888.250000  2.300000e+05     16.000000         1.216410e+05\n",
       "max    89184.000000  5.000000e+46     50.000000         7.435143e+07"
      ]
     },
     "execution_count": 106,
     "metadata": {},
     "output_type": "execute_result"
    }
   ],
   "source": [
    "df.describe()"
   ]
  },
  {
   "cell_type": "code",
   "execution_count": 107,
   "id": "c72603fe-d34f-43a3-8815-3df64efd5f2c",
   "metadata": {
    "scrolled": true
   },
   "outputs": [
    {
     "name": "stdout",
     "output_type": "stream",
     "text": [
      "<class 'pandas.core.frame.DataFrame'>\n",
      "RangeIndex: 89184 entries, 0 to 89183\n",
      "Data columns (total 84 columns):\n",
      " #   Column                               Non-Null Count  Dtype  \n",
      "---  ------                               --------------  -----  \n",
      " 0   ResponseId                           89184 non-null  int64  \n",
      " 1   Q120                                 89184 non-null  object \n",
      " 2   MainBranch                           89184 non-null  object \n",
      " 3   Age                                  89184 non-null  object \n",
      " 4   Employment                           87898 non-null  object \n",
      " 5   RemoteWork                           73810 non-null  object \n",
      " 6   CodingActivities                     73764 non-null  object \n",
      " 7   EdLevel                              87973 non-null  object \n",
      " 8   LearnCode                            87663 non-null  object \n",
      " 9   LearnCodeOnline                      70084 non-null  object \n",
      " 10  LearnCodeCoursesCert                 37076 non-null  object \n",
      " 11  YearsCode                            87435 non-null  object \n",
      " 12  YearsCodePro                         66136 non-null  object \n",
      " 13  DevType                              76872 non-null  object \n",
      " 14  OrgSize                              65043 non-null  object \n",
      " 15  PurchaseInfluence                    64964 non-null  object \n",
      " 16  TechList                             60851 non-null  object \n",
      " 17  BuyNewTool                           83009 non-null  object \n",
      " 18  Country                              87973 non-null  object \n",
      " 19  Currency                             65334 non-null  object \n",
      " 20  CompTotal                            48225 non-null  float64\n",
      " 21  LanguageHaveWorkedWith               87140 non-null  object \n",
      " 22  LanguageWantToWorkWith               80709 non-null  object \n",
      " 23  DatabaseHaveWorkedWith               73435 non-null  object \n",
      " 24  DatabaseWantToWorkWith               60911 non-null  object \n",
      " 25  PlatformHaveWorkedWith               63628 non-null  object \n",
      " 26  PlatformWantToWorkWith               51308 non-null  object \n",
      " 27  WebframeHaveWorkedWith               66938 non-null  object \n",
      " 28  WebframeWantToWorkWith               56741 non-null  object \n",
      " 29  MiscTechHaveWorkedWith               57019 non-null  object \n",
      " 30  MiscTechWantToWorkWith               46848 non-null  object \n",
      " 31  ToolsTechHaveWorkedWith              77884 non-null  object \n",
      " 32  ToolsTechWantToWorkWith              68315 non-null  object \n",
      " 33  NEWCollabToolsHaveWorkedWith         85864 non-null  object \n",
      " 34  NEWCollabToolsWantToWorkWith         76649 non-null  object \n",
      " 35  OpSysPersonal use                    86557 non-null  object \n",
      " 36  OpSysProfessional use                78587 non-null  object \n",
      " 37  OfficeStackAsyncHaveWorkedWith       69090 non-null  object \n",
      " 38  OfficeStackAsyncWantToWorkWith       53743 non-null  object \n",
      " 39  OfficeStackSyncHaveWorkedWith        83439 non-null  object \n",
      " 40  OfficeStackSyncWantToWorkWith        69776 non-null  object \n",
      " 41  AISearchHaveWorkedWith               56328 non-null  object \n",
      " 42  AISearchWantToWorkWith               46150 non-null  object \n",
      " 43  AIDevHaveWorkedWith                  25904 non-null  object \n",
      " 44  AIDevWantToWorkWith                  19587 non-null  object \n",
      " 45  NEWSOSites                           87973 non-null  object \n",
      " 46  SOVisitFreq                          87140 non-null  object \n",
      " 47  SOAccount                            87852 non-null  object \n",
      " 48  SOPartFreq                           66061 non-null  object \n",
      " 49  SOComm                               87692 non-null  object \n",
      " 50  SOAI                                 47858 non-null  object \n",
      " 51  AISelect                             87973 non-null  object \n",
      " 52  AISent                               61501 non-null  object \n",
      " 53  AIAcc                                38594 non-null  object \n",
      " 54  AIBen                                61396 non-null  object \n",
      " 55  AIToolInterested in Using            32783 non-null  object \n",
      " 56  AIToolCurrently Using                36137 non-null  object \n",
      " 57  AIToolNot interested in Using        21069 non-null  object \n",
      " 58  AINextVery different                 12661 non-null  object \n",
      " 59  AINextNeither different nor similar  6599 non-null   object \n",
      " 60  AINextSomewhat similar               6238 non-null   object \n",
      " 61  AINextVery similar                   2621 non-null   object \n",
      " 62  AINextSomewhat different             23303 non-null  object \n",
      " 63  TBranch                              65768 non-null  object \n",
      " 64  ICorPM                               43668 non-null  object \n",
      " 65  WorkExp                              43579 non-null  float64\n",
      " 66  Knowledge_1                          42535 non-null  object \n",
      " 67  Knowledge_2                          41670 non-null  object \n",
      " 68  Knowledge_3                          41798 non-null  object \n",
      " 69  Knowledge_4                          41684 non-null  object \n",
      " 70  Knowledge_5                          41527 non-null  object \n",
      " 71  Knowledge_6                          41520 non-null  object \n",
      " 72  Knowledge_7                          41467 non-null  object \n",
      " 73  Knowledge_8                          41404 non-null  object \n",
      " 74  Frequency_1                          41916 non-null  object \n",
      " 75  Frequency_2                          41925 non-null  object \n",
      " 76  Frequency_3                          41054 non-null  object \n",
      " 77  TimeSearching                        42778 non-null  object \n",
      " 78  TimeAnswering                        42629 non-null  object \n",
      " 79  ProfessionalTech                     41783 non-null  object \n",
      " 80  Industry                             36774 non-null  object \n",
      " 81  SurveyLength                         86485 non-null  object \n",
      " 82  SurveyEase                           86554 non-null  object \n",
      " 83  ConvertedCompYearly                  48019 non-null  float64\n",
      "dtypes: float64(3), int64(1), object(80)\n",
      "memory usage: 57.2+ MB\n"
     ]
    }
   ],
   "source": [
    "df.info()"
   ]
  },
  {
   "cell_type": "markdown",
   "id": "e89ec7d4-8dbd-41a1-8b5d-bc1f8327b448",
   "metadata": {},
   "source": [
    "# .count() is how much people answer"
   ]
  },
  {
   "cell_type": "code",
   "execution_count": 108,
   "id": "c33dbe81-47ed-409d-8503-6d4f15a0273b",
   "metadata": {},
   "outputs": [
    {
     "data": {
      "text/plain": [
       "ResponseId             89184\n",
       "Q120                   89184\n",
       "MainBranch             89184\n",
       "Age                    89184\n",
       "Employment             87898\n",
       "                       ...  \n",
       "ProfessionalTech       41783\n",
       "Industry               36774\n",
       "SurveyLength           86485\n",
       "SurveyEase             86554\n",
       "ConvertedCompYearly    48019\n",
       "Length: 84, dtype: int64"
      ]
     },
     "execution_count": 108,
     "metadata": {},
     "output_type": "execute_result"
    }
   ],
   "source": [
    "df.count()"
   ]
  },
  {
   "cell_type": "code",
   "execution_count": 109,
   "id": "1caca612-1d01-4ad8-b911-e4b5f00917af",
   "metadata": {},
   "outputs": [
    {
     "data": {
      "text/plain": [
       "Index(['ResponseId', 'Q120', 'MainBranch', 'Age', 'Employment', 'RemoteWork',\n",
       "       'CodingActivities', 'EdLevel', 'LearnCode', 'LearnCodeOnline',\n",
       "       'LearnCodeCoursesCert', 'YearsCode', 'YearsCodePro', 'DevType',\n",
       "       'OrgSize', 'PurchaseInfluence', 'TechList', 'BuyNewTool', 'Country',\n",
       "       'Currency', 'CompTotal', 'LanguageHaveWorkedWith',\n",
       "       'LanguageWantToWorkWith', 'DatabaseHaveWorkedWith',\n",
       "       'DatabaseWantToWorkWith', 'PlatformHaveWorkedWith',\n",
       "       'PlatformWantToWorkWith', 'WebframeHaveWorkedWith',\n",
       "       'WebframeWantToWorkWith', 'MiscTechHaveWorkedWith',\n",
       "       'MiscTechWantToWorkWith', 'ToolsTechHaveWorkedWith',\n",
       "       'ToolsTechWantToWorkWith', 'NEWCollabToolsHaveWorkedWith',\n",
       "       'NEWCollabToolsWantToWorkWith', 'OpSysPersonal use',\n",
       "       'OpSysProfessional use', 'OfficeStackAsyncHaveWorkedWith',\n",
       "       'OfficeStackAsyncWantToWorkWith', 'OfficeStackSyncHaveWorkedWith',\n",
       "       'OfficeStackSyncWantToWorkWith', 'AISearchHaveWorkedWith',\n",
       "       'AISearchWantToWorkWith', 'AIDevHaveWorkedWith', 'AIDevWantToWorkWith',\n",
       "       'NEWSOSites', 'SOVisitFreq', 'SOAccount', 'SOPartFreq', 'SOComm',\n",
       "       'SOAI', 'AISelect', 'AISent', 'AIAcc', 'AIBen',\n",
       "       'AIToolInterested in Using', 'AIToolCurrently Using',\n",
       "       'AIToolNot interested in Using', 'AINextVery different',\n",
       "       'AINextNeither different nor similar', 'AINextSomewhat similar',\n",
       "       'AINextVery similar', 'AINextSomewhat different', 'TBranch', 'ICorPM',\n",
       "       'WorkExp', 'Knowledge_1', 'Knowledge_2', 'Knowledge_3', 'Knowledge_4',\n",
       "       'Knowledge_5', 'Knowledge_6', 'Knowledge_7', 'Knowledge_8',\n",
       "       'Frequency_1', 'Frequency_2', 'Frequency_3', 'TimeSearching',\n",
       "       'TimeAnswering', 'ProfessionalTech', 'Industry', 'SurveyLength',\n",
       "       'SurveyEase', 'ConvertedCompYearly'],\n",
       "      dtype='object')"
      ]
     },
     "execution_count": 109,
     "metadata": {},
     "output_type": "execute_result"
    }
   ],
   "source": [
    "df.columns"
   ]
  },
  {
   "cell_type": "markdown",
   "id": "1b6a536f-c5bf-4723-98ef-aa6901d484f2",
   "metadata": {},
   "source": [
    "# what answer how many times come .value_counts()"
   ]
  },
  {
   "cell_type": "code",
   "execution_count": 110,
   "id": "9b6bcb6d-ad13-467c-a050-e61934dc0d25",
   "metadata": {},
   "outputs": [
    {
     "data": {
      "text/plain": [
       "Country\n",
       "United States of America                                18647\n",
       "Germany                                                  7328\n",
       "India                                                    5625\n",
       "United Kingdom of Great Britain and Northern Ireland     5552\n",
       "Canada                                                   3507\n",
       "                                                        ...  \n",
       "Saint Kitts and Nevis                                       1\n",
       "Samoa                                                       1\n",
       "Marshall Islands                                            1\n",
       "Central African Republic                                    1\n",
       "San Marino                                                  1\n",
       "Name: count, Length: 185, dtype: int64"
      ]
     },
     "execution_count": 110,
     "metadata": {},
     "output_type": "execute_result"
    }
   ],
   "source": [
    "df['Country'].value_counts()"
   ]
  },
  {
   "cell_type": "markdown",
   "id": "0f809117-1e02-453d-bd1b-883c38932e97",
   "metadata": {},
   "source": [
    "# normalize=True means value in percentage"
   ]
  },
  {
   "cell_type": "code",
   "execution_count": 111,
   "id": "9cac1ddd-65a1-4e4f-847a-742cdd1681f2",
   "metadata": {},
   "outputs": [
    {
     "data": {
      "text/plain": [
       "Country\n",
       "United States of America                                0.211963\n",
       "Germany                                                 0.083298\n",
       "India                                                   0.063940\n",
       "United Kingdom of Great Britain and Northern Ireland    0.063110\n",
       "Canada                                                  0.039865\n",
       "                                                          ...   \n",
       "Saint Kitts and Nevis                                   0.000011\n",
       "Samoa                                                   0.000011\n",
       "Marshall Islands                                        0.000011\n",
       "Central African Republic                                0.000011\n",
       "San Marino                                              0.000011\n",
       "Name: proportion, Length: 185, dtype: float64"
      ]
     },
     "execution_count": 111,
     "metadata": {},
     "output_type": "execute_result"
    }
   ],
   "source": [
    "df['Country'].value_counts(normalize=True)"
   ]
  },
  {
   "cell_type": "code",
   "execution_count": 112,
   "id": "8cde44f0-3255-436f-bfb6-8e8843fc101c",
   "metadata": {},
   "outputs": [
    {
     "data": {
      "text/plain": [
       "Industry\n",
       "Information Services, IT, Software Development, or other Technology    18159\n",
       "Financial Services                                                      4421\n",
       "Other                                                                   4011\n",
       "Manufacturing, Transportation, or Supply Chain                          2607\n",
       "Healthcare                                                              2216\n",
       "Retail and Consumer Services                                            1955\n",
       "Higher Education                                                        1242\n",
       "Advertising Services                                                     786\n",
       "Insurance                                                                707\n",
       "Oil & Gas                                                                276\n",
       "Legal Services                                                           210\n",
       "Wholesale                                                                184\n",
       "Name: count, dtype: int64"
      ]
     },
     "execution_count": 112,
     "metadata": {},
     "output_type": "execute_result"
    }
   ],
   "source": [
    "df['Industry'].value_counts()"
   ]
  },
  {
   "cell_type": "markdown",
   "id": "c3cb6444-b981-4dfd-a385-9f6e9a82176b",
   "metadata": {},
   "source": [
    "#  - Grouping data: groupby()."
   ]
  },
  {
   "cell_type": "code",
   "execution_count": 113,
   "id": "ee9fa03c-2e50-4333-807a-4cf6d1f9017e",
   "metadata": {},
   "outputs": [],
   "source": [
    "country_grp = df.groupby(['Country'])"
   ]
  },
  {
   "cell_type": "code",
   "execution_count": 114,
   "id": "4a6d9e5e-53c1-4ed0-a2cf-0034e8315eb4",
   "metadata": {
    "scrolled": true
   },
   "outputs": [
    {
     "data": {
      "text/html": [
       "<div>\n",
       "<style scoped>\n",
       "    .dataframe tbody tr th:only-of-type {\n",
       "        vertical-align: middle;\n",
       "    }\n",
       "\n",
       "    .dataframe tbody tr th {\n",
       "        vertical-align: top;\n",
       "    }\n",
       "\n",
       "    .dataframe thead th {\n",
       "        text-align: right;\n",
       "    }\n",
       "</style>\n",
       "<table border=\"1\" class=\"dataframe\">\n",
       "  <thead>\n",
       "    <tr style=\"text-align: right;\">\n",
       "      <th></th>\n",
       "      <th>ResponseId</th>\n",
       "      <th>Q120</th>\n",
       "      <th>MainBranch</th>\n",
       "      <th>Age</th>\n",
       "      <th>Employment</th>\n",
       "      <th>RemoteWork</th>\n",
       "      <th>CodingActivities</th>\n",
       "      <th>EdLevel</th>\n",
       "      <th>LearnCode</th>\n",
       "      <th>LearnCodeOnline</th>\n",
       "      <th>...</th>\n",
       "      <th>Frequency_1</th>\n",
       "      <th>Frequency_2</th>\n",
       "      <th>Frequency_3</th>\n",
       "      <th>TimeSearching</th>\n",
       "      <th>TimeAnswering</th>\n",
       "      <th>ProfessionalTech</th>\n",
       "      <th>Industry</th>\n",
       "      <th>SurveyLength</th>\n",
       "      <th>SurveyEase</th>\n",
       "      <th>ConvertedCompYearly</th>\n",
       "    </tr>\n",
       "  </thead>\n",
       "  <tbody>\n",
       "    <tr>\n",
       "      <th>9</th>\n",
       "      <td>10</td>\n",
       "      <td>I agree</td>\n",
       "      <td>I am a developer by profession</td>\n",
       "      <td>25-34 years old</td>\n",
       "      <td>Not employed, but looking for work</td>\n",
       "      <td>NaN</td>\n",
       "      <td>NaN</td>\n",
       "      <td>Bachelor’s degree (B.A., B.S., B.Eng., etc.)</td>\n",
       "      <td>Books / Physical media;Online Courses or Certi...</td>\n",
       "      <td>Formal documentation provided by the owner of ...</td>\n",
       "      <td>...</td>\n",
       "      <td>NaN</td>\n",
       "      <td>NaN</td>\n",
       "      <td>NaN</td>\n",
       "      <td>NaN</td>\n",
       "      <td>NaN</td>\n",
       "      <td>NaN</td>\n",
       "      <td>NaN</td>\n",
       "      <td>Appropriate in length</td>\n",
       "      <td>Neither easy nor difficult</td>\n",
       "      <td>NaN</td>\n",
       "    </tr>\n",
       "    <tr>\n",
       "      <th>66</th>\n",
       "      <td>67</td>\n",
       "      <td>I agree</td>\n",
       "      <td>I am a developer by profession</td>\n",
       "      <td>25-34 years old</td>\n",
       "      <td>Employed, full-time</td>\n",
       "      <td>Hybrid (some remote, some in-person)</td>\n",
       "      <td>Hobby;Contribute to open-source projects</td>\n",
       "      <td>Bachelor’s degree (B.A., B.S., B.Eng., etc.)</td>\n",
       "      <td>Online Courses or Certification;School (i.e., ...</td>\n",
       "      <td>NaN</td>\n",
       "      <td>...</td>\n",
       "      <td>NaN</td>\n",
       "      <td>NaN</td>\n",
       "      <td>NaN</td>\n",
       "      <td>NaN</td>\n",
       "      <td>NaN</td>\n",
       "      <td>NaN</td>\n",
       "      <td>NaN</td>\n",
       "      <td>Too long</td>\n",
       "      <td>Easy</td>\n",
       "      <td>41197.0</td>\n",
       "    </tr>\n",
       "    <tr>\n",
       "      <th>78</th>\n",
       "      <td>79</td>\n",
       "      <td>I agree</td>\n",
       "      <td>I am a developer by profession</td>\n",
       "      <td>18-24 years old</td>\n",
       "      <td>Employed, full-time</td>\n",
       "      <td>Remote</td>\n",
       "      <td>Hobby</td>\n",
       "      <td>Bachelor’s degree (B.A., B.S., B.Eng., etc.)</td>\n",
       "      <td>Online Courses or Certification;School (i.e., ...</td>\n",
       "      <td>NaN</td>\n",
       "      <td>...</td>\n",
       "      <td>NaN</td>\n",
       "      <td>NaN</td>\n",
       "      <td>NaN</td>\n",
       "      <td>NaN</td>\n",
       "      <td>NaN</td>\n",
       "      <td>NaN</td>\n",
       "      <td>NaN</td>\n",
       "      <td>Appropriate in length</td>\n",
       "      <td>Easy</td>\n",
       "      <td>NaN</td>\n",
       "    </tr>\n",
       "    <tr>\n",
       "      <th>82</th>\n",
       "      <td>83</td>\n",
       "      <td>I agree</td>\n",
       "      <td>I am a developer by profession</td>\n",
       "      <td>25-34 years old</td>\n",
       "      <td>Employed, full-time</td>\n",
       "      <td>Hybrid (some remote, some in-person)</td>\n",
       "      <td>Hobby</td>\n",
       "      <td>Bachelor’s degree (B.A., B.S., B.Eng., etc.)</td>\n",
       "      <td>Books / Physical media;Colleague;Friend or fam...</td>\n",
       "      <td>Formal documentation provided by the owner of ...</td>\n",
       "      <td>...</td>\n",
       "      <td>1-2 times a week</td>\n",
       "      <td>1-2 times a week</td>\n",
       "      <td>1-2 times a week</td>\n",
       "      <td>60-120 minutes a day</td>\n",
       "      <td>30-60 minutes a day</td>\n",
       "      <td>DevOps function;Developer portal or other cent...</td>\n",
       "      <td>Information Services, IT, Software Development...</td>\n",
       "      <td>Appropriate in length</td>\n",
       "      <td>Neither easy nor difficult</td>\n",
       "      <td>NaN</td>\n",
       "    </tr>\n",
       "    <tr>\n",
       "      <th>85</th>\n",
       "      <td>86</td>\n",
       "      <td>I agree</td>\n",
       "      <td>I am a developer by profession</td>\n",
       "      <td>25-34 years old</td>\n",
       "      <td>Employed, full-time</td>\n",
       "      <td>In-person</td>\n",
       "      <td>Other (please specify):</td>\n",
       "      <td>Bachelor’s degree (B.A., B.S., B.Eng., etc.)</td>\n",
       "      <td>Books / Physical media;Online Courses or Certi...</td>\n",
       "      <td>Formal documentation provided by the owner of ...</td>\n",
       "      <td>...</td>\n",
       "      <td>10+ times a week</td>\n",
       "      <td>10+ times a week</td>\n",
       "      <td>10+ times a week</td>\n",
       "      <td>30-60 minutes a day</td>\n",
       "      <td>60-120 minutes a day</td>\n",
       "      <td>Automated testing;Continuous integration (CI) ...</td>\n",
       "      <td>Financial Services</td>\n",
       "      <td>Too long</td>\n",
       "      <td>Neither easy nor difficult</td>\n",
       "      <td>NaN</td>\n",
       "    </tr>\n",
       "  </tbody>\n",
       "</table>\n",
       "<p>5 rows × 84 columns</p>\n",
       "</div>"
      ],
      "text/plain": [
       "    ResponseId     Q120                      MainBranch              Age  \\\n",
       "9           10  I agree  I am a developer by profession  25-34 years old   \n",
       "66          67  I agree  I am a developer by profession  25-34 years old   \n",
       "78          79  I agree  I am a developer by profession  18-24 years old   \n",
       "82          83  I agree  I am a developer by profession  25-34 years old   \n",
       "85          86  I agree  I am a developer by profession  25-34 years old   \n",
       "\n",
       "                            Employment                            RemoteWork  \\\n",
       "9   Not employed, but looking for work                                   NaN   \n",
       "66                 Employed, full-time  Hybrid (some remote, some in-person)   \n",
       "78                 Employed, full-time                                Remote   \n",
       "82                 Employed, full-time  Hybrid (some remote, some in-person)   \n",
       "85                 Employed, full-time                             In-person   \n",
       "\n",
       "                            CodingActivities  \\\n",
       "9                                        NaN   \n",
       "66  Hobby;Contribute to open-source projects   \n",
       "78                                     Hobby   \n",
       "82                                     Hobby   \n",
       "85                   Other (please specify):   \n",
       "\n",
       "                                         EdLevel  \\\n",
       "9   Bachelor’s degree (B.A., B.S., B.Eng., etc.)   \n",
       "66  Bachelor’s degree (B.A., B.S., B.Eng., etc.)   \n",
       "78  Bachelor’s degree (B.A., B.S., B.Eng., etc.)   \n",
       "82  Bachelor’s degree (B.A., B.S., B.Eng., etc.)   \n",
       "85  Bachelor’s degree (B.A., B.S., B.Eng., etc.)   \n",
       "\n",
       "                                            LearnCode  \\\n",
       "9   Books / Physical media;Online Courses or Certi...   \n",
       "66  Online Courses or Certification;School (i.e., ...   \n",
       "78  Online Courses or Certification;School (i.e., ...   \n",
       "82  Books / Physical media;Colleague;Friend or fam...   \n",
       "85  Books / Physical media;Online Courses or Certi...   \n",
       "\n",
       "                                      LearnCodeOnline  ...       Frequency_1  \\\n",
       "9   Formal documentation provided by the owner of ...  ...               NaN   \n",
       "66                                                NaN  ...               NaN   \n",
       "78                                                NaN  ...               NaN   \n",
       "82  Formal documentation provided by the owner of ...  ...  1-2 times a week   \n",
       "85  Formal documentation provided by the owner of ...  ...  10+ times a week   \n",
       "\n",
       "         Frequency_2       Frequency_3         TimeSearching  \\\n",
       "9                NaN               NaN                   NaN   \n",
       "66               NaN               NaN                   NaN   \n",
       "78               NaN               NaN                   NaN   \n",
       "82  1-2 times a week  1-2 times a week  60-120 minutes a day   \n",
       "85  10+ times a week  10+ times a week   30-60 minutes a day   \n",
       "\n",
       "           TimeAnswering                                   ProfessionalTech  \\\n",
       "9                    NaN                                                NaN   \n",
       "66                   NaN                                                NaN   \n",
       "78                   NaN                                                NaN   \n",
       "82   30-60 minutes a day  DevOps function;Developer portal or other cent...   \n",
       "85  60-120 minutes a day  Automated testing;Continuous integration (CI) ...   \n",
       "\n",
       "                                             Industry           SurveyLength  \\\n",
       "9                                                 NaN  Appropriate in length   \n",
       "66                                                NaN               Too long   \n",
       "78                                                NaN  Appropriate in length   \n",
       "82  Information Services, IT, Software Development...  Appropriate in length   \n",
       "85                                 Financial Services               Too long   \n",
       "\n",
       "                    SurveyEase ConvertedCompYearly  \n",
       "9   Neither easy nor difficult                 NaN  \n",
       "66                        Easy             41197.0  \n",
       "78                        Easy                 NaN  \n",
       "82  Neither easy nor difficult                 NaN  \n",
       "85  Neither easy nor difficult                 NaN  \n",
       "\n",
       "[5 rows x 84 columns]"
      ]
     },
     "execution_count": 114,
     "metadata": {},
     "output_type": "execute_result"
    }
   ],
   "source": [
    "country_grp.get_group(('India',)).head()"
   ]
  },
  {
   "cell_type": "code",
   "execution_count": 115,
   "id": "9f15963c-b93a-46ca-8433-d5d55b50e25a",
   "metadata": {},
   "outputs": [],
   "source": [
    "fil = df['Country'] == 'United States of America'"
   ]
  },
  {
   "cell_type": "code",
   "execution_count": 116,
   "id": "6a039d8d-4b0f-4361-805c-b68b558f33b8",
   "metadata": {},
   "outputs": [
    {
     "data": {
      "text/html": [
       "<div>\n",
       "<style scoped>\n",
       "    .dataframe tbody tr th:only-of-type {\n",
       "        vertical-align: middle;\n",
       "    }\n",
       "\n",
       "    .dataframe tbody tr th {\n",
       "        vertical-align: top;\n",
       "    }\n",
       "\n",
       "    .dataframe thead th {\n",
       "        text-align: right;\n",
       "    }\n",
       "</style>\n",
       "<table border=\"1\" class=\"dataframe\">\n",
       "  <thead>\n",
       "    <tr style=\"text-align: right;\">\n",
       "      <th></th>\n",
       "      <th>ResponseId</th>\n",
       "      <th>Q120</th>\n",
       "      <th>MainBranch</th>\n",
       "      <th>Age</th>\n",
       "      <th>Employment</th>\n",
       "      <th>RemoteWork</th>\n",
       "      <th>CodingActivities</th>\n",
       "      <th>EdLevel</th>\n",
       "      <th>LearnCode</th>\n",
       "      <th>LearnCodeOnline</th>\n",
       "      <th>...</th>\n",
       "      <th>Frequency_1</th>\n",
       "      <th>Frequency_2</th>\n",
       "      <th>Frequency_3</th>\n",
       "      <th>TimeSearching</th>\n",
       "      <th>TimeAnswering</th>\n",
       "      <th>ProfessionalTech</th>\n",
       "      <th>Industry</th>\n",
       "      <th>SurveyLength</th>\n",
       "      <th>SurveyEase</th>\n",
       "      <th>ConvertedCompYearly</th>\n",
       "    </tr>\n",
       "  </thead>\n",
       "  <tbody>\n",
       "    <tr>\n",
       "      <th>1</th>\n",
       "      <td>2</td>\n",
       "      <td>I agree</td>\n",
       "      <td>I am a developer by profession</td>\n",
       "      <td>25-34 years old</td>\n",
       "      <td>Employed, full-time</td>\n",
       "      <td>Remote</td>\n",
       "      <td>Hobby;Contribute to open-source projects;Boots...</td>\n",
       "      <td>Bachelor’s degree (B.A., B.S., B.Eng., etc.)</td>\n",
       "      <td>Books / Physical media;Colleague;Friend or fam...</td>\n",
       "      <td>Formal documentation provided by the owner of ...</td>\n",
       "      <td>...</td>\n",
       "      <td>1-2 times a week</td>\n",
       "      <td>10+ times a week</td>\n",
       "      <td>Never</td>\n",
       "      <td>15-30 minutes a day</td>\n",
       "      <td>15-30 minutes a day</td>\n",
       "      <td>DevOps function;Microservices;Automated testin...</td>\n",
       "      <td>Information Services, IT, Software Development...</td>\n",
       "      <td>Appropriate in length</td>\n",
       "      <td>Easy</td>\n",
       "      <td>285000.0</td>\n",
       "    </tr>\n",
       "    <tr>\n",
       "      <th>2</th>\n",
       "      <td>3</td>\n",
       "      <td>I agree</td>\n",
       "      <td>I am a developer by profession</td>\n",
       "      <td>45-54 years old</td>\n",
       "      <td>Employed, full-time</td>\n",
       "      <td>Hybrid (some remote, some in-person)</td>\n",
       "      <td>Hobby;Professional development or self-paced l...</td>\n",
       "      <td>Bachelor’s degree (B.A., B.S., B.Eng., etc.)</td>\n",
       "      <td>Books / Physical media;Colleague;On the job tr...</td>\n",
       "      <td>Formal documentation provided by the owner of ...</td>\n",
       "      <td>...</td>\n",
       "      <td>6-10 times a week</td>\n",
       "      <td>6-10 times a week</td>\n",
       "      <td>3-5 times a week</td>\n",
       "      <td>30-60 minutes a day</td>\n",
       "      <td>30-60 minutes a day</td>\n",
       "      <td>DevOps function;Microservices;Automated testin...</td>\n",
       "      <td>Information Services, IT, Software Development...</td>\n",
       "      <td>Appropriate in length</td>\n",
       "      <td>Easy</td>\n",
       "      <td>250000.0</td>\n",
       "    </tr>\n",
       "    <tr>\n",
       "      <th>3</th>\n",
       "      <td>4</td>\n",
       "      <td>I agree</td>\n",
       "      <td>I am a developer by profession</td>\n",
       "      <td>25-34 years old</td>\n",
       "      <td>Employed, full-time</td>\n",
       "      <td>Hybrid (some remote, some in-person)</td>\n",
       "      <td>Hobby</td>\n",
       "      <td>Bachelor’s degree (B.A., B.S., B.Eng., etc.)</td>\n",
       "      <td>Colleague;Friend or family member;Other online...</td>\n",
       "      <td>Formal documentation provided by the owner of ...</td>\n",
       "      <td>...</td>\n",
       "      <td>1-2 times a week</td>\n",
       "      <td>10+ times a week</td>\n",
       "      <td>1-2 times a week</td>\n",
       "      <td>15-30 minutes a day</td>\n",
       "      <td>30-60 minutes a day</td>\n",
       "      <td>Automated testing;Continuous integration (CI) ...</td>\n",
       "      <td>NaN</td>\n",
       "      <td>Appropriate in length</td>\n",
       "      <td>Easy</td>\n",
       "      <td>156000.0</td>\n",
       "    </tr>\n",
       "    <tr>\n",
       "      <th>6</th>\n",
       "      <td>7</td>\n",
       "      <td>I agree</td>\n",
       "      <td>I am a developer by profession</td>\n",
       "      <td>35-44 years old</td>\n",
       "      <td>Employed, full-time</td>\n",
       "      <td>Remote</td>\n",
       "      <td>Hobby;Contribute to open-source projects;Profe...</td>\n",
       "      <td>Some college/university study without earning ...</td>\n",
       "      <td>Friend or family member;Online Courses or Cert...</td>\n",
       "      <td>NaN</td>\n",
       "      <td>...</td>\n",
       "      <td>1-2 times a week</td>\n",
       "      <td>3-5 times a week</td>\n",
       "      <td>1-2 times a week</td>\n",
       "      <td>Less than 15 minutes a day</td>\n",
       "      <td>15-30 minutes a day</td>\n",
       "      <td>Microservices;Automated testing;Continuous int...</td>\n",
       "      <td>Information Services, IT, Software Development...</td>\n",
       "      <td>Appropriate in length</td>\n",
       "      <td>Easy</td>\n",
       "      <td>135000.0</td>\n",
       "    </tr>\n",
       "    <tr>\n",
       "      <th>7</th>\n",
       "      <td>8</td>\n",
       "      <td>I agree</td>\n",
       "      <td>I am a developer by profession</td>\n",
       "      <td>25-34 years old</td>\n",
       "      <td>Employed, full-time</td>\n",
       "      <td>Remote</td>\n",
       "      <td>Hobby</td>\n",
       "      <td>Bachelor’s degree (B.A., B.S., B.Eng., etc.)</td>\n",
       "      <td>Books / Physical media;Online Courses or Certi...</td>\n",
       "      <td>Formal documentation provided by the owner of ...</td>\n",
       "      <td>...</td>\n",
       "      <td>NaN</td>\n",
       "      <td>NaN</td>\n",
       "      <td>NaN</td>\n",
       "      <td>60-120 minutes a day</td>\n",
       "      <td>30-60 minutes a day</td>\n",
       "      <td>None of these</td>\n",
       "      <td>Financial Services</td>\n",
       "      <td>NaN</td>\n",
       "      <td>NaN</td>\n",
       "      <td>80000.0</td>\n",
       "    </tr>\n",
       "  </tbody>\n",
       "</table>\n",
       "<p>5 rows × 84 columns</p>\n",
       "</div>"
      ],
      "text/plain": [
       "   ResponseId     Q120                      MainBranch              Age  \\\n",
       "1           2  I agree  I am a developer by profession  25-34 years old   \n",
       "2           3  I agree  I am a developer by profession  45-54 years old   \n",
       "3           4  I agree  I am a developer by profession  25-34 years old   \n",
       "6           7  I agree  I am a developer by profession  35-44 years old   \n",
       "7           8  I agree  I am a developer by profession  25-34 years old   \n",
       "\n",
       "            Employment                            RemoteWork  \\\n",
       "1  Employed, full-time                                Remote   \n",
       "2  Employed, full-time  Hybrid (some remote, some in-person)   \n",
       "3  Employed, full-time  Hybrid (some remote, some in-person)   \n",
       "6  Employed, full-time                                Remote   \n",
       "7  Employed, full-time                                Remote   \n",
       "\n",
       "                                    CodingActivities  \\\n",
       "1  Hobby;Contribute to open-source projects;Boots...   \n",
       "2  Hobby;Professional development or self-paced l...   \n",
       "3                                              Hobby   \n",
       "6  Hobby;Contribute to open-source projects;Profe...   \n",
       "7                                              Hobby   \n",
       "\n",
       "                                             EdLevel  \\\n",
       "1       Bachelor’s degree (B.A., B.S., B.Eng., etc.)   \n",
       "2       Bachelor’s degree (B.A., B.S., B.Eng., etc.)   \n",
       "3       Bachelor’s degree (B.A., B.S., B.Eng., etc.)   \n",
       "6  Some college/university study without earning ...   \n",
       "7       Bachelor’s degree (B.A., B.S., B.Eng., etc.)   \n",
       "\n",
       "                                           LearnCode  \\\n",
       "1  Books / Physical media;Colleague;Friend or fam...   \n",
       "2  Books / Physical media;Colleague;On the job tr...   \n",
       "3  Colleague;Friend or family member;Other online...   \n",
       "6  Friend or family member;Online Courses or Cert...   \n",
       "7  Books / Physical media;Online Courses or Certi...   \n",
       "\n",
       "                                     LearnCodeOnline  ...        Frequency_1  \\\n",
       "1  Formal documentation provided by the owner of ...  ...   1-2 times a week   \n",
       "2  Formal documentation provided by the owner of ...  ...  6-10 times a week   \n",
       "3  Formal documentation provided by the owner of ...  ...   1-2 times a week   \n",
       "6                                                NaN  ...   1-2 times a week   \n",
       "7  Formal documentation provided by the owner of ...  ...                NaN   \n",
       "\n",
       "         Frequency_2       Frequency_3               TimeSearching  \\\n",
       "1   10+ times a week             Never         15-30 minutes a day   \n",
       "2  6-10 times a week  3-5 times a week         30-60 minutes a day   \n",
       "3   10+ times a week  1-2 times a week         15-30 minutes a day   \n",
       "6   3-5 times a week  1-2 times a week  Less than 15 minutes a day   \n",
       "7                NaN               NaN        60-120 minutes a day   \n",
       "\n",
       "         TimeAnswering                                   ProfessionalTech  \\\n",
       "1  15-30 minutes a day  DevOps function;Microservices;Automated testin...   \n",
       "2  30-60 minutes a day  DevOps function;Microservices;Automated testin...   \n",
       "3  30-60 minutes a day  Automated testing;Continuous integration (CI) ...   \n",
       "6  15-30 minutes a day  Microservices;Automated testing;Continuous int...   \n",
       "7  30-60 minutes a day                                      None of these   \n",
       "\n",
       "                                            Industry           SurveyLength  \\\n",
       "1  Information Services, IT, Software Development...  Appropriate in length   \n",
       "2  Information Services, IT, Software Development...  Appropriate in length   \n",
       "3                                                NaN  Appropriate in length   \n",
       "6  Information Services, IT, Software Development...  Appropriate in length   \n",
       "7                                 Financial Services                    NaN   \n",
       "\n",
       "  SurveyEase ConvertedCompYearly  \n",
       "1       Easy            285000.0  \n",
       "2       Easy            250000.0  \n",
       "3       Easy            156000.0  \n",
       "6       Easy            135000.0  \n",
       "7        NaN             80000.0  \n",
       "\n",
       "[5 rows x 84 columns]"
      ]
     },
     "execution_count": 116,
     "metadata": {},
     "output_type": "execute_result"
    }
   ],
   "source": [
    "df.loc[fil].head()"
   ]
  },
  {
   "cell_type": "code",
   "execution_count": 117,
   "id": "a5611f83-990b-4aba-ba02-f31c236e2dd7",
   "metadata": {},
   "outputs": [
    {
     "data": {
      "text/plain": [
       "Industry\n",
       "Information Services, IT, Software Development, or other Technology    3185\n",
       "Other                                                                  1141\n",
       "Financial Services                                                      982\n",
       "Healthcare                                                              722\n",
       "Manufacturing, Transportation, or Supply Chain                          659\n",
       "Retail and Consumer Services                                            499\n",
       "Higher Education                                                        333\n",
       "Insurance                                                               236\n",
       "Advertising Services                                                    218\n",
       "Oil & Gas                                                                66\n",
       "Legal Services                                                           47\n",
       "Wholesale                                                                34\n",
       "Name: count, dtype: int64"
      ]
     },
     "execution_count": 117,
     "metadata": {},
     "output_type": "execute_result"
    }
   ],
   "source": [
    "df.loc[fil]['Industry'].value_counts()"
   ]
  },
  {
   "cell_type": "code",
   "execution_count": 140,
   "id": "bec83294-3839-4d94-9261-764853d72b83",
   "metadata": {},
   "outputs": [
    {
     "data": {
      "text/html": [
       "<div>\n",
       "<style scoped>\n",
       "    .dataframe tbody tr th:only-of-type {\n",
       "        vertical-align: middle;\n",
       "    }\n",
       "\n",
       "    .dataframe tbody tr th {\n",
       "        vertical-align: top;\n",
       "    }\n",
       "\n",
       "    .dataframe thead th {\n",
       "        text-align: right;\n",
       "    }\n",
       "</style>\n",
       "<table border=\"1\" class=\"dataframe\">\n",
       "  <thead>\n",
       "    <tr style=\"text-align: right;\">\n",
       "      <th></th>\n",
       "      <th>ResponseId</th>\n",
       "      <th>Q120</th>\n",
       "      <th>MainBranch</th>\n",
       "      <th>Age</th>\n",
       "      <th>Employment</th>\n",
       "      <th>RemoteWork</th>\n",
       "      <th>CodingActivities</th>\n",
       "      <th>EdLevel</th>\n",
       "      <th>LearnCode</th>\n",
       "      <th>LearnCodeOnline</th>\n",
       "      <th>...</th>\n",
       "      <th>Frequency_1</th>\n",
       "      <th>Frequency_2</th>\n",
       "      <th>Frequency_3</th>\n",
       "      <th>TimeSearching</th>\n",
       "      <th>TimeAnswering</th>\n",
       "      <th>ProfessionalTech</th>\n",
       "      <th>Industry</th>\n",
       "      <th>SurveyLength</th>\n",
       "      <th>SurveyEase</th>\n",
       "      <th>ConvertedCompYearly</th>\n",
       "    </tr>\n",
       "  </thead>\n",
       "  <tbody>\n",
       "    <tr>\n",
       "      <th>1</th>\n",
       "      <td>2</td>\n",
       "      <td>I agree</td>\n",
       "      <td>I am a developer by profession</td>\n",
       "      <td>25-34 years old</td>\n",
       "      <td>Employed, full-time</td>\n",
       "      <td>Remote</td>\n",
       "      <td>Hobby;Contribute to open-source projects;Boots...</td>\n",
       "      <td>Bachelor’s degree (B.A., B.S., B.Eng., etc.)</td>\n",
       "      <td>Books / Physical media;Colleague;Friend or fam...</td>\n",
       "      <td>Formal documentation provided by the owner of ...</td>\n",
       "      <td>...</td>\n",
       "      <td>1-2 times a week</td>\n",
       "      <td>10+ times a week</td>\n",
       "      <td>Never</td>\n",
       "      <td>15-30 minutes a day</td>\n",
       "      <td>15-30 minutes a day</td>\n",
       "      <td>DevOps function;Microservices;Automated testin...</td>\n",
       "      <td>Information Services, IT, Software Development...</td>\n",
       "      <td>Appropriate in length</td>\n",
       "      <td>Easy</td>\n",
       "      <td>285000.0</td>\n",
       "    </tr>\n",
       "    <tr>\n",
       "      <th>2</th>\n",
       "      <td>3</td>\n",
       "      <td>I agree</td>\n",
       "      <td>I am a developer by profession</td>\n",
       "      <td>45-54 years old</td>\n",
       "      <td>Employed, full-time</td>\n",
       "      <td>Hybrid (some remote, some in-person)</td>\n",
       "      <td>Hobby;Professional development or self-paced l...</td>\n",
       "      <td>Bachelor’s degree (B.A., B.S., B.Eng., etc.)</td>\n",
       "      <td>Books / Physical media;Colleague;On the job tr...</td>\n",
       "      <td>Formal documentation provided by the owner of ...</td>\n",
       "      <td>...</td>\n",
       "      <td>6-10 times a week</td>\n",
       "      <td>6-10 times a week</td>\n",
       "      <td>3-5 times a week</td>\n",
       "      <td>30-60 minutes a day</td>\n",
       "      <td>30-60 minutes a day</td>\n",
       "      <td>DevOps function;Microservices;Automated testin...</td>\n",
       "      <td>Information Services, IT, Software Development...</td>\n",
       "      <td>Appropriate in length</td>\n",
       "      <td>Easy</td>\n",
       "      <td>250000.0</td>\n",
       "    </tr>\n",
       "    <tr>\n",
       "      <th>4</th>\n",
       "      <td>5</td>\n",
       "      <td>I agree</td>\n",
       "      <td>I am a developer by profession</td>\n",
       "      <td>25-34 years old</td>\n",
       "      <td>Employed, full-time;Independent contractor, fr...</td>\n",
       "      <td>Remote</td>\n",
       "      <td>Hobby;Contribute to open-source projects;Profe...</td>\n",
       "      <td>Bachelor’s degree (B.A., B.S., B.Eng., etc.)</td>\n",
       "      <td>Books / Physical media;Online Courses or Certi...</td>\n",
       "      <td>Formal documentation provided by the owner of ...</td>\n",
       "      <td>...</td>\n",
       "      <td>1-2 times a week</td>\n",
       "      <td>1-2 times a week</td>\n",
       "      <td>3-5 times a week</td>\n",
       "      <td>60-120 minutes a day</td>\n",
       "      <td>30-60 minutes a day</td>\n",
       "      <td>Microservices;Automated testing;Observability ...</td>\n",
       "      <td>Other</td>\n",
       "      <td>Appropriate in length</td>\n",
       "      <td>Neither easy nor difficult</td>\n",
       "      <td>23456.0</td>\n",
       "    </tr>\n",
       "    <tr>\n",
       "      <th>5</th>\n",
       "      <td>6</td>\n",
       "      <td>I agree</td>\n",
       "      <td>I am a developer by profession</td>\n",
       "      <td>35-44 years old</td>\n",
       "      <td>Employed, full-time</td>\n",
       "      <td>Remote</td>\n",
       "      <td>Hobby;Professional development or self-paced l...</td>\n",
       "      <td>Some college/university study without earning ...</td>\n",
       "      <td>Books / Physical media;Colleague;Online Course...</td>\n",
       "      <td>Formal documentation provided by the owner of ...</td>\n",
       "      <td>...</td>\n",
       "      <td>1-2 times a week</td>\n",
       "      <td>1-2 times a week</td>\n",
       "      <td>3-5 times a week</td>\n",
       "      <td>30-60 minutes a day</td>\n",
       "      <td>15-30 minutes a day</td>\n",
       "      <td>DevOps function;Microservices;Observability to...</td>\n",
       "      <td>Other</td>\n",
       "      <td>Appropriate in length</td>\n",
       "      <td>Neither easy nor difficult</td>\n",
       "      <td>96828.0</td>\n",
       "    </tr>\n",
       "    <tr>\n",
       "      <th>6</th>\n",
       "      <td>7</td>\n",
       "      <td>I agree</td>\n",
       "      <td>I am a developer by profession</td>\n",
       "      <td>35-44 years old</td>\n",
       "      <td>Employed, full-time</td>\n",
       "      <td>Remote</td>\n",
       "      <td>Hobby;Contribute to open-source projects;Profe...</td>\n",
       "      <td>Some college/university study without earning ...</td>\n",
       "      <td>Friend or family member;Online Courses or Cert...</td>\n",
       "      <td>NaN</td>\n",
       "      <td>...</td>\n",
       "      <td>1-2 times a week</td>\n",
       "      <td>3-5 times a week</td>\n",
       "      <td>1-2 times a week</td>\n",
       "      <td>Less than 15 minutes a day</td>\n",
       "      <td>15-30 minutes a day</td>\n",
       "      <td>Microservices;Automated testing;Continuous int...</td>\n",
       "      <td>Information Services, IT, Software Development...</td>\n",
       "      <td>Appropriate in length</td>\n",
       "      <td>Easy</td>\n",
       "      <td>135000.0</td>\n",
       "    </tr>\n",
       "    <tr>\n",
       "      <th>...</th>\n",
       "      <td>...</td>\n",
       "      <td>...</td>\n",
       "      <td>...</td>\n",
       "      <td>...</td>\n",
       "      <td>...</td>\n",
       "      <td>...</td>\n",
       "      <td>...</td>\n",
       "      <td>...</td>\n",
       "      <td>...</td>\n",
       "      <td>...</td>\n",
       "      <td>...</td>\n",
       "      <td>...</td>\n",
       "      <td>...</td>\n",
       "      <td>...</td>\n",
       "      <td>...</td>\n",
       "      <td>...</td>\n",
       "      <td>...</td>\n",
       "      <td>...</td>\n",
       "      <td>...</td>\n",
       "      <td>...</td>\n",
       "      <td>...</td>\n",
       "    </tr>\n",
       "    <tr>\n",
       "      <th>88982</th>\n",
       "      <td>88983</td>\n",
       "      <td>I agree</td>\n",
       "      <td>I am a developer by profession</td>\n",
       "      <td>18-24 years old</td>\n",
       "      <td>Employed, full-time</td>\n",
       "      <td>Remote</td>\n",
       "      <td>I don’t code outside of work</td>\n",
       "      <td>Primary/elementary school</td>\n",
       "      <td>Books / Physical media;Coding Bootcamp</td>\n",
       "      <td>NaN</td>\n",
       "      <td>...</td>\n",
       "      <td>Never</td>\n",
       "      <td>1-2 times a week</td>\n",
       "      <td>1-2 times a week</td>\n",
       "      <td>Less than 15 minutes a day</td>\n",
       "      <td>15-30 minutes a day</td>\n",
       "      <td>DevOps function;Microservices</td>\n",
       "      <td>Legal Services</td>\n",
       "      <td>Appropriate in length</td>\n",
       "      <td>Easy</td>\n",
       "      <td>NaN</td>\n",
       "    </tr>\n",
       "    <tr>\n",
       "      <th>89025</th>\n",
       "      <td>89026</td>\n",
       "      <td>I agree</td>\n",
       "      <td>I am a developer by profession</td>\n",
       "      <td>18-24 years old</td>\n",
       "      <td>Employed, full-time;Independent contractor, fr...</td>\n",
       "      <td>Remote</td>\n",
       "      <td>Contribute to open-source projects;Professiona...</td>\n",
       "      <td>Some college/university study without earning ...</td>\n",
       "      <td>Books / Physical media;Online Courses or Certi...</td>\n",
       "      <td>Formal documentation provided by the owner of ...</td>\n",
       "      <td>...</td>\n",
       "      <td>1-2 times a week</td>\n",
       "      <td>1-2 times a week</td>\n",
       "      <td>3-5 times a week</td>\n",
       "      <td>30-60 minutes a day</td>\n",
       "      <td>15-30 minutes a day</td>\n",
       "      <td>Automated testing;Observability tools;Continuo...</td>\n",
       "      <td>Retail and Consumer Services</td>\n",
       "      <td>Too long</td>\n",
       "      <td>Neither easy nor difficult</td>\n",
       "      <td>NaN</td>\n",
       "    </tr>\n",
       "    <tr>\n",
       "      <th>89094</th>\n",
       "      <td>89095</td>\n",
       "      <td>I agree</td>\n",
       "      <td>I am a developer by profession</td>\n",
       "      <td>25-34 years old</td>\n",
       "      <td>Employed, full-time</td>\n",
       "      <td>Hybrid (some remote, some in-person)</td>\n",
       "      <td>Hobby;Bootstrapping a business;Professional de...</td>\n",
       "      <td>Master’s degree (M.A., M.S., M.Eng., MBA, etc.)</td>\n",
       "      <td>Books / Physical media;Online Courses or Certi...</td>\n",
       "      <td>Formal documentation provided by the owner of ...</td>\n",
       "      <td>...</td>\n",
       "      <td>1-2 times a week</td>\n",
       "      <td>3-5 times a week</td>\n",
       "      <td>1-2 times a week</td>\n",
       "      <td>60-120 minutes a day</td>\n",
       "      <td>30-60 minutes a day</td>\n",
       "      <td>DevOps function;Developer portal or other cent...</td>\n",
       "      <td>Financial Services</td>\n",
       "      <td>Too long</td>\n",
       "      <td>Easy</td>\n",
       "      <td>58218.0</td>\n",
       "    </tr>\n",
       "    <tr>\n",
       "      <th>89104</th>\n",
       "      <td>89105</td>\n",
       "      <td>I agree</td>\n",
       "      <td>I am a developer by profession</td>\n",
       "      <td>18-24 years old</td>\n",
       "      <td>Employed, full-time</td>\n",
       "      <td>In-person</td>\n",
       "      <td>Hobby</td>\n",
       "      <td>Bachelor’s degree (B.A., B.S., B.Eng., etc.)</td>\n",
       "      <td>School (i.e., University, College, etc)</td>\n",
       "      <td>NaN</td>\n",
       "      <td>...</td>\n",
       "      <td>1-2 times a week</td>\n",
       "      <td>Never</td>\n",
       "      <td>1-2 times a week</td>\n",
       "      <td>15-30 minutes a day</td>\n",
       "      <td>15-30 minutes a day</td>\n",
       "      <td>None of these</td>\n",
       "      <td>Financial Services</td>\n",
       "      <td>Too long</td>\n",
       "      <td>Easy</td>\n",
       "      <td>NaN</td>\n",
       "    </tr>\n",
       "    <tr>\n",
       "      <th>89169</th>\n",
       "      <td>89170</td>\n",
       "      <td>I agree</td>\n",
       "      <td>I am a developer by profession</td>\n",
       "      <td>45-54 years old</td>\n",
       "      <td>Employed, full-time</td>\n",
       "      <td>Remote</td>\n",
       "      <td>I don’t code outside of work</td>\n",
       "      <td>Bachelor’s degree (B.A., B.S., B.Eng., etc.)</td>\n",
       "      <td>Other online resources (e.g., videos, blogs, f...</td>\n",
       "      <td>Formal documentation provided by the owner of ...</td>\n",
       "      <td>...</td>\n",
       "      <td>1-2 times a week</td>\n",
       "      <td>1-2 times a week</td>\n",
       "      <td>Never</td>\n",
       "      <td>30-60 minutes a day</td>\n",
       "      <td>30-60 minutes a day</td>\n",
       "      <td>AI-assisted technology tool(s)</td>\n",
       "      <td>Advertising Services</td>\n",
       "      <td>Too long</td>\n",
       "      <td>Difficult</td>\n",
       "      <td>NaN</td>\n",
       "    </tr>\n",
       "  </tbody>\n",
       "</table>\n",
       "<p>3827 rows × 84 columns</p>\n",
       "</div>"
      ],
      "text/plain": [
       "       ResponseId     Q120                      MainBranch              Age  \\\n",
       "1               2  I agree  I am a developer by profession  25-34 years old   \n",
       "2               3  I agree  I am a developer by profession  45-54 years old   \n",
       "4               5  I agree  I am a developer by profession  25-34 years old   \n",
       "5               6  I agree  I am a developer by profession  35-44 years old   \n",
       "6               7  I agree  I am a developer by profession  35-44 years old   \n",
       "...           ...      ...                             ...              ...   \n",
       "88982       88983  I agree  I am a developer by profession  18-24 years old   \n",
       "89025       89026  I agree  I am a developer by profession  18-24 years old   \n",
       "89094       89095  I agree  I am a developer by profession  25-34 years old   \n",
       "89104       89105  I agree  I am a developer by profession  18-24 years old   \n",
       "89169       89170  I agree  I am a developer by profession  45-54 years old   \n",
       "\n",
       "                                              Employment  \\\n",
       "1                                    Employed, full-time   \n",
       "2                                    Employed, full-time   \n",
       "4      Employed, full-time;Independent contractor, fr...   \n",
       "5                                    Employed, full-time   \n",
       "6                                    Employed, full-time   \n",
       "...                                                  ...   \n",
       "88982                                Employed, full-time   \n",
       "89025  Employed, full-time;Independent contractor, fr...   \n",
       "89094                                Employed, full-time   \n",
       "89104                                Employed, full-time   \n",
       "89169                                Employed, full-time   \n",
       "\n",
       "                                 RemoteWork  \\\n",
       "1                                    Remote   \n",
       "2      Hybrid (some remote, some in-person)   \n",
       "4                                    Remote   \n",
       "5                                    Remote   \n",
       "6                                    Remote   \n",
       "...                                     ...   \n",
       "88982                                Remote   \n",
       "89025                                Remote   \n",
       "89094  Hybrid (some remote, some in-person)   \n",
       "89104                             In-person   \n",
       "89169                                Remote   \n",
       "\n",
       "                                        CodingActivities  \\\n",
       "1      Hobby;Contribute to open-source projects;Boots...   \n",
       "2      Hobby;Professional development or self-paced l...   \n",
       "4      Hobby;Contribute to open-source projects;Profe...   \n",
       "5      Hobby;Professional development or self-paced l...   \n",
       "6      Hobby;Contribute to open-source projects;Profe...   \n",
       "...                                                  ...   \n",
       "88982                       I don’t code outside of work   \n",
       "89025  Contribute to open-source projects;Professiona...   \n",
       "89094  Hobby;Bootstrapping a business;Professional de...   \n",
       "89104                                              Hobby   \n",
       "89169                       I don’t code outside of work   \n",
       "\n",
       "                                                 EdLevel  \\\n",
       "1           Bachelor’s degree (B.A., B.S., B.Eng., etc.)   \n",
       "2           Bachelor’s degree (B.A., B.S., B.Eng., etc.)   \n",
       "4           Bachelor’s degree (B.A., B.S., B.Eng., etc.)   \n",
       "5      Some college/university study without earning ...   \n",
       "6      Some college/university study without earning ...   \n",
       "...                                                  ...   \n",
       "88982                          Primary/elementary school   \n",
       "89025  Some college/university study without earning ...   \n",
       "89094    Master’s degree (M.A., M.S., M.Eng., MBA, etc.)   \n",
       "89104       Bachelor’s degree (B.A., B.S., B.Eng., etc.)   \n",
       "89169       Bachelor’s degree (B.A., B.S., B.Eng., etc.)   \n",
       "\n",
       "                                               LearnCode  \\\n",
       "1      Books / Physical media;Colleague;Friend or fam...   \n",
       "2      Books / Physical media;Colleague;On the job tr...   \n",
       "4      Books / Physical media;Online Courses or Certi...   \n",
       "5      Books / Physical media;Colleague;Online Course...   \n",
       "6      Friend or family member;Online Courses or Cert...   \n",
       "...                                                  ...   \n",
       "88982             Books / Physical media;Coding Bootcamp   \n",
       "89025  Books / Physical media;Online Courses or Certi...   \n",
       "89094  Books / Physical media;Online Courses or Certi...   \n",
       "89104            School (i.e., University, College, etc)   \n",
       "89169  Other online resources (e.g., videos, blogs, f...   \n",
       "\n",
       "                                         LearnCodeOnline  ...  \\\n",
       "1      Formal documentation provided by the owner of ...  ...   \n",
       "2      Formal documentation provided by the owner of ...  ...   \n",
       "4      Formal documentation provided by the owner of ...  ...   \n",
       "5      Formal documentation provided by the owner of ...  ...   \n",
       "6                                                    NaN  ...   \n",
       "...                                                  ...  ...   \n",
       "88982                                                NaN  ...   \n",
       "89025  Formal documentation provided by the owner of ...  ...   \n",
       "89094  Formal documentation provided by the owner of ...  ...   \n",
       "89104                                                NaN  ...   \n",
       "89169  Formal documentation provided by the owner of ...  ...   \n",
       "\n",
       "             Frequency_1        Frequency_2       Frequency_3  \\\n",
       "1       1-2 times a week   10+ times a week             Never   \n",
       "2      6-10 times a week  6-10 times a week  3-5 times a week   \n",
       "4       1-2 times a week   1-2 times a week  3-5 times a week   \n",
       "5       1-2 times a week   1-2 times a week  3-5 times a week   \n",
       "6       1-2 times a week   3-5 times a week  1-2 times a week   \n",
       "...                  ...                ...               ...   \n",
       "88982              Never   1-2 times a week  1-2 times a week   \n",
       "89025   1-2 times a week   1-2 times a week  3-5 times a week   \n",
       "89094   1-2 times a week   3-5 times a week  1-2 times a week   \n",
       "89104   1-2 times a week              Never  1-2 times a week   \n",
       "89169   1-2 times a week   1-2 times a week             Never   \n",
       "\n",
       "                    TimeSearching        TimeAnswering  \\\n",
       "1             15-30 minutes a day  15-30 minutes a day   \n",
       "2             30-60 minutes a day  30-60 minutes a day   \n",
       "4            60-120 minutes a day  30-60 minutes a day   \n",
       "5             30-60 minutes a day  15-30 minutes a day   \n",
       "6      Less than 15 minutes a day  15-30 minutes a day   \n",
       "...                           ...                  ...   \n",
       "88982  Less than 15 minutes a day  15-30 minutes a day   \n",
       "89025         30-60 minutes a day  15-30 minutes a day   \n",
       "89094        60-120 minutes a day  30-60 minutes a day   \n",
       "89104         15-30 minutes a day  15-30 minutes a day   \n",
       "89169         30-60 minutes a day  30-60 minutes a day   \n",
       "\n",
       "                                        ProfessionalTech  \\\n",
       "1      DevOps function;Microservices;Automated testin...   \n",
       "2      DevOps function;Microservices;Automated testin...   \n",
       "4      Microservices;Automated testing;Observability ...   \n",
       "5      DevOps function;Microservices;Observability to...   \n",
       "6      Microservices;Automated testing;Continuous int...   \n",
       "...                                                  ...   \n",
       "88982                      DevOps function;Microservices   \n",
       "89025  Automated testing;Observability tools;Continuo...   \n",
       "89094  DevOps function;Developer portal or other cent...   \n",
       "89104                                      None of these   \n",
       "89169                     AI-assisted technology tool(s)   \n",
       "\n",
       "                                                Industry  \\\n",
       "1      Information Services, IT, Software Development...   \n",
       "2      Information Services, IT, Software Development...   \n",
       "4                                                  Other   \n",
       "5                                                  Other   \n",
       "6      Information Services, IT, Software Development...   \n",
       "...                                                  ...   \n",
       "88982                                     Legal Services   \n",
       "89025                       Retail and Consumer Services   \n",
       "89094                                 Financial Services   \n",
       "89104                                 Financial Services   \n",
       "89169                               Advertising Services   \n",
       "\n",
       "                SurveyLength                  SurveyEase ConvertedCompYearly  \n",
       "1      Appropriate in length                        Easy            285000.0  \n",
       "2      Appropriate in length                        Easy            250000.0  \n",
       "4      Appropriate in length  Neither easy nor difficult             23456.0  \n",
       "5      Appropriate in length  Neither easy nor difficult             96828.0  \n",
       "6      Appropriate in length                        Easy            135000.0  \n",
       "...                      ...                         ...                 ...  \n",
       "88982  Appropriate in length                        Easy                 NaN  \n",
       "89025               Too long  Neither easy nor difficult                 NaN  \n",
       "89094               Too long                        Easy             58218.0  \n",
       "89104               Too long                        Easy                 NaN  \n",
       "89169               Too long                   Difficult                 NaN  \n",
       "\n",
       "[3827 rows x 84 columns]"
      ]
     },
     "execution_count": 140,
     "metadata": {},
     "output_type": "execute_result"
    }
   ],
   "source": [
    "gp = df.groupby(['Country','Industry'])\n",
    "gp.head()"
   ]
  },
  {
   "cell_type": "code",
   "execution_count": 118,
   "id": "f453ac7e-f82f-4a3e-896f-4a2def329193",
   "metadata": {},
   "outputs": [
    {
     "data": {
      "text/plain": [
       "Country      Industry                                                           \n",
       "Afghanistan  Information Services, IT, Software Development, or other Technology    5\n",
       "             Advertising Services                                                   3\n",
       "             Legal Services                                                         2\n",
       "             Healthcare                                                             1\n",
       "             Other                                                                  1\n",
       "                                                                                   ..\n",
       "Zimbabwe     Information Services, IT, Software Development, or other Technology    3\n",
       "             Financial Services                                                     2\n",
       "             Advertising Services                                                   1\n",
       "             Higher Education                                                       1\n",
       "             Other                                                                  1\n",
       "Name: count, Length: 1127, dtype: int64"
      ]
     },
     "execution_count": 118,
     "metadata": {},
     "output_type": "execute_result"
    }
   ],
   "source": [
    "country_grp['Industry'].value_counts()"
   ]
  },
  {
   "cell_type": "code",
   "execution_count": 119,
   "id": "f29551f0-2a37-40d5-b1e3-186ed6a631ba",
   "metadata": {},
   "outputs": [
    {
     "data": {
      "text/plain": [
       "Industry\n",
       "Information Services, IT, Software Development, or other Technology    3185\n",
       "Other                                                                  1141\n",
       "Financial Services                                                      982\n",
       "Healthcare                                                              722\n",
       "Manufacturing, Transportation, or Supply Chain                          659\n",
       "Retail and Consumer Services                                            499\n",
       "Higher Education                                                        333\n",
       "Insurance                                                               236\n",
       "Advertising Services                                                    218\n",
       "Oil & Gas                                                                66\n",
       "Legal Services                                                           47\n",
       "Wholesale                                                                34\n",
       "Name: count, dtype: int64"
      ]
     },
     "execution_count": 119,
     "metadata": {},
     "output_type": "execute_result"
    }
   ],
   "source": [
    "country_grp['Industry'].value_counts().loc['United States of America']"
   ]
  },
  {
   "cell_type": "code",
   "execution_count": 120,
   "id": "c1deff71-effd-485b-8063-11827ecfee23",
   "metadata": {},
   "outputs": [
    {
     "data": {
      "text/plain": [
       "Country\n",
       "Afghanistan                                 62333.0\n",
       "Albania                                    104850.0\n",
       "Algeria                                    540000.0\n",
       "Andorra                                    120000.0\n",
       "Angola                                    2600000.0\n",
       "                                           ...     \n",
       "Venezuela, Bolivarian Republic of...        14400.0\n",
       "Viet Nam                                200000000.0\n",
       "Yemen                                        9000.0\n",
       "Zambia                                      84000.0\n",
       "Zimbabwe                                    12500.0\n",
       "Name: CompTotal, Length: 185, dtype: float64"
      ]
     },
     "execution_count": 120,
     "metadata": {},
     "output_type": "execute_result"
    }
   ],
   "source": [
    "country_grp['CompTotal'].median()"
   ]
  },
  {
   "cell_type": "code",
   "execution_count": 121,
   "id": "999f9480-7c8c-4b70-bddd-4c2dd791bb07",
   "metadata": {},
   "outputs": [
    {
     "data": {
      "text/plain": [
       "np.float64(150000.0)"
      ]
     },
     "execution_count": 121,
     "metadata": {},
     "output_type": "execute_result"
    }
   ],
   "source": [
    "country_grp['CompTotal'].median().loc['United States of America']"
   ]
  },
  {
   "cell_type": "code",
   "execution_count": 122,
   "id": "0e4f1bd4-7aba-44c9-a016-cac3e6c9e902",
   "metadata": {},
   "outputs": [
    {
     "data": {
      "text/plain": [
       "np.float64(1450000.0)"
      ]
     },
     "execution_count": 122,
     "metadata": {},
     "output_type": "execute_result"
    }
   ],
   "source": [
    "country_grp['CompTotal'].median().loc['India']"
   ]
  },
  {
   "cell_type": "markdown",
   "id": "0f9f4033-5bea-4cf1-a8c5-d1c5bfc87c4c",
   "metadata": {},
   "source": [
    "# - Aggregating data: agg(), aggregate()."
   ]
  },
  {
   "cell_type": "code",
   "execution_count": 123,
   "id": "aaa7bb28-f133-46eb-b475-3eeb1f920a05",
   "metadata": {},
   "outputs": [],
   "source": [
    "# to add multiple function at the group"
   ]
  },
  {
   "cell_type": "code",
   "execution_count": 124,
   "id": "7124d268-7db7-4a62-b6a9-3b4c5bf4ef69",
   "metadata": {},
   "outputs": [
    {
     "data": {
      "text/html": [
       "<div>\n",
       "<style scoped>\n",
       "    .dataframe tbody tr th:only-of-type {\n",
       "        vertical-align: middle;\n",
       "    }\n",
       "\n",
       "    .dataframe tbody tr th {\n",
       "        vertical-align: top;\n",
       "    }\n",
       "\n",
       "    .dataframe thead th {\n",
       "        text-align: right;\n",
       "    }\n",
       "</style>\n",
       "<table border=\"1\" class=\"dataframe\">\n",
       "  <thead>\n",
       "    <tr style=\"text-align: right;\">\n",
       "      <th></th>\n",
       "      <th>median</th>\n",
       "      <th>mean</th>\n",
       "      <th>count</th>\n",
       "    </tr>\n",
       "    <tr>\n",
       "      <th>Country</th>\n",
       "      <th></th>\n",
       "      <th></th>\n",
       "      <th></th>\n",
       "    </tr>\n",
       "  </thead>\n",
       "  <tbody>\n",
       "    <tr>\n",
       "      <th>Afghanistan</th>\n",
       "      <td>62333.0</td>\n",
       "      <td>6.666117e+07</td>\n",
       "      <td>14</td>\n",
       "    </tr>\n",
       "    <tr>\n",
       "      <th>Albania</th>\n",
       "      <td>104850.0</td>\n",
       "      <td>1.185178e+06</td>\n",
       "      <td>20</td>\n",
       "    </tr>\n",
       "    <tr>\n",
       "      <th>Algeria</th>\n",
       "      <td>540000.0</td>\n",
       "      <td>7.836667e+05</td>\n",
       "      <td>21</td>\n",
       "    </tr>\n",
       "    <tr>\n",
       "      <th>Andorra</th>\n",
       "      <td>120000.0</td>\n",
       "      <td>1.562473e+09</td>\n",
       "      <td>6</td>\n",
       "    </tr>\n",
       "    <tr>\n",
       "      <th>Angola</th>\n",
       "      <td>2600000.0</td>\n",
       "      <td>2.600000e+06</td>\n",
       "      <td>2</td>\n",
       "    </tr>\n",
       "    <tr>\n",
       "      <th>...</th>\n",
       "      <td>...</td>\n",
       "      <td>...</td>\n",
       "      <td>...</td>\n",
       "    </tr>\n",
       "    <tr>\n",
       "      <th>Venezuela, Bolivarian Republic of...</th>\n",
       "      <td>14400.0</td>\n",
       "      <td>2.482463e+04</td>\n",
       "      <td>54</td>\n",
       "    </tr>\n",
       "    <tr>\n",
       "      <th>Viet Nam</th>\n",
       "      <td>200000000.0</td>\n",
       "      <td>3.287808e+08</td>\n",
       "      <td>118</td>\n",
       "    </tr>\n",
       "    <tr>\n",
       "      <th>Yemen</th>\n",
       "      <td>9000.0</td>\n",
       "      <td>2.252071e+06</td>\n",
       "      <td>7</td>\n",
       "    </tr>\n",
       "    <tr>\n",
       "      <th>Zambia</th>\n",
       "      <td>84000.0</td>\n",
       "      <td>1.507400e+05</td>\n",
       "      <td>10</td>\n",
       "    </tr>\n",
       "    <tr>\n",
       "      <th>Zimbabwe</th>\n",
       "      <td>12500.0</td>\n",
       "      <td>2.674000e+04</td>\n",
       "      <td>10</td>\n",
       "    </tr>\n",
       "  </tbody>\n",
       "</table>\n",
       "<p>185 rows × 3 columns</p>\n",
       "</div>"
      ],
      "text/plain": [
       "                                           median          mean  count\n",
       "Country                                                               \n",
       "Afghanistan                               62333.0  6.666117e+07     14\n",
       "Albania                                  104850.0  1.185178e+06     20\n",
       "Algeria                                  540000.0  7.836667e+05     21\n",
       "Andorra                                  120000.0  1.562473e+09      6\n",
       "Angola                                  2600000.0  2.600000e+06      2\n",
       "...                                           ...           ...    ...\n",
       "Venezuela, Bolivarian Republic of...      14400.0  2.482463e+04     54\n",
       "Viet Nam                              200000000.0  3.287808e+08    118\n",
       "Yemen                                      9000.0  2.252071e+06      7\n",
       "Zambia                                    84000.0  1.507400e+05     10\n",
       "Zimbabwe                                  12500.0  2.674000e+04     10\n",
       "\n",
       "[185 rows x 3 columns]"
      ]
     },
     "execution_count": 124,
     "metadata": {},
     "output_type": "execute_result"
    }
   ],
   "source": [
    "country_grp['CompTotal'].agg(['median','mean','count'])"
   ]
  },
  {
   "cell_type": "code",
   "execution_count": 125,
   "id": "5c7cf533-219f-4a66-8b8e-08c202f1e27a",
   "metadata": {},
   "outputs": [
    {
     "data": {
      "text/plain": [
       "median    1.500000e+05\n",
       "mean      8.395602e+11\n",
       "count     1.191100e+04\n",
       "Name: United States of America, dtype: float64"
      ]
     },
     "execution_count": 125,
     "metadata": {},
     "output_type": "execute_result"
    }
   ],
   "source": [
    "country_grp['CompTotal'].agg(['median','mean','count']).loc['United States of America']"
   ]
  },
  {
   "cell_type": "code",
   "execution_count": 126,
   "id": "270ecef7-329a-4974-9a2a-5f74d8b3858e",
   "metadata": {},
   "outputs": [],
   "source": [
    "fil = df['Country'] == 'United States of America'"
   ]
  },
  {
   "cell_type": "code",
   "execution_count": 127,
   "id": "b1e7c23b-d2b4-4f2e-8b1a-3b355fac9066",
   "metadata": {},
   "outputs": [
    {
     "data": {
      "text/plain": [
       "RemoteWork\n",
       "Remote                                  8889\n",
       "Hybrid (some remote, some in-person)    5179\n",
       "In-person                               2058\n",
       "Name: count, dtype: int64"
      ]
     },
     "execution_count": 127,
     "metadata": {},
     "output_type": "execute_result"
    }
   ],
   "source": [
    "df.loc[fil]['RemoteWork'].value_counts()"
   ]
  },
  {
   "cell_type": "code",
   "execution_count": 128,
   "id": "b1283f3b-f9a8-4fd9-b9c0-aaf5886897cf",
   "metadata": {},
   "outputs": [
    {
     "data": {
      "text/plain": [
       "1         True\n",
       "2        False\n",
       "3        False\n",
       "6         True\n",
       "7         True\n",
       "         ...  \n",
       "89150     True\n",
       "89154    False\n",
       "89156     True\n",
       "89175     True\n",
       "89178     True\n",
       "Name: RemoteWork, Length: 18647, dtype: object"
      ]
     },
     "execution_count": 128,
     "metadata": {},
     "output_type": "execute_result"
    }
   ],
   "source": [
    "df.loc[fil]['RemoteWork'].str.contains('Remote')"
   ]
  },
  {
   "cell_type": "code",
   "execution_count": 129,
   "id": "767028be-4042-4219-8625-c9bc056904a1",
   "metadata": {},
   "outputs": [
    {
     "data": {
      "text/plain": [
       "8889"
      ]
     },
     "execution_count": 129,
     "metadata": {},
     "output_type": "execute_result"
    }
   ],
   "source": [
    "df.loc[fil]['RemoteWork'].str.contains('Remote').sum()"
   ]
  },
  {
   "cell_type": "markdown",
   "id": "72bd9057-f3bd-4755-8bfb-2a3e1fd2fd29",
   "metadata": {},
   "source": [
    "#### ERROR GROUP DOES NOT HAVE 'str'"
   ]
  },
  {
   "cell_type": "code",
   "execution_count": 130,
   "id": "38d5f47a-923f-4ecf-b35d-310bd91f40c4",
   "metadata": {},
   "outputs": [
    {
     "ename": "AttributeError",
     "evalue": "'SeriesGroupBy' object has no attribute 'str'",
     "output_type": "error",
     "traceback": [
      "\u001b[1;31m---------------------------------------------------------------------------\u001b[0m",
      "\u001b[1;31mAttributeError\u001b[0m                            Traceback (most recent call last)",
      "Cell \u001b[1;32mIn[130], line 1\u001b[0m\n\u001b[1;32m----> 1\u001b[0m \u001b[43mcountry_grp\u001b[49m\u001b[43m[\u001b[49m\u001b[38;5;124;43m'\u001b[39;49m\u001b[38;5;124;43mRemoteWork\u001b[39;49m\u001b[38;5;124;43m'\u001b[39;49m\u001b[43m]\u001b[49m\u001b[38;5;241;43m.\u001b[39;49m\u001b[43mstr\u001b[49m\u001b[38;5;241m.\u001b[39mcontains(\u001b[38;5;124m'\u001b[39m\u001b[38;5;124mRemote\u001b[39m\u001b[38;5;124m'\u001b[39m)\u001b[38;5;241m.\u001b[39msum()\n",
      "File \u001b[1;32mC:\\Python311\\Lib\\site-packages\\pandas\\core\\groupby\\groupby.py:1363\u001b[0m, in \u001b[0;36mGroupBy.__getattr__\u001b[1;34m(self, attr)\u001b[0m\n\u001b[0;32m   1360\u001b[0m \u001b[38;5;28;01mif\u001b[39;00m attr \u001b[38;5;129;01min\u001b[39;00m \u001b[38;5;28mself\u001b[39m\u001b[38;5;241m.\u001b[39mobj:\n\u001b[0;32m   1361\u001b[0m     \u001b[38;5;28;01mreturn\u001b[39;00m \u001b[38;5;28mself\u001b[39m[attr]\n\u001b[1;32m-> 1363\u001b[0m \u001b[38;5;28;01mraise\u001b[39;00m \u001b[38;5;167;01mAttributeError\u001b[39;00m(\n\u001b[0;32m   1364\u001b[0m     \u001b[38;5;124mf\u001b[39m\u001b[38;5;124m\"\u001b[39m\u001b[38;5;124m'\u001b[39m\u001b[38;5;132;01m{\u001b[39;00m\u001b[38;5;28mtype\u001b[39m(\u001b[38;5;28mself\u001b[39m)\u001b[38;5;241m.\u001b[39m\u001b[38;5;18m__name__\u001b[39m\u001b[38;5;132;01m}\u001b[39;00m\u001b[38;5;124m'\u001b[39m\u001b[38;5;124m object has no attribute \u001b[39m\u001b[38;5;124m'\u001b[39m\u001b[38;5;132;01m{\u001b[39;00mattr\u001b[38;5;132;01m}\u001b[39;00m\u001b[38;5;124m'\u001b[39m\u001b[38;5;124m\"\u001b[39m\n\u001b[0;32m   1365\u001b[0m )\n",
      "\u001b[1;31mAttributeError\u001b[0m: 'SeriesGroupBy' object has no attribute 'str'"
     ]
    }
   ],
   "source": [
    "country_grp['RemoteWork'].str.contains('Remote').sum()"
   ]
  },
  {
   "cell_type": "code",
   "execution_count": 144,
   "id": "b1f65fa4-a0fc-429c-8b79-3794d07a0aa4",
   "metadata": {},
   "outputs": [
    {
     "data": {
      "text/plain": [
       "np.int64(8889)"
      ]
     },
     "execution_count": 144,
     "metadata": {},
     "output_type": "execute_result"
    }
   ],
   "source": [
    "country_grp['RemoteWork'].apply(lambda x: x.str.contains('Remote').sum()).loc['United States of America']"
   ]
  },
  {
   "cell_type": "code",
   "execution_count": 145,
   "id": "22250eef-6da4-4f4f-9e5c-7b90a707f23a",
   "metadata": {},
   "outputs": [
    {
     "data": {
      "text/plain": [
       "RemoteWork\n",
       "Remote                                  8889\n",
       "Hybrid (some remote, some in-person)    5179\n",
       "In-person                               2058\n",
       "Name: count, dtype: int64"
      ]
     },
     "execution_count": 145,
     "metadata": {},
     "output_type": "execute_result"
    }
   ],
   "source": [
    "country_grp['RemoteWork'].value_counts().loc['United States of America']"
   ]
  },
  {
   "cell_type": "markdown",
   "id": "ac86c095-d2ef-4dd9-81b9-b11673ae7041",
   "metadata": {},
   "source": [
    "# what % of people from each country know python"
   ]
  },
  {
   "cell_type": "code",
   "execution_count": 142,
   "id": "1d126635-a587-496c-9612-55608b6c2cae",
   "metadata": {},
   "outputs": [
    {
     "data": {
      "text/plain": [
       "LanguageHaveWorkedWith\n",
       "HTML/CSS;JavaScript;TypeScript                      208\n",
       "Python                                              196\n",
       "C#;HTML/CSS;JavaScript;SQL;TypeScript               143\n",
       "C#;HTML/CSS;JavaScript;SQL                          123\n",
       "C#;HTML/CSS;JavaScript;PowerShell;SQL;TypeScript    108\n",
       "                                                   ... \n",
       "SQL;Swift                                             1\n",
       "SQL;VBA;Visual Basic (.Net)                           1\n",
       "Scala;SQL                                             1\n",
       "VBA;Visual Basic (.Net)                               1\n",
       "Zig                                                   1\n",
       "Name: count, Length: 9679, dtype: int64"
      ]
     },
     "execution_count": 142,
     "metadata": {},
     "output_type": "execute_result"
    }
   ],
   "source": [
    "country_grp['LanguageHaveWorkedWith'].value_counts().loc['United States of America']"
   ]
  },
  {
   "cell_type": "code",
   "execution_count": 143,
   "id": "a2be1c45-5a8a-4ba3-9ea4-1fdfbe7de362",
   "metadata": {},
   "outputs": [
    {
     "data": {
      "text/plain": [
       "np.int64(10062)"
      ]
     },
     "execution_count": 143,
     "metadata": {},
     "output_type": "execute_result"
    }
   ],
   "source": [
    "country_grp['LanguageHaveWorkedWith'].apply(lambda x: x.str.contains('Python').sum()).loc['United States of America']"
   ]
  },
  {
   "cell_type": "markdown",
   "id": "7c274fce-dbf3-41a7-88f2-99346e39fd2f",
   "metadata": {},
   "source": [
    "# by using filter method"
   ]
  },
  {
   "cell_type": "code",
   "execution_count": null,
   "id": "7d0f0cfa-ba94-4ca9-acee-36804ff2d51b",
   "metadata": {},
   "outputs": [],
   "source": [
    "filt = df['Country'] == 'United States of America'"
   ]
  },
  {
   "cell_type": "code",
   "execution_count": null,
   "id": "9fced313-3ed0-4652-8600-b324b548ee35",
   "metadata": {},
   "outputs": [],
   "source": [
    "df.loc[filt]['LanguageHaveWorkedWith'].value_counts()"
   ]
  },
  {
   "cell_type": "code",
   "execution_count": null,
   "id": "4b6057e6-001f-4211-ba90-9190b067ecd2",
   "metadata": {},
   "outputs": [],
   "source": [
    "df.loc[filt]['LanguageHaveWorkedWith'].str.contains('Python').sum()"
   ]
  },
  {
   "cell_type": "code",
   "execution_count": null,
   "id": "ca41c44f-3f66-4e06-9161-3d9123573805",
   "metadata": {},
   "outputs": [],
   "source": []
  },
  {
   "cell_type": "code",
   "execution_count": null,
   "id": "32b48adb-bc51-44cd-846d-9588912243fb",
   "metadata": {},
   "outputs": [],
   "source": []
  },
  {
   "cell_type": "markdown",
   "id": "31760fbe-ee96-42e6-81aa-b2b53cfe0180",
   "metadata": {},
   "source": [
    "# - *Data Merging and Concatenation*:\n",
    "####  - Merging DataFrames: merge().\n",
    "####  - Concatenating DataFrames: concat().\n",
    "####  - Joining DataFrames: join()."
   ]
  },
  {
   "cell_type": "markdown",
   "id": "7c7fc161-f4cc-4b48-b283-8b29d786089c",
   "metadata": {},
   "source": [
    "# - Concatenating DataFrames: concat()."
   ]
  },
  {
   "cell_type": "markdown",
   "id": "f82ddd6d-5191-410d-a824-9fbb313e23f4",
   "metadata": {},
   "source": [
    "#### anser the question with concalt()"
   ]
  },
  {
   "cell_type": "code",
   "execution_count": null,
   "id": "a8d357e3-be18-4c17-b966-1cc9cdc359d3",
   "metadata": {},
   "outputs": [],
   "source": [
    "country_pd = df['Country'].value_counts()"
   ]
  },
  {
   "cell_type": "code",
   "execution_count": null,
   "id": "b55865a4-df10-4350-8a33-2e0c1f49532d",
   "metadata": {},
   "outputs": [],
   "source": [
    "country_pd  # total no of people in each country"
   ]
  },
  {
   "cell_type": "code",
   "execution_count": null,
   "id": "e3b452ea-c204-44a0-bf39-793eb526d6b0",
   "metadata": {},
   "outputs": [],
   "source": [
    "country_use_python = country_grp['LanguageHaveWorkedWith'].apply(lambda x: x.str.contains('Python').sum())"
   ]
  },
  {
   "cell_type": "code",
   "execution_count": null,
   "id": "a20d0c58-3d18-4756-bfb3-04ea5060b996",
   "metadata": {},
   "outputs": [],
   "source": [
    "country_use_python   # total no of people in each country knows python"
   ]
  },
  {
   "cell_type": "code",
   "execution_count": null,
   "id": "53bef11f-8cc8-4206-b0bf-aae7adf80c3b",
   "metadata": {},
   "outputs": [],
   "source": [
    "concat_df = pd.concat([country_pd,country_use_python], axis= 'columns')"
   ]
  },
  {
   "cell_type": "code",
   "execution_count": null,
   "id": "2032ceea-b3f0-4172-8fd3-04442a505717",
   "metadata": {},
   "outputs": [],
   "source": [
    "concat_df"
   ]
  },
  {
   "cell_type": "code",
   "execution_count": null,
   "id": "160c46df-b071-4017-8f01-6784c3651c29",
   "metadata": {},
   "outputs": [],
   "source": [
    "concat_df1 = pd.concat([country_pd,country_use_python])  # example of without axis or axis = 0\n",
    "concat_df1"
   ]
  },
  {
   "cell_type": "code",
   "execution_count": null,
   "id": "63b89f57-bba1-4a5d-bad0-1bc13adc45ce",
   "metadata": {},
   "outputs": [],
   "source": [
    "concat_df.rename(columns = {'count': 'totalResponse', 'LanguageHaveWorkedWith': 'pythonKnows' },inplace = True)"
   ]
  },
  {
   "cell_type": "code",
   "execution_count": null,
   "id": "e75d6601-a606-4bf8-8389-de41e529d043",
   "metadata": {},
   "outputs": [],
   "source": [
    "concat_df"
   ]
  },
  {
   "cell_type": "code",
   "execution_count": null,
   "id": "013a216a-33fe-4776-85b0-0200e05e2a96",
   "metadata": {},
   "outputs": [],
   "source": [
    "concat_df['perKnowsPython'] = (concat_df['pythonKnows'] / concat_df['totalResponse']) * 100"
   ]
  },
  {
   "cell_type": "code",
   "execution_count": null,
   "id": "9f5dd5fb-1d84-40eb-93d5-c8ce3e005108",
   "metadata": {},
   "outputs": [],
   "source": [
    "concat_df"
   ]
  },
  {
   "cell_type": "code",
   "execution_count": null,
   "id": "a60dcc5c-615b-4637-90f5-48dd82dd14f1",
   "metadata": {},
   "outputs": [],
   "source": [
    "concat_df.sort_values(by = 'perKnowsPython',ascending= False)"
   ]
  },
  {
   "cell_type": "code",
   "execution_count": null,
   "id": "3f34a53e-b5a9-498f-9ad2-b8cbd3b8b0c3",
   "metadata": {},
   "outputs": [],
   "source": [
    "concat_df.loc['Germany']"
   ]
  },
  {
   "cell_type": "markdown",
   "id": "67beec85-40e3-487a-9817-86a2be601279",
   "metadata": {},
   "source": [
    "# - Merging DataFrames: merge()."
   ]
  },
  {
   "cell_type": "code",
   "execution_count": null,
   "id": "cce344bd-8c38-475c-996e-89b4e8763a86",
   "metadata": {},
   "outputs": [],
   "source": [
    "# merge by column here that represent key"
   ]
  },
  {
   "cell_type": "code",
   "execution_count": null,
   "id": "82f6e33e-8440-4e26-a42c-242310dcce9d",
   "metadata": {},
   "outputs": [],
   "source": [
    "left = pd.DataFrame({\n",
    "    'key':['k0','k1','k2'],\n",
    "    'a':[0,0,0],\n",
    "    'b':[1,1,1]\n",
    "})"
   ]
  },
  {
   "cell_type": "code",
   "execution_count": null,
   "id": "e14ba2f5-ced1-49bb-bf05-937c245437f9",
   "metadata": {},
   "outputs": [],
   "source": [
    "right = pd.DataFrame({\n",
    "    'key':['k0','k1','k2'],\n",
    "    'c':[0,0,0],\n",
    "    'd':[1,1,1]\n",
    "})"
   ]
  },
  {
   "cell_type": "code",
   "execution_count": null,
   "id": "71908520-eada-4082-8d40-362369345fd6",
   "metadata": {},
   "outputs": [],
   "source": [
    "pd.merge(left,right,how='inner',on='key') # how='inner' is by default"
   ]
  },
  {
   "cell_type": "code",
   "execution_count": null,
   "id": "7557c547-0196-42b5-aa14-7035ad79f4b8",
   "metadata": {},
   "outputs": [],
   "source": [
    "left = pd.DataFrame({\n",
    "    'key1':['k0','k0','k1','k2'],\n",
    "    'key2':['k0','k1','k0','k2'],\n",
    "    'a':[0,0,0,1],\n",
    "    'b':[1,1,1,2]\n",
    "})"
   ]
  },
  {
   "cell_type": "code",
   "execution_count": null,
   "id": "9b433421-31fc-4b5f-bf29-526f0e1b2fd6",
   "metadata": {},
   "outputs": [],
   "source": [
    "right = pd.DataFrame({\n",
    "    'key1':['k0','k1','k1','k1'],\n",
    "    'key2':['k0','k0','k2','k0'],\n",
    "    'c':[0,0,0,2],\n",
    "    'd':[1,1,1,0]\n",
    "})"
   ]
  },
  {
   "cell_type": "code",
   "execution_count": null,
   "id": "aeb4932c-c090-4a05-a59a-cba834d4be72",
   "metadata": {},
   "outputs": [],
   "source": [
    "pd.merge(left,right,on=['key1','key2']) # by default inner merge"
   ]
  },
  {
   "cell_type": "code",
   "execution_count": null,
   "id": "1a507330-4f02-47db-9660-96a7a3bfeb0d",
   "metadata": {},
   "outputs": [],
   "source": [
    "pd.merge(left,right,how='outer',on=['key1','key2']) # by outer merge"
   ]
  },
  {
   "cell_type": "code",
   "execution_count": null,
   "id": "193243d1-44d3-4523-9c8c-37b173ae5e02",
   "metadata": {},
   "outputs": [],
   "source": [
    "pd.merge(left,right,how='left',on=['key1','key2']) # by left merge"
   ]
  },
  {
   "cell_type": "code",
   "execution_count": null,
   "id": "f809b039-3945-40e4-ba0d-db38c2db1ef9",
   "metadata": {},
   "outputs": [],
   "source": [
    "pd.merge(left,right,how='right',on=['key1','key2']) # by right merge"
   ]
  },
  {
   "cell_type": "markdown",
   "id": "c96673a5-c0f6-45c3-927e-2ad0c9363597",
   "metadata": {},
   "source": [
    "# - Joining DataFrames: join()."
   ]
  },
  {
   "cell_type": "code",
   "execution_count": null,
   "id": "4af7a8ab-abb7-4f16-a4a4-863cb062acdb",
   "metadata": {},
   "outputs": [],
   "source": [
    "# joining by index"
   ]
  },
  {
   "cell_type": "code",
   "execution_count": null,
   "id": "1ebf9826-8fe2-433b-99fb-60871a8cd324",
   "metadata": {},
   "outputs": [],
   "source": [
    "left = pd.DataFrame({\n",
    "    'a':[0,0,0],\n",
    "    'b':[1,1,1]},\n",
    "    index=['k0','k1','k2'] )"
   ]
  },
  {
   "cell_type": "code",
   "execution_count": null,
   "id": "1cc2c2c0-73ce-425f-95de-9690bdd7c364",
   "metadata": {},
   "outputs": [],
   "source": [
    "right = pd.DataFrame({\n",
    "    'c':[0,0,0],\n",
    "    'd':[1,1,1]\n",
    "},\n",
    "    index=['k0','k2','k3'])"
   ]
  },
  {
   "cell_type": "code",
   "execution_count": null,
   "id": "765a0bee-108d-4a09-800c-29853bb0359d",
   "metadata": {},
   "outputs": [],
   "source": [
    "left.join(right)"
   ]
  },
  {
   "cell_type": "code",
   "execution_count": null,
   "id": "9951242e-a47a-470f-86b1-8bd8eca58d9e",
   "metadata": {},
   "outputs": [],
   "source": [
    "left.join(right, how= 'outer')"
   ]
  },
  {
   "cell_type": "code",
   "execution_count": null,
   "id": "ffa14144-c122-4f74-b392-77ca4aa7c054",
   "metadata": {},
   "outputs": [],
   "source": []
  },
  {
   "cell_type": "markdown",
   "id": "f5d7bee8-a61d-44a2-a63b-f0e10eae93b8",
   "metadata": {},
   "source": [
    "#  crosstab(index, column)"
   ]
  },
  {
   "cell_type": "code",
   "execution_count": null,
   "id": "fb737ff6-9f66-4873-9bb9-5260aba9632d",
   "metadata": {},
   "outputs": [],
   "source": [
    "pd.crosstab(df.Country, df.RemoteWork)"
   ]
  },
  {
   "cell_type": "markdown",
   "id": "e7259078-c52c-4041-97bc-10ab1047c64f",
   "metadata": {},
   "source": [
    "# margins = True"
   ]
  },
  {
   "cell_type": "code",
   "execution_count": null,
   "id": "b0796475-7bcf-46cf-87d6-6184da6999fc",
   "metadata": {},
   "outputs": [],
   "source": [
    "pd.crosstab(df.Country, df.RemoteWork,margins = True)"
   ]
  },
  {
   "cell_type": "code",
   "execution_count": null,
   "id": "f794507f-d328-4cb9-a509-b2c473dda165",
   "metadata": {},
   "outputs": [],
   "source": [
    "pd.crosstab(df.Country, df.RemoteWork,margins = True)"
   ]
  },
  {
   "cell_type": "code",
   "execution_count": null,
   "id": "f609b3cb-301c-43d3-9a59-7c11b5d864fa",
   "metadata": {},
   "outputs": [],
   "source": [
    "df.columns"
   ]
  },
  {
   "cell_type": "code",
   "execution_count": null,
   "id": "ee72c3f6-1faf-455b-95cd-8a70ab5473ea",
   "metadata": {},
   "outputs": [],
   "source": [
    "df['SurveyLength'].value_counts()"
   ]
  },
  {
   "cell_type": "code",
   "execution_count": null,
   "id": "10f18854-7da3-476d-a950-cb390b18eca8",
   "metadata": {},
   "outputs": [],
   "source": [
    "pd.crosstab([df.Country,df.SurveyLength], df.RemoteWork,margins = True)"
   ]
  },
  {
   "cell_type": "code",
   "execution_count": null,
   "id": "d6826172-cf25-4685-85aa-53e1128b7f39",
   "metadata": {},
   "outputs": [],
   "source": [
    "pd.crosstab(df.Country,[df.SurveyLength, df.RemoteWork],margins = True)"
   ]
  },
  {
   "cell_type": "code",
   "execution_count": null,
   "id": "30217c37-03c9-45bc-9e3c-0f4a4a8c7300",
   "metadata": {},
   "outputs": [],
   "source": [
    "pd.crosstab(df.Country, df.RemoteWork,normalize  = 'index')"
   ]
  },
  {
   "cell_type": "code",
   "execution_count": null,
   "id": "397e33db-2654-45f1-81ee-860a51d73c66",
   "metadata": {},
   "outputs": [],
   "source": [
    "# pd.crosstab(df.Country, df.RemoteWork,values = df.Age, aggfunc = np.average)"
   ]
  },
  {
   "cell_type": "code",
   "execution_count": null,
   "id": "780181f5-ed79-44d4-ac72-84c3799a042d",
   "metadata": {},
   "outputs": [],
   "source": []
  },
  {
   "cell_type": "code",
   "execution_count": null,
   "id": "df71c038-d830-4027-ae1a-19db7c377af3",
   "metadata": {},
   "outputs": [],
   "source": []
  },
  {
   "cell_type": "markdown",
   "id": "bde25653-a844-48e0-86dd-5c52808af802",
   "metadata": {},
   "source": [
    "# - *Reshaping Data*:\n",
    "####  - Pivot tables: pivot_table().\n",
    "####  - Melting data: melt()."
   ]
  },
  {
   "cell_type": "code",
   "execution_count": null,
   "id": "1fdfb523-356c-4c4e-94c4-b4f5eca6cedb",
   "metadata": {},
   "outputs": [],
   "source": [
    "dataset = {'date': ['5/1/2017','2/2/2017','3/5/2017','5/1/2017','2/2/2017','3/5/2017','5/1/2017','2/2/2017','3/5/2017'],\n",
    "          'city': ['mumbai','mumbai','mumbai','bbsr','bbsr','bbsr','kolkata','kolkata','kolkata'],\n",
    "          'temperature': [26,36,54,78,98,54,57,94,28],\n",
    "          'humidity': [57,94,28,36,54,78,98,54,57]}"
   ]
  },
  {
   "cell_type": "code",
   "execution_count": null,
   "id": "464e101e-0eac-4627-b5af-7feafe12dfb6",
   "metadata": {},
   "outputs": [],
   "source": [
    "reshapedata = pd.DataFrame(dataset)"
   ]
  },
  {
   "cell_type": "code",
   "execution_count": null,
   "id": "5c55d476-5846-466c-8f49-1055c069a42a",
   "metadata": {},
   "outputs": [],
   "source": [
    "reshapedata"
   ]
  },
  {
   "cell_type": "code",
   "execution_count": null,
   "id": "49764e84-6007-4b98-9c2a-579e98028179",
   "metadata": {},
   "outputs": [],
   "source": [
    "reshapedata.pivot(index= 'date',columns = 'city')"
   ]
  },
  {
   "cell_type": "code",
   "execution_count": null,
   "id": "bfb42085-32eb-4a7c-bbbc-77d4ea764d86",
   "metadata": {},
   "outputs": [],
   "source": [
    "reshapedata.pivot(index= 'date',columns = 'city',values= 'temperature' )"
   ]
  },
  {
   "cell_type": "code",
   "execution_count": null,
   "id": "5af525d8-681d-44f1-93ac-a456867f2e5b",
   "metadata": {},
   "outputs": [],
   "source": [
    "reshapedata.pivot(index= 'humidity',columns = 'city')"
   ]
  },
  {
   "cell_type": "markdown",
   "id": "bb1d384d-1d1a-450e-814f-831255cfb78a",
   "metadata": {},
   "source": [
    "# pivot_table()"
   ]
  },
  {
   "cell_type": "code",
   "execution_count": null,
   "id": "959d4ec5-7870-42a5-80a7-ad7882b36c3d",
   "metadata": {},
   "outputs": [],
   "source": []
  },
  {
   "cell_type": "code",
   "execution_count": null,
   "id": "9e23b0b8-e6bf-451e-aaa0-9891cf94709b",
   "metadata": {},
   "outputs": [],
   "source": []
  },
  {
   "cell_type": "code",
   "execution_count": null,
   "id": "7e2dd1b3-8ed4-46f8-8aee-6c166e10b929",
   "metadata": {},
   "outputs": [],
   "source": [
    "reshapedata.pivot_table(index= 'date',columns = 'city')"
   ]
  },
  {
   "cell_type": "code",
   "execution_count": null,
   "id": "a034c496-1061-4e53-bba9-17f606e65dce",
   "metadata": {},
   "outputs": [],
   "source": [
    "reshapedata.pivot_table(index= 'date',columns = 'city',values= 'temperature' )"
   ]
  },
  {
   "cell_type": "code",
   "execution_count": null,
   "id": "c80701ca-d3bb-4bb5-a776-7030190b2b4f",
   "metadata": {},
   "outputs": [],
   "source": [
    "reshapedata.pivot_table(index= 'city',columns = 'date')"
   ]
  },
  {
   "cell_type": "code",
   "execution_count": null,
   "id": "bb6a44ed-88a1-4dc8-a549-c35dd9380ce7",
   "metadata": {},
   "outputs": [],
   "source": [
    "reshapedata.pivot_table(index= 'city',columns = 'date',aggfunc= 'mean')"
   ]
  },
  {
   "cell_type": "code",
   "execution_count": null,
   "id": "9de0606e-8166-4ea9-9ab9-73945348282f",
   "metadata": {},
   "outputs": [],
   "source": [
    "dataset1 = {'date': ['5/1/2017','2/2/2017','5/1/2017','2/2/2017','5/1/2017','2/2/2017','5/1/2017','2/2/2017','5/1/2017'],\n",
    "          'city': ['mumbai','mumbai','mumbai','bbsr','bbsr','bbsr','mumbai','bbsr','bbsr'],\n",
    "          'temperature': [26,36,54,78,98,54,57,94,28],\n",
    "          'humidity': [57,94,28,36,54,78,98,54,57]}"
   ]
  },
  {
   "cell_type": "code",
   "execution_count": null,
   "id": "c1b2d169-73c7-443b-9bee-a70c9bc08d66",
   "metadata": {},
   "outputs": [],
   "source": [
    "dataa = pd.DataFrame(dataset1)\n",
    "dataa"
   ]
  },
  {
   "cell_type": "code",
   "execution_count": null,
   "id": "94d70d9e-a5f4-4213-b1c3-c0b4de9ba8d5",
   "metadata": {},
   "outputs": [],
   "source": [
    "dataa.pivot_table(index = 'city',columns= 'date')"
   ]
  },
  {
   "cell_type": "code",
   "execution_count": null,
   "id": "10c5e8e8-0b6f-448b-adf5-1fe221fe4f61",
   "metadata": {},
   "outputs": [],
   "source": [
    "dataa.pivot_table(index = 'city',columns= 'date',aggfunc = 'mean')"
   ]
  },
  {
   "cell_type": "code",
   "execution_count": null,
   "id": "f8682ec5-255f-4df3-93af-4be0ae892ede",
   "metadata": {},
   "outputs": [],
   "source": [
    "dataa.pivot_table(index = 'city',columns= 'date',aggfunc = 'sum')"
   ]
  },
  {
   "cell_type": "code",
   "execution_count": null,
   "id": "d3709a19-7a28-4915-8929-6d3c0331c4bd",
   "metadata": {},
   "outputs": [],
   "source": [
    "dataa.pivot_table(index = 'city',columns= 'date',margins= True)"
   ]
  },
  {
   "cell_type": "markdown",
   "id": "c931f4d5-fc4a-4282-b6ba-885bbb9cef48",
   "metadata": {},
   "source": [
    "## convert str to date"
   ]
  },
  {
   "cell_type": "code",
   "execution_count": null,
   "id": "164862ba-b25d-48eb-848b-1dcb7a804720",
   "metadata": {},
   "outputs": [],
   "source": [
    "dataa['date'] = pd.to_datetime(dataa['date'])\n",
    "dataa"
   ]
  },
  {
   "cell_type": "code",
   "execution_count": null,
   "id": "694b63df-071e-4690-984f-8a48db0f8e68",
   "metadata": {},
   "outputs": [],
   "source": [
    "dataa.pivot_table(index = pd.Grouper(freq= 'ME',key= 'date'),columns= 'city')"
   ]
  },
  {
   "cell_type": "code",
   "execution_count": null,
   "id": "59bba7e9-853c-4494-a320-6201570437f0",
   "metadata": {},
   "outputs": [],
   "source": []
  },
  {
   "cell_type": "code",
   "execution_count": null,
   "id": "47802a8c-e4c9-4900-bd00-682866ad9334",
   "metadata": {},
   "outputs": [],
   "source": []
  },
  {
   "cell_type": "code",
   "execution_count": null,
   "id": "26f248af-21ac-48b1-88c2-46ef27d7bf49",
   "metadata": {},
   "outputs": [],
   "source": []
  },
  {
   "cell_type": "code",
   "execution_count": null,
   "id": "b282c717-48e8-45c9-b9cd-5a90950abf1e",
   "metadata": {},
   "outputs": [],
   "source": [
    "#### 6. Working with Time Series\n",
    "# - *Date and Time Functions*:\n",
    "#  - Converting to datetime: to_datetime().\n",
    "#  - Extracting date and time components: .dt accessor.\n",
    "\n",
    "# - *Time Series Analysis*:\n",
    "#  - Resampling data: resample().\n",
    "#  - Rolling windows: rolling().\n",
    "#  - time series data: date_range(), DataFrame(np.random.randn(6, 4), index=dates, columns=list('ABCD'))\n"
   ]
  },
  {
   "cell_type": "code",
   "execution_count": null,
   "id": "81eae1b2-d6ff-4736-97ee-8d581d0916b0",
   "metadata": {},
   "outputs": [],
   "source": [
    "#### 7. Input and Output\n",
    "# - *Reading and Writing Data*:\n",
    "#  - Reading data from various formats: read_csv(), read_excel(), read_json().\n",
    "#  - Writing data to files: to_csv(), to_excel(), to_json().\n"
   ]
  },
  {
   "cell_type": "code",
   "execution_count": null,
   "id": "169a4050-b3f8-4f3f-9851-b08c45460398",
   "metadata": {},
   "outputs": [],
   "source": [
    "#### - Reading data from various formats: read_csv(), read_excel(), read_json().\n",
    "csv = pd.read_csv()\n",
    "excel = pd.read_excel()\n",
    "json = pd.read_json()\n",
    "df = pd.DataFrame(csv)"
   ]
  },
  {
   "cell_type": "code",
   "execution_count": null,
   "id": "609e1024-dcb9-430f-96fb-af072c6e9b84",
   "metadata": {},
   "outputs": [],
   "source": [
    "#####  - Writing data to files: to_csv(), to_excel(), to_json().\n",
    "df.to_csv()\n",
    "df.to_excel()\n",
    "df.to_json()\n"
   ]
  },
  {
   "cell_type": "code",
   "execution_count": null,
   "id": "2fad06a9-4cbe-4281-941c-3ad6bd86c33f",
   "metadata": {},
   "outputs": [],
   "source": []
  },
  {
   "cell_type": "code",
   "execution_count": null,
   "id": "69eb9524-82f5-4e20-9107-321e348333a6",
   "metadata": {},
   "outputs": [],
   "source": [
    "######  - Writing data to files: to_csv(), to_excel(), to_json().\n",
    "df.to_csv()\n",
    "df.to_excel()\n",
    "df.to_json()\n",
    "# to do the end of the colon of colon for the "
   ]
  },
  {
   "cell_type": "markdown",
   "id": "a53e1984-d76a-42b1-b52f-5be03f4cff14",
   "metadata": {},
   "source": [
    "# 33:35 VIDEO STAMP"
   ]
  },
  {
   "cell_type": "code",
   "execution_count": null,
   "id": "62c36d04-4173-42e4-af05-a72276892e20",
   "metadata": {},
   "outputs": [],
   "source": [
    "#### bash-language-server, dockerfile-language-server-nodejs, javascript-typescript-langserver, jedi-language-server, julia-language-server, pyright, python-language-server, python-lsp-server, r-languageserver, sql-language-server, texlab, typescript-language-server, unified-language-server, vscode-css-languageserver-bin, vscode-html-languageserver-bin, vscode-json-languageserver-bin, yaml-language-server"
   ]
  }
 ],
 "metadata": {
  "kernelspec": {
   "display_name": "Python 3 (ipykernel)",
   "language": "python",
   "name": "python3"
  },
  "language_info": {
   "codemirror_mode": {
    "name": "ipython",
    "version": 3
   },
   "file_extension": ".py",
   "mimetype": "text/x-python",
   "name": "python",
   "nbconvert_exporter": "python",
   "pygments_lexer": "ipython3",
   "version": "3.11.2"
  }
 },
 "nbformat": 4,
 "nbformat_minor": 5
}
